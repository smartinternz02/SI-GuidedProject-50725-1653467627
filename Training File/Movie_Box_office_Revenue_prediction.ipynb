{
 "cells": [
  {
   "cell_type": "markdown",
   "id": "handy-chancellor",
   "metadata": {},
   "source": [
    "# Movie Box_office_gross_prediction\n"
   ]
  },
  {
   "cell_type": "code",
   "execution_count": 2,
   "id": "separated-understanding",
   "metadata": {},
   "outputs": [],
   "source": [
    "#import the necessary libraries\n",
    "import pandas as pd #data manipulation\n",
    "import numpy as np #Numerical Analysis\n",
    "import seaborn as sns #data visualization\n",
    "import json #for reading json object\n",
    "import matplotlib.pyplot as plt #data visualization\n",
    "import pickle # For saving the model file\n",
    "from ast import literal_eval#to evaluate the string as pyhton expression"
   ]
  },
  {
   "cell_type": "markdown",
   "id": "driving-spotlight",
   "metadata": {},
   "source": [
    "## 1. Reading the dataset"
   ]
  },
  {
   "cell_type": "code",
   "execution_count": 3,
   "id": "sealed-congress",
   "metadata": {},
   "outputs": [],
   "source": [
    "\n",
    "credits=pd.read_csv(r\"tmdb_5000_credits.csv\")"
   ]
  },
  {
   "cell_type": "code",
   "execution_count": 4,
   "id": "rough-digit",
   "metadata": {},
   "outputs": [],
   "source": [
    "movies_df=pd.read_csv(r\"tmdb_5000_movies.csv\")"
   ]
  },
  {
   "cell_type": "markdown",
   "id": "conscious-clinic",
   "metadata": {},
   "source": [
    "## 2.Exploratory Data Analysis"
   ]
  },
  {
   "cell_type": "code",
   "execution_count": 5,
   "id": "lightweight-vaccine",
   "metadata": {
    "scrolled": false
   },
   "outputs": [
    {
     "data": {
      "text/html": [
       "<div>\n",
       "<style scoped>\n",
       "    .dataframe tbody tr th:only-of-type {\n",
       "        vertical-align: middle;\n",
       "    }\n",
       "\n",
       "    .dataframe tbody tr th {\n",
       "        vertical-align: top;\n",
       "    }\n",
       "\n",
       "    .dataframe thead th {\n",
       "        text-align: right;\n",
       "    }\n",
       "</style>\n",
       "<table border=\"1\" class=\"dataframe\">\n",
       "  <thead>\n",
       "    <tr style=\"text-align: right;\">\n",
       "      <th></th>\n",
       "      <th>movie_id</th>\n",
       "      <th>title</th>\n",
       "      <th>cast</th>\n",
       "      <th>crew</th>\n",
       "    </tr>\n",
       "  </thead>\n",
       "  <tbody>\n",
       "    <tr>\n",
       "      <th>0</th>\n",
       "      <td>19995</td>\n",
       "      <td>Avatar</td>\n",
       "      <td>[{\"cast_id\": 242, \"character\": \"Jake Sully\", \"...</td>\n",
       "      <td>[{\"credit_id\": \"52fe48009251416c750aca23\", \"de...</td>\n",
       "    </tr>\n",
       "    <tr>\n",
       "      <th>1</th>\n",
       "      <td>285</td>\n",
       "      <td>Pirates of the Caribbean: At World's End</td>\n",
       "      <td>[{\"cast_id\": 4, \"character\": \"Captain Jack Spa...</td>\n",
       "      <td>[{\"credit_id\": \"52fe4232c3a36847f800b579\", \"de...</td>\n",
       "    </tr>\n",
       "    <tr>\n",
       "      <th>2</th>\n",
       "      <td>206647</td>\n",
       "      <td>Spectre</td>\n",
       "      <td>[{\"cast_id\": 1, \"character\": \"James Bond\", \"cr...</td>\n",
       "      <td>[{\"credit_id\": \"54805967c3a36829b5002c41\", \"de...</td>\n",
       "    </tr>\n",
       "    <tr>\n",
       "      <th>3</th>\n",
       "      <td>49026</td>\n",
       "      <td>The Dark Knight Rises</td>\n",
       "      <td>[{\"cast_id\": 2, \"character\": \"Bruce Wayne / Ba...</td>\n",
       "      <td>[{\"credit_id\": \"52fe4781c3a36847f81398c3\", \"de...</td>\n",
       "    </tr>\n",
       "    <tr>\n",
       "      <th>4</th>\n",
       "      <td>49529</td>\n",
       "      <td>John Carter</td>\n",
       "      <td>[{\"cast_id\": 5, \"character\": \"John Carter\", \"c...</td>\n",
       "      <td>[{\"credit_id\": \"52fe479ac3a36847f813eaa3\", \"de...</td>\n",
       "    </tr>\n",
       "  </tbody>\n",
       "</table>\n",
       "</div>"
      ],
      "text/plain": [
       "   movie_id                                     title  \\\n",
       "0     19995                                    Avatar   \n",
       "1       285  Pirates of the Caribbean: At World's End   \n",
       "2    206647                                   Spectre   \n",
       "3     49026                     The Dark Knight Rises   \n",
       "4     49529                               John Carter   \n",
       "\n",
       "                                                cast  \\\n",
       "0  [{\"cast_id\": 242, \"character\": \"Jake Sully\", \"...   \n",
       "1  [{\"cast_id\": 4, \"character\": \"Captain Jack Spa...   \n",
       "2  [{\"cast_id\": 1, \"character\": \"James Bond\", \"cr...   \n",
       "3  [{\"cast_id\": 2, \"character\": \"Bruce Wayne / Ba...   \n",
       "4  [{\"cast_id\": 5, \"character\": \"John Carter\", \"c...   \n",
       "\n",
       "                                                crew  \n",
       "0  [{\"credit_id\": \"52fe48009251416c750aca23\", \"de...  \n",
       "1  [{\"credit_id\": \"52fe4232c3a36847f800b579\", \"de...  \n",
       "2  [{\"credit_id\": \"54805967c3a36829b5002c41\", \"de...  \n",
       "3  [{\"credit_id\": \"52fe4781c3a36847f81398c3\", \"de...  \n",
       "4  [{\"credit_id\": \"52fe479ac3a36847f813eaa3\", \"de...  "
      ]
     },
     "execution_count": 5,
     "metadata": {},
     "output_type": "execute_result"
    }
   ],
   "source": [
    "#head() gives us first  5 rows of the dataset\n",
    "credits.head()"
   ]
  },
  {
   "cell_type": "code",
   "execution_count": 6,
   "id": "concerned-mixer",
   "metadata": {},
   "outputs": [
    {
     "data": {
      "text/html": [
       "<div>\n",
       "<style scoped>\n",
       "    .dataframe tbody tr th:only-of-type {\n",
       "        vertical-align: middle;\n",
       "    }\n",
       "\n",
       "    .dataframe tbody tr th {\n",
       "        vertical-align: top;\n",
       "    }\n",
       "\n",
       "    .dataframe thead th {\n",
       "        text-align: right;\n",
       "    }\n",
       "</style>\n",
       "<table border=\"1\" class=\"dataframe\">\n",
       "  <thead>\n",
       "    <tr style=\"text-align: right;\">\n",
       "      <th></th>\n",
       "      <th>movie_id</th>\n",
       "      <th>title</th>\n",
       "      <th>cast</th>\n",
       "      <th>crew</th>\n",
       "    </tr>\n",
       "  </thead>\n",
       "  <tbody>\n",
       "    <tr>\n",
       "      <th>4798</th>\n",
       "      <td>9367</td>\n",
       "      <td>El Mariachi</td>\n",
       "      <td>[{\"cast_id\": 1, \"character\": \"El Mariachi\", \"c...</td>\n",
       "      <td>[{\"credit_id\": \"52fe44eec3a36847f80b280b\", \"de...</td>\n",
       "    </tr>\n",
       "    <tr>\n",
       "      <th>4799</th>\n",
       "      <td>72766</td>\n",
       "      <td>Newlyweds</td>\n",
       "      <td>[{\"cast_id\": 1, \"character\": \"Buzzy\", \"credit_...</td>\n",
       "      <td>[{\"credit_id\": \"52fe487dc3a368484e0fb013\", \"de...</td>\n",
       "    </tr>\n",
       "    <tr>\n",
       "      <th>4800</th>\n",
       "      <td>231617</td>\n",
       "      <td>Signed, Sealed, Delivered</td>\n",
       "      <td>[{\"cast_id\": 8, \"character\": \"Oliver O\\u2019To...</td>\n",
       "      <td>[{\"credit_id\": \"52fe4df3c3a36847f8275ecf\", \"de...</td>\n",
       "    </tr>\n",
       "    <tr>\n",
       "      <th>4801</th>\n",
       "      <td>126186</td>\n",
       "      <td>Shanghai Calling</td>\n",
       "      <td>[{\"cast_id\": 3, \"character\": \"Sam\", \"credit_id...</td>\n",
       "      <td>[{\"credit_id\": \"52fe4ad9c3a368484e16a36b\", \"de...</td>\n",
       "    </tr>\n",
       "    <tr>\n",
       "      <th>4802</th>\n",
       "      <td>25975</td>\n",
       "      <td>My Date with Drew</td>\n",
       "      <td>[{\"cast_id\": 3, \"character\": \"Herself\", \"credi...</td>\n",
       "      <td>[{\"credit_id\": \"58ce021b9251415a390165d9\", \"de...</td>\n",
       "    </tr>\n",
       "  </tbody>\n",
       "</table>\n",
       "</div>"
      ],
      "text/plain": [
       "      movie_id                      title  \\\n",
       "4798      9367                El Mariachi   \n",
       "4799     72766                  Newlyweds   \n",
       "4800    231617  Signed, Sealed, Delivered   \n",
       "4801    126186           Shanghai Calling   \n",
       "4802     25975          My Date with Drew   \n",
       "\n",
       "                                                   cast  \\\n",
       "4798  [{\"cast_id\": 1, \"character\": \"El Mariachi\", \"c...   \n",
       "4799  [{\"cast_id\": 1, \"character\": \"Buzzy\", \"credit_...   \n",
       "4800  [{\"cast_id\": 8, \"character\": \"Oliver O\\u2019To...   \n",
       "4801  [{\"cast_id\": 3, \"character\": \"Sam\", \"credit_id...   \n",
       "4802  [{\"cast_id\": 3, \"character\": \"Herself\", \"credi...   \n",
       "\n",
       "                                                   crew  \n",
       "4798  [{\"credit_id\": \"52fe44eec3a36847f80b280b\", \"de...  \n",
       "4799  [{\"credit_id\": \"52fe487dc3a368484e0fb013\", \"de...  \n",
       "4800  [{\"credit_id\": \"52fe4df3c3a36847f8275ecf\", \"de...  \n",
       "4801  [{\"credit_id\": \"52fe4ad9c3a368484e16a36b\", \"de...  \n",
       "4802  [{\"credit_id\": \"58ce021b9251415a390165d9\", \"de...  "
      ]
     },
     "execution_count": 6,
     "metadata": {},
     "output_type": "execute_result"
    }
   ],
   "source": [
    "credits.tail()"
   ]
  },
  {
   "cell_type": "code",
   "execution_count": 7,
   "id": "suitable-fleet",
   "metadata": {},
   "outputs": [
    {
     "data": {
      "text/html": [
       "<div>\n",
       "<style scoped>\n",
       "    .dataframe tbody tr th:only-of-type {\n",
       "        vertical-align: middle;\n",
       "    }\n",
       "\n",
       "    .dataframe tbody tr th {\n",
       "        vertical-align: top;\n",
       "    }\n",
       "\n",
       "    .dataframe thead th {\n",
       "        text-align: right;\n",
       "    }\n",
       "</style>\n",
       "<table border=\"1\" class=\"dataframe\">\n",
       "  <thead>\n",
       "    <tr style=\"text-align: right;\">\n",
       "      <th></th>\n",
       "      <th>budget</th>\n",
       "      <th>genres</th>\n",
       "      <th>homepage</th>\n",
       "      <th>id</th>\n",
       "      <th>keywords</th>\n",
       "      <th>original_language</th>\n",
       "      <th>original_title</th>\n",
       "      <th>overview</th>\n",
       "      <th>popularity</th>\n",
       "      <th>production_companies</th>\n",
       "      <th>production_countries</th>\n",
       "      <th>release_date</th>\n",
       "      <th>revenue</th>\n",
       "      <th>runtime</th>\n",
       "      <th>spoken_languages</th>\n",
       "      <th>status</th>\n",
       "      <th>tagline</th>\n",
       "      <th>title</th>\n",
       "      <th>vote_average</th>\n",
       "      <th>vote_count</th>\n",
       "    </tr>\n",
       "  </thead>\n",
       "  <tbody>\n",
       "    <tr>\n",
       "      <th>0</th>\n",
       "      <td>237000000</td>\n",
       "      <td>[{\"id\": 28, \"name\": \"Action\"}, {\"id\": 12, \"nam...</td>\n",
       "      <td>http://www.avatarmovie.com/</td>\n",
       "      <td>19995</td>\n",
       "      <td>[{\"id\": 1463, \"name\": \"culture clash\"}, {\"id\":...</td>\n",
       "      <td>en</td>\n",
       "      <td>Avatar</td>\n",
       "      <td>In the 22nd century, a paraplegic Marine is di...</td>\n",
       "      <td>150.437577</td>\n",
       "      <td>[{\"name\": \"Ingenious Film Partners\", \"id\": 289...</td>\n",
       "      <td>[{\"iso_3166_1\": \"US\", \"name\": \"United States o...</td>\n",
       "      <td>2009-12-10</td>\n",
       "      <td>2787965087</td>\n",
       "      <td>162.0</td>\n",
       "      <td>[{\"iso_639_1\": \"en\", \"name\": \"English\"}, {\"iso...</td>\n",
       "      <td>Released</td>\n",
       "      <td>Enter the World of Pandora.</td>\n",
       "      <td>Avatar</td>\n",
       "      <td>7.2</td>\n",
       "      <td>11800</td>\n",
       "    </tr>\n",
       "    <tr>\n",
       "      <th>1</th>\n",
       "      <td>300000000</td>\n",
       "      <td>[{\"id\": 12, \"name\": \"Adventure\"}, {\"id\": 14, \"...</td>\n",
       "      <td>http://disney.go.com/disneypictures/pirates/</td>\n",
       "      <td>285</td>\n",
       "      <td>[{\"id\": 270, \"name\": \"ocean\"}, {\"id\": 726, \"na...</td>\n",
       "      <td>en</td>\n",
       "      <td>Pirates of the Caribbean: At World's End</td>\n",
       "      <td>Captain Barbossa, long believed to be dead, ha...</td>\n",
       "      <td>139.082615</td>\n",
       "      <td>[{\"name\": \"Walt Disney Pictures\", \"id\": 2}, {\"...</td>\n",
       "      <td>[{\"iso_3166_1\": \"US\", \"name\": \"United States o...</td>\n",
       "      <td>2007-05-19</td>\n",
       "      <td>961000000</td>\n",
       "      <td>169.0</td>\n",
       "      <td>[{\"iso_639_1\": \"en\", \"name\": \"English\"}]</td>\n",
       "      <td>Released</td>\n",
       "      <td>At the end of the world, the adventure begins.</td>\n",
       "      <td>Pirates of the Caribbean: At World's End</td>\n",
       "      <td>6.9</td>\n",
       "      <td>4500</td>\n",
       "    </tr>\n",
       "    <tr>\n",
       "      <th>2</th>\n",
       "      <td>245000000</td>\n",
       "      <td>[{\"id\": 28, \"name\": \"Action\"}, {\"id\": 12, \"nam...</td>\n",
       "      <td>http://www.sonypictures.com/movies/spectre/</td>\n",
       "      <td>206647</td>\n",
       "      <td>[{\"id\": 470, \"name\": \"spy\"}, {\"id\": 818, \"name...</td>\n",
       "      <td>en</td>\n",
       "      <td>Spectre</td>\n",
       "      <td>A cryptic message from Bond’s past sends him o...</td>\n",
       "      <td>107.376788</td>\n",
       "      <td>[{\"name\": \"Columbia Pictures\", \"id\": 5}, {\"nam...</td>\n",
       "      <td>[{\"iso_3166_1\": \"GB\", \"name\": \"United Kingdom\"...</td>\n",
       "      <td>2015-10-26</td>\n",
       "      <td>880674609</td>\n",
       "      <td>148.0</td>\n",
       "      <td>[{\"iso_639_1\": \"fr\", \"name\": \"Fran\\u00e7ais\"},...</td>\n",
       "      <td>Released</td>\n",
       "      <td>A Plan No One Escapes</td>\n",
       "      <td>Spectre</td>\n",
       "      <td>6.3</td>\n",
       "      <td>4466</td>\n",
       "    </tr>\n",
       "    <tr>\n",
       "      <th>3</th>\n",
       "      <td>250000000</td>\n",
       "      <td>[{\"id\": 28, \"name\": \"Action\"}, {\"id\": 80, \"nam...</td>\n",
       "      <td>http://www.thedarkknightrises.com/</td>\n",
       "      <td>49026</td>\n",
       "      <td>[{\"id\": 849, \"name\": \"dc comics\"}, {\"id\": 853,...</td>\n",
       "      <td>en</td>\n",
       "      <td>The Dark Knight Rises</td>\n",
       "      <td>Following the death of District Attorney Harve...</td>\n",
       "      <td>112.312950</td>\n",
       "      <td>[{\"name\": \"Legendary Pictures\", \"id\": 923}, {\"...</td>\n",
       "      <td>[{\"iso_3166_1\": \"US\", \"name\": \"United States o...</td>\n",
       "      <td>2012-07-16</td>\n",
       "      <td>1084939099</td>\n",
       "      <td>165.0</td>\n",
       "      <td>[{\"iso_639_1\": \"en\", \"name\": \"English\"}]</td>\n",
       "      <td>Released</td>\n",
       "      <td>The Legend Ends</td>\n",
       "      <td>The Dark Knight Rises</td>\n",
       "      <td>7.6</td>\n",
       "      <td>9106</td>\n",
       "    </tr>\n",
       "    <tr>\n",
       "      <th>4</th>\n",
       "      <td>260000000</td>\n",
       "      <td>[{\"id\": 28, \"name\": \"Action\"}, {\"id\": 12, \"nam...</td>\n",
       "      <td>http://movies.disney.com/john-carter</td>\n",
       "      <td>49529</td>\n",
       "      <td>[{\"id\": 818, \"name\": \"based on novel\"}, {\"id\":...</td>\n",
       "      <td>en</td>\n",
       "      <td>John Carter</td>\n",
       "      <td>John Carter is a war-weary, former military ca...</td>\n",
       "      <td>43.926995</td>\n",
       "      <td>[{\"name\": \"Walt Disney Pictures\", \"id\": 2}]</td>\n",
       "      <td>[{\"iso_3166_1\": \"US\", \"name\": \"United States o...</td>\n",
       "      <td>2012-03-07</td>\n",
       "      <td>284139100</td>\n",
       "      <td>132.0</td>\n",
       "      <td>[{\"iso_639_1\": \"en\", \"name\": \"English\"}]</td>\n",
       "      <td>Released</td>\n",
       "      <td>Lost in our world, found in another.</td>\n",
       "      <td>John Carter</td>\n",
       "      <td>6.1</td>\n",
       "      <td>2124</td>\n",
       "    </tr>\n",
       "  </tbody>\n",
       "</table>\n",
       "</div>"
      ],
      "text/plain": [
       "      budget                                             genres  \\\n",
       "0  237000000  [{\"id\": 28, \"name\": \"Action\"}, {\"id\": 12, \"nam...   \n",
       "1  300000000  [{\"id\": 12, \"name\": \"Adventure\"}, {\"id\": 14, \"...   \n",
       "2  245000000  [{\"id\": 28, \"name\": \"Action\"}, {\"id\": 12, \"nam...   \n",
       "3  250000000  [{\"id\": 28, \"name\": \"Action\"}, {\"id\": 80, \"nam...   \n",
       "4  260000000  [{\"id\": 28, \"name\": \"Action\"}, {\"id\": 12, \"nam...   \n",
       "\n",
       "                                       homepage      id  \\\n",
       "0                   http://www.avatarmovie.com/   19995   \n",
       "1  http://disney.go.com/disneypictures/pirates/     285   \n",
       "2   http://www.sonypictures.com/movies/spectre/  206647   \n",
       "3            http://www.thedarkknightrises.com/   49026   \n",
       "4          http://movies.disney.com/john-carter   49529   \n",
       "\n",
       "                                            keywords original_language  \\\n",
       "0  [{\"id\": 1463, \"name\": \"culture clash\"}, {\"id\":...                en   \n",
       "1  [{\"id\": 270, \"name\": \"ocean\"}, {\"id\": 726, \"na...                en   \n",
       "2  [{\"id\": 470, \"name\": \"spy\"}, {\"id\": 818, \"name...                en   \n",
       "3  [{\"id\": 849, \"name\": \"dc comics\"}, {\"id\": 853,...                en   \n",
       "4  [{\"id\": 818, \"name\": \"based on novel\"}, {\"id\":...                en   \n",
       "\n",
       "                             original_title  \\\n",
       "0                                    Avatar   \n",
       "1  Pirates of the Caribbean: At World's End   \n",
       "2                                   Spectre   \n",
       "3                     The Dark Knight Rises   \n",
       "4                               John Carter   \n",
       "\n",
       "                                            overview  popularity  \\\n",
       "0  In the 22nd century, a paraplegic Marine is di...  150.437577   \n",
       "1  Captain Barbossa, long believed to be dead, ha...  139.082615   \n",
       "2  A cryptic message from Bond’s past sends him o...  107.376788   \n",
       "3  Following the death of District Attorney Harve...  112.312950   \n",
       "4  John Carter is a war-weary, former military ca...   43.926995   \n",
       "\n",
       "                                production_companies  \\\n",
       "0  [{\"name\": \"Ingenious Film Partners\", \"id\": 289...   \n",
       "1  [{\"name\": \"Walt Disney Pictures\", \"id\": 2}, {\"...   \n",
       "2  [{\"name\": \"Columbia Pictures\", \"id\": 5}, {\"nam...   \n",
       "3  [{\"name\": \"Legendary Pictures\", \"id\": 923}, {\"...   \n",
       "4        [{\"name\": \"Walt Disney Pictures\", \"id\": 2}]   \n",
       "\n",
       "                                production_countries release_date     revenue  \\\n",
       "0  [{\"iso_3166_1\": \"US\", \"name\": \"United States o...   2009-12-10  2787965087   \n",
       "1  [{\"iso_3166_1\": \"US\", \"name\": \"United States o...   2007-05-19   961000000   \n",
       "2  [{\"iso_3166_1\": \"GB\", \"name\": \"United Kingdom\"...   2015-10-26   880674609   \n",
       "3  [{\"iso_3166_1\": \"US\", \"name\": \"United States o...   2012-07-16  1084939099   \n",
       "4  [{\"iso_3166_1\": \"US\", \"name\": \"United States o...   2012-03-07   284139100   \n",
       "\n",
       "   runtime                                   spoken_languages    status  \\\n",
       "0    162.0  [{\"iso_639_1\": \"en\", \"name\": \"English\"}, {\"iso...  Released   \n",
       "1    169.0           [{\"iso_639_1\": \"en\", \"name\": \"English\"}]  Released   \n",
       "2    148.0  [{\"iso_639_1\": \"fr\", \"name\": \"Fran\\u00e7ais\"},...  Released   \n",
       "3    165.0           [{\"iso_639_1\": \"en\", \"name\": \"English\"}]  Released   \n",
       "4    132.0           [{\"iso_639_1\": \"en\", \"name\": \"English\"}]  Released   \n",
       "\n",
       "                                          tagline  \\\n",
       "0                     Enter the World of Pandora.   \n",
       "1  At the end of the world, the adventure begins.   \n",
       "2                           A Plan No One Escapes   \n",
       "3                                 The Legend Ends   \n",
       "4            Lost in our world, found in another.   \n",
       "\n",
       "                                      title  vote_average  vote_count  \n",
       "0                                    Avatar           7.2       11800  \n",
       "1  Pirates of the Caribbean: At World's End           6.9        4500  \n",
       "2                                   Spectre           6.3        4466  \n",
       "3                     The Dark Knight Rises           7.6        9106  \n",
       "4                               John Carter           6.1        2124  "
      ]
     },
     "execution_count": 7,
     "metadata": {},
     "output_type": "execute_result"
    }
   ],
   "source": [
    "movies_df.head()"
   ]
  },
  {
   "cell_type": "code",
   "execution_count": 8,
   "id": "stainless-replication",
   "metadata": {
    "scrolled": true
   },
   "outputs": [
    {
     "name": "stdout",
     "output_type": "stream",
     "text": [
      "credits: Index(['movie_id', 'title', 'cast', 'crew'], dtype='object')\n",
      "movies_df: Index(['budget', 'genres', 'homepage', 'id', 'keywords', 'original_language',\n",
      "       'original_title', 'overview', 'popularity', 'production_companies',\n",
      "       'production_countries', 'release_date', 'revenue', 'runtime',\n",
      "       'spoken_languages', 'status', 'tagline', 'title', 'vote_average',\n",
      "       'vote_count'],\n",
      "      dtype='object')\n"
     ]
    }
   ],
   "source": [
    "#columns in the dataset\n",
    "print(\"credits:\",credits.columns)\n",
    "print(\"movies_df:\",movies_df.columns)"
   ]
  },
  {
   "cell_type": "code",
   "execution_count": 9,
   "id": "infectious-leonard",
   "metadata": {},
   "outputs": [
    {
     "name": "stdout",
     "output_type": "stream",
     "text": [
      "credits: (4803, 4)\n",
      "movies_df: (4803, 20)\n"
     ]
    }
   ],
   "source": [
    "#Shape of the dataset\n",
    "print(\"credits:\",credits.shape)\n",
    "print(\"movies_df:\",movies_df.shape)\n"
   ]
  },
  {
   "cell_type": "markdown",
   "id": "electrical-location",
   "metadata": {},
   "source": [
    "### Merging the two datasets"
   ]
  },
  {
   "cell_type": "markdown",
   "id": "respected-swedish",
   "metadata": {},
   "source": [
    "#id column in movies_df is similar to movie_id in credits dataset.Let us merge these two datasets, movie_df and credits using \n",
    "common key.Therefore rename the column movie_id in credits to id.\n"
   ]
  },
  {
   "cell_type": "code",
   "execution_count": 10,
   "id": "eleven-snapshot",
   "metadata": {},
   "outputs": [],
   "source": [
    "#Renaming the columns\n",
    "credits_column_renamed=credits.rename(index=str,columns={\"movie_id\":\"id\"})\n",
    "movies=movies_df.merge(credits_column_renamed,on=\"id\")"
   ]
  },
  {
   "cell_type": "code",
   "execution_count": 11,
   "id": "hundred-waste",
   "metadata": {},
   "outputs": [
    {
     "data": {
      "text/html": [
       "<div>\n",
       "<style scoped>\n",
       "    .dataframe tbody tr th:only-of-type {\n",
       "        vertical-align: middle;\n",
       "    }\n",
       "\n",
       "    .dataframe tbody tr th {\n",
       "        vertical-align: top;\n",
       "    }\n",
       "\n",
       "    .dataframe thead th {\n",
       "        text-align: right;\n",
       "    }\n",
       "</style>\n",
       "<table border=\"1\" class=\"dataframe\">\n",
       "  <thead>\n",
       "    <tr style=\"text-align: right;\">\n",
       "      <th></th>\n",
       "      <th>budget</th>\n",
       "      <th>genres</th>\n",
       "      <th>homepage</th>\n",
       "      <th>id</th>\n",
       "      <th>keywords</th>\n",
       "      <th>original_language</th>\n",
       "      <th>original_title</th>\n",
       "      <th>overview</th>\n",
       "      <th>popularity</th>\n",
       "      <th>production_companies</th>\n",
       "      <th>...</th>\n",
       "      <th>runtime</th>\n",
       "      <th>spoken_languages</th>\n",
       "      <th>status</th>\n",
       "      <th>tagline</th>\n",
       "      <th>title_x</th>\n",
       "      <th>vote_average</th>\n",
       "      <th>vote_count</th>\n",
       "      <th>title_y</th>\n",
       "      <th>cast</th>\n",
       "      <th>crew</th>\n",
       "    </tr>\n",
       "  </thead>\n",
       "  <tbody>\n",
       "    <tr>\n",
       "      <th>0</th>\n",
       "      <td>237000000</td>\n",
       "      <td>[{\"id\": 28, \"name\": \"Action\"}, {\"id\": 12, \"nam...</td>\n",
       "      <td>http://www.avatarmovie.com/</td>\n",
       "      <td>19995</td>\n",
       "      <td>[{\"id\": 1463, \"name\": \"culture clash\"}, {\"id\":...</td>\n",
       "      <td>en</td>\n",
       "      <td>Avatar</td>\n",
       "      <td>In the 22nd century, a paraplegic Marine is di...</td>\n",
       "      <td>150.437577</td>\n",
       "      <td>[{\"name\": \"Ingenious Film Partners\", \"id\": 289...</td>\n",
       "      <td>...</td>\n",
       "      <td>162.0</td>\n",
       "      <td>[{\"iso_639_1\": \"en\", \"name\": \"English\"}, {\"iso...</td>\n",
       "      <td>Released</td>\n",
       "      <td>Enter the World of Pandora.</td>\n",
       "      <td>Avatar</td>\n",
       "      <td>7.2</td>\n",
       "      <td>11800</td>\n",
       "      <td>Avatar</td>\n",
       "      <td>[{\"cast_id\": 242, \"character\": \"Jake Sully\", \"...</td>\n",
       "      <td>[{\"credit_id\": \"52fe48009251416c750aca23\", \"de...</td>\n",
       "    </tr>\n",
       "    <tr>\n",
       "      <th>1</th>\n",
       "      <td>300000000</td>\n",
       "      <td>[{\"id\": 12, \"name\": \"Adventure\"}, {\"id\": 14, \"...</td>\n",
       "      <td>http://disney.go.com/disneypictures/pirates/</td>\n",
       "      <td>285</td>\n",
       "      <td>[{\"id\": 270, \"name\": \"ocean\"}, {\"id\": 726, \"na...</td>\n",
       "      <td>en</td>\n",
       "      <td>Pirates of the Caribbean: At World's End</td>\n",
       "      <td>Captain Barbossa, long believed to be dead, ha...</td>\n",
       "      <td>139.082615</td>\n",
       "      <td>[{\"name\": \"Walt Disney Pictures\", \"id\": 2}, {\"...</td>\n",
       "      <td>...</td>\n",
       "      <td>169.0</td>\n",
       "      <td>[{\"iso_639_1\": \"en\", \"name\": \"English\"}]</td>\n",
       "      <td>Released</td>\n",
       "      <td>At the end of the world, the adventure begins.</td>\n",
       "      <td>Pirates of the Caribbean: At World's End</td>\n",
       "      <td>6.9</td>\n",
       "      <td>4500</td>\n",
       "      <td>Pirates of the Caribbean: At World's End</td>\n",
       "      <td>[{\"cast_id\": 4, \"character\": \"Captain Jack Spa...</td>\n",
       "      <td>[{\"credit_id\": \"52fe4232c3a36847f800b579\", \"de...</td>\n",
       "    </tr>\n",
       "    <tr>\n",
       "      <th>2</th>\n",
       "      <td>245000000</td>\n",
       "      <td>[{\"id\": 28, \"name\": \"Action\"}, {\"id\": 12, \"nam...</td>\n",
       "      <td>http://www.sonypictures.com/movies/spectre/</td>\n",
       "      <td>206647</td>\n",
       "      <td>[{\"id\": 470, \"name\": \"spy\"}, {\"id\": 818, \"name...</td>\n",
       "      <td>en</td>\n",
       "      <td>Spectre</td>\n",
       "      <td>A cryptic message from Bond’s past sends him o...</td>\n",
       "      <td>107.376788</td>\n",
       "      <td>[{\"name\": \"Columbia Pictures\", \"id\": 5}, {\"nam...</td>\n",
       "      <td>...</td>\n",
       "      <td>148.0</td>\n",
       "      <td>[{\"iso_639_1\": \"fr\", \"name\": \"Fran\\u00e7ais\"},...</td>\n",
       "      <td>Released</td>\n",
       "      <td>A Plan No One Escapes</td>\n",
       "      <td>Spectre</td>\n",
       "      <td>6.3</td>\n",
       "      <td>4466</td>\n",
       "      <td>Spectre</td>\n",
       "      <td>[{\"cast_id\": 1, \"character\": \"James Bond\", \"cr...</td>\n",
       "      <td>[{\"credit_id\": \"54805967c3a36829b5002c41\", \"de...</td>\n",
       "    </tr>\n",
       "    <tr>\n",
       "      <th>3</th>\n",
       "      <td>250000000</td>\n",
       "      <td>[{\"id\": 28, \"name\": \"Action\"}, {\"id\": 80, \"nam...</td>\n",
       "      <td>http://www.thedarkknightrises.com/</td>\n",
       "      <td>49026</td>\n",
       "      <td>[{\"id\": 849, \"name\": \"dc comics\"}, {\"id\": 853,...</td>\n",
       "      <td>en</td>\n",
       "      <td>The Dark Knight Rises</td>\n",
       "      <td>Following the death of District Attorney Harve...</td>\n",
       "      <td>112.312950</td>\n",
       "      <td>[{\"name\": \"Legendary Pictures\", \"id\": 923}, {\"...</td>\n",
       "      <td>...</td>\n",
       "      <td>165.0</td>\n",
       "      <td>[{\"iso_639_1\": \"en\", \"name\": \"English\"}]</td>\n",
       "      <td>Released</td>\n",
       "      <td>The Legend Ends</td>\n",
       "      <td>The Dark Knight Rises</td>\n",
       "      <td>7.6</td>\n",
       "      <td>9106</td>\n",
       "      <td>The Dark Knight Rises</td>\n",
       "      <td>[{\"cast_id\": 2, \"character\": \"Bruce Wayne / Ba...</td>\n",
       "      <td>[{\"credit_id\": \"52fe4781c3a36847f81398c3\", \"de...</td>\n",
       "    </tr>\n",
       "    <tr>\n",
       "      <th>4</th>\n",
       "      <td>260000000</td>\n",
       "      <td>[{\"id\": 28, \"name\": \"Action\"}, {\"id\": 12, \"nam...</td>\n",
       "      <td>http://movies.disney.com/john-carter</td>\n",
       "      <td>49529</td>\n",
       "      <td>[{\"id\": 818, \"name\": \"based on novel\"}, {\"id\":...</td>\n",
       "      <td>en</td>\n",
       "      <td>John Carter</td>\n",
       "      <td>John Carter is a war-weary, former military ca...</td>\n",
       "      <td>43.926995</td>\n",
       "      <td>[{\"name\": \"Walt Disney Pictures\", \"id\": 2}]</td>\n",
       "      <td>...</td>\n",
       "      <td>132.0</td>\n",
       "      <td>[{\"iso_639_1\": \"en\", \"name\": \"English\"}]</td>\n",
       "      <td>Released</td>\n",
       "      <td>Lost in our world, found in another.</td>\n",
       "      <td>John Carter</td>\n",
       "      <td>6.1</td>\n",
       "      <td>2124</td>\n",
       "      <td>John Carter</td>\n",
       "      <td>[{\"cast_id\": 5, \"character\": \"John Carter\", \"c...</td>\n",
       "      <td>[{\"credit_id\": \"52fe479ac3a36847f813eaa3\", \"de...</td>\n",
       "    </tr>\n",
       "  </tbody>\n",
       "</table>\n",
       "<p>5 rows × 23 columns</p>\n",
       "</div>"
      ],
      "text/plain": [
       "      budget                                             genres  \\\n",
       "0  237000000  [{\"id\": 28, \"name\": \"Action\"}, {\"id\": 12, \"nam...   \n",
       "1  300000000  [{\"id\": 12, \"name\": \"Adventure\"}, {\"id\": 14, \"...   \n",
       "2  245000000  [{\"id\": 28, \"name\": \"Action\"}, {\"id\": 12, \"nam...   \n",
       "3  250000000  [{\"id\": 28, \"name\": \"Action\"}, {\"id\": 80, \"nam...   \n",
       "4  260000000  [{\"id\": 28, \"name\": \"Action\"}, {\"id\": 12, \"nam...   \n",
       "\n",
       "                                       homepage      id  \\\n",
       "0                   http://www.avatarmovie.com/   19995   \n",
       "1  http://disney.go.com/disneypictures/pirates/     285   \n",
       "2   http://www.sonypictures.com/movies/spectre/  206647   \n",
       "3            http://www.thedarkknightrises.com/   49026   \n",
       "4          http://movies.disney.com/john-carter   49529   \n",
       "\n",
       "                                            keywords original_language  \\\n",
       "0  [{\"id\": 1463, \"name\": \"culture clash\"}, {\"id\":...                en   \n",
       "1  [{\"id\": 270, \"name\": \"ocean\"}, {\"id\": 726, \"na...                en   \n",
       "2  [{\"id\": 470, \"name\": \"spy\"}, {\"id\": 818, \"name...                en   \n",
       "3  [{\"id\": 849, \"name\": \"dc comics\"}, {\"id\": 853,...                en   \n",
       "4  [{\"id\": 818, \"name\": \"based on novel\"}, {\"id\":...                en   \n",
       "\n",
       "                             original_title  \\\n",
       "0                                    Avatar   \n",
       "1  Pirates of the Caribbean: At World's End   \n",
       "2                                   Spectre   \n",
       "3                     The Dark Knight Rises   \n",
       "4                               John Carter   \n",
       "\n",
       "                                            overview  popularity  \\\n",
       "0  In the 22nd century, a paraplegic Marine is di...  150.437577   \n",
       "1  Captain Barbossa, long believed to be dead, ha...  139.082615   \n",
       "2  A cryptic message from Bond’s past sends him o...  107.376788   \n",
       "3  Following the death of District Attorney Harve...  112.312950   \n",
       "4  John Carter is a war-weary, former military ca...   43.926995   \n",
       "\n",
       "                                production_companies  ... runtime  \\\n",
       "0  [{\"name\": \"Ingenious Film Partners\", \"id\": 289...  ...   162.0   \n",
       "1  [{\"name\": \"Walt Disney Pictures\", \"id\": 2}, {\"...  ...   169.0   \n",
       "2  [{\"name\": \"Columbia Pictures\", \"id\": 5}, {\"nam...  ...   148.0   \n",
       "3  [{\"name\": \"Legendary Pictures\", \"id\": 923}, {\"...  ...   165.0   \n",
       "4        [{\"name\": \"Walt Disney Pictures\", \"id\": 2}]  ...   132.0   \n",
       "\n",
       "                                    spoken_languages    status  \\\n",
       "0  [{\"iso_639_1\": \"en\", \"name\": \"English\"}, {\"iso...  Released   \n",
       "1           [{\"iso_639_1\": \"en\", \"name\": \"English\"}]  Released   \n",
       "2  [{\"iso_639_1\": \"fr\", \"name\": \"Fran\\u00e7ais\"},...  Released   \n",
       "3           [{\"iso_639_1\": \"en\", \"name\": \"English\"}]  Released   \n",
       "4           [{\"iso_639_1\": \"en\", \"name\": \"English\"}]  Released   \n",
       "\n",
       "                                          tagline  \\\n",
       "0                     Enter the World of Pandora.   \n",
       "1  At the end of the world, the adventure begins.   \n",
       "2                           A Plan No One Escapes   \n",
       "3                                 The Legend Ends   \n",
       "4            Lost in our world, found in another.   \n",
       "\n",
       "                                    title_x vote_average vote_count  \\\n",
       "0                                    Avatar          7.2      11800   \n",
       "1  Pirates of the Caribbean: At World's End          6.9       4500   \n",
       "2                                   Spectre          6.3       4466   \n",
       "3                     The Dark Knight Rises          7.6       9106   \n",
       "4                               John Carter          6.1       2124   \n",
       "\n",
       "                                    title_y  \\\n",
       "0                                    Avatar   \n",
       "1  Pirates of the Caribbean: At World's End   \n",
       "2                                   Spectre   \n",
       "3                     The Dark Knight Rises   \n",
       "4                               John Carter   \n",
       "\n",
       "                                                cast  \\\n",
       "0  [{\"cast_id\": 242, \"character\": \"Jake Sully\", \"...   \n",
       "1  [{\"cast_id\": 4, \"character\": \"Captain Jack Spa...   \n",
       "2  [{\"cast_id\": 1, \"character\": \"James Bond\", \"cr...   \n",
       "3  [{\"cast_id\": 2, \"character\": \"Bruce Wayne / Ba...   \n",
       "4  [{\"cast_id\": 5, \"character\": \"John Carter\", \"c...   \n",
       "\n",
       "                                                crew  \n",
       "0  [{\"credit_id\": \"52fe48009251416c750aca23\", \"de...  \n",
       "1  [{\"credit_id\": \"52fe4232c3a36847f800b579\", \"de...  \n",
       "2  [{\"credit_id\": \"54805967c3a36829b5002c41\", \"de...  \n",
       "3  [{\"credit_id\": \"52fe4781c3a36847f81398c3\", \"de...  \n",
       "4  [{\"credit_id\": \"52fe479ac3a36847f813eaa3\", \"de...  \n",
       "\n",
       "[5 rows x 23 columns]"
      ]
     },
     "execution_count": 11,
     "metadata": {},
     "output_type": "execute_result"
    }
   ],
   "source": [
    "movies.head()"
   ]
  },
  {
   "cell_type": "code",
   "execution_count": 12,
   "id": "abroad-collection",
   "metadata": {},
   "outputs": [
    {
     "data": {
      "text/plain": [
       "(4803, 23)"
      ]
     },
     "execution_count": 12,
     "metadata": {},
     "output_type": "execute_result"
    }
   ],
   "source": [
    "movies.shape"
   ]
  },
  {
   "cell_type": "code",
   "execution_count": 13,
   "id": "rental-pillow",
   "metadata": {},
   "outputs": [
    {
     "name": "stdout",
     "output_type": "stream",
     "text": [
      "<class 'pandas.core.frame.DataFrame'>\n",
      "Int64Index: 4803 entries, 0 to 4802\n",
      "Data columns (total 23 columns):\n",
      " #   Column                Non-Null Count  Dtype  \n",
      "---  ------                --------------  -----  \n",
      " 0   budget                4803 non-null   int64  \n",
      " 1   genres                4803 non-null   object \n",
      " 2   homepage              1712 non-null   object \n",
      " 3   id                    4803 non-null   int64  \n",
      " 4   keywords              4803 non-null   object \n",
      " 5   original_language     4803 non-null   object \n",
      " 6   original_title        4803 non-null   object \n",
      " 7   overview              4800 non-null   object \n",
      " 8   popularity            4803 non-null   float64\n",
      " 9   production_companies  4803 non-null   object \n",
      " 10  production_countries  4803 non-null   object \n",
      " 11  release_date          4802 non-null   object \n",
      " 12  revenue               4803 non-null   int64  \n",
      " 13  runtime               4801 non-null   float64\n",
      " 14  spoken_languages      4803 non-null   object \n",
      " 15  status                4803 non-null   object \n",
      " 16  tagline               3959 non-null   object \n",
      " 17  title_x               4803 non-null   object \n",
      " 18  vote_average          4803 non-null   float64\n",
      " 19  vote_count            4803 non-null   int64  \n",
      " 20  title_y               4803 non-null   object \n",
      " 21  cast                  4803 non-null   object \n",
      " 22  crew                  4803 non-null   object \n",
      "dtypes: float64(3), int64(4), object(16)\n",
      "memory usage: 900.6+ KB\n"
     ]
    }
   ],
   "source": [
    "#information about the datset\n",
    "movies.info()"
   ]
  },
  {
   "cell_type": "code",
   "execution_count": 14,
   "id": "adolescent-comfort",
   "metadata": {},
   "outputs": [
    {
     "data": {
      "text/html": [
       "<div>\n",
       "<style scoped>\n",
       "    .dataframe tbody tr th:only-of-type {\n",
       "        vertical-align: middle;\n",
       "    }\n",
       "\n",
       "    .dataframe tbody tr th {\n",
       "        vertical-align: top;\n",
       "    }\n",
       "\n",
       "    .dataframe thead th {\n",
       "        text-align: right;\n",
       "    }\n",
       "</style>\n",
       "<table border=\"1\" class=\"dataframe\">\n",
       "  <thead>\n",
       "    <tr style=\"text-align: right;\">\n",
       "      <th></th>\n",
       "      <th>budget</th>\n",
       "      <th>id</th>\n",
       "      <th>popularity</th>\n",
       "      <th>revenue</th>\n",
       "      <th>runtime</th>\n",
       "      <th>vote_average</th>\n",
       "      <th>vote_count</th>\n",
       "    </tr>\n",
       "  </thead>\n",
       "  <tbody>\n",
       "    <tr>\n",
       "      <th>count</th>\n",
       "      <td>4.803000e+03</td>\n",
       "      <td>4803.000000</td>\n",
       "      <td>4803.000000</td>\n",
       "      <td>4.803000e+03</td>\n",
       "      <td>4801.000000</td>\n",
       "      <td>4803.000000</td>\n",
       "      <td>4803.000000</td>\n",
       "    </tr>\n",
       "    <tr>\n",
       "      <th>mean</th>\n",
       "      <td>2.904504e+07</td>\n",
       "      <td>57165.484281</td>\n",
       "      <td>21.492301</td>\n",
       "      <td>8.226064e+07</td>\n",
       "      <td>106.875859</td>\n",
       "      <td>6.092172</td>\n",
       "      <td>690.217989</td>\n",
       "    </tr>\n",
       "    <tr>\n",
       "      <th>std</th>\n",
       "      <td>4.072239e+07</td>\n",
       "      <td>88694.614033</td>\n",
       "      <td>31.816650</td>\n",
       "      <td>1.628571e+08</td>\n",
       "      <td>22.611935</td>\n",
       "      <td>1.194612</td>\n",
       "      <td>1234.585891</td>\n",
       "    </tr>\n",
       "    <tr>\n",
       "      <th>min</th>\n",
       "      <td>0.000000e+00</td>\n",
       "      <td>5.000000</td>\n",
       "      <td>0.000000</td>\n",
       "      <td>0.000000e+00</td>\n",
       "      <td>0.000000</td>\n",
       "      <td>0.000000</td>\n",
       "      <td>0.000000</td>\n",
       "    </tr>\n",
       "    <tr>\n",
       "      <th>25%</th>\n",
       "      <td>7.900000e+05</td>\n",
       "      <td>9014.500000</td>\n",
       "      <td>4.668070</td>\n",
       "      <td>0.000000e+00</td>\n",
       "      <td>94.000000</td>\n",
       "      <td>5.600000</td>\n",
       "      <td>54.000000</td>\n",
       "    </tr>\n",
       "    <tr>\n",
       "      <th>50%</th>\n",
       "      <td>1.500000e+07</td>\n",
       "      <td>14629.000000</td>\n",
       "      <td>12.921594</td>\n",
       "      <td>1.917000e+07</td>\n",
       "      <td>103.000000</td>\n",
       "      <td>6.200000</td>\n",
       "      <td>235.000000</td>\n",
       "    </tr>\n",
       "    <tr>\n",
       "      <th>75%</th>\n",
       "      <td>4.000000e+07</td>\n",
       "      <td>58610.500000</td>\n",
       "      <td>28.313505</td>\n",
       "      <td>9.291719e+07</td>\n",
       "      <td>118.000000</td>\n",
       "      <td>6.800000</td>\n",
       "      <td>737.000000</td>\n",
       "    </tr>\n",
       "    <tr>\n",
       "      <th>max</th>\n",
       "      <td>3.800000e+08</td>\n",
       "      <td>459488.000000</td>\n",
       "      <td>875.581305</td>\n",
       "      <td>2.787965e+09</td>\n",
       "      <td>338.000000</td>\n",
       "      <td>10.000000</td>\n",
       "      <td>13752.000000</td>\n",
       "    </tr>\n",
       "  </tbody>\n",
       "</table>\n",
       "</div>"
      ],
      "text/plain": [
       "             budget             id   popularity       revenue      runtime  \\\n",
       "count  4.803000e+03    4803.000000  4803.000000  4.803000e+03  4801.000000   \n",
       "mean   2.904504e+07   57165.484281    21.492301  8.226064e+07   106.875859   \n",
       "std    4.072239e+07   88694.614033    31.816650  1.628571e+08    22.611935   \n",
       "min    0.000000e+00       5.000000     0.000000  0.000000e+00     0.000000   \n",
       "25%    7.900000e+05    9014.500000     4.668070  0.000000e+00    94.000000   \n",
       "50%    1.500000e+07   14629.000000    12.921594  1.917000e+07   103.000000   \n",
       "75%    4.000000e+07   58610.500000    28.313505  9.291719e+07   118.000000   \n",
       "max    3.800000e+08  459488.000000   875.581305  2.787965e+09   338.000000   \n",
       "\n",
       "       vote_average    vote_count  \n",
       "count   4803.000000   4803.000000  \n",
       "mean       6.092172    690.217989  \n",
       "std        1.194612   1234.585891  \n",
       "min        0.000000      0.000000  \n",
       "25%        5.600000     54.000000  \n",
       "50%        6.200000    235.000000  \n",
       "75%        6.800000    737.000000  \n",
       "max       10.000000  13752.000000  "
      ]
     },
     "execution_count": 14,
     "metadata": {},
     "output_type": "execute_result"
    }
   ],
   "source": [
    "movies.describe()"
   ]
  },
  {
   "cell_type": "markdown",
   "id": "junior-procedure",
   "metadata": {},
   "source": [
    "### Converting JSON into strings"
   ]
  },
  {
   "cell_type": "markdown",
   "id": "designing-trader",
   "metadata": {},
   "source": [
    "We see the cast ,crew,genres,keywords are in json format.so need to convert these json objects to meaning form"
   ]
  },
  {
   "cell_type": "code",
   "execution_count": 15,
   "id": "arranged-omega",
   "metadata": {},
   "outputs": [],
   "source": [
    "    \n",
    "# changing the crew column from json to string    \n",
    "movies['crew'] = movies['crew'].apply(json.loads)\n",
    "def director(x):\n",
    "    for i in x:\n",
    "        if i['job'] == 'Director':\n",
    "            return i['name']\n",
    "movies['crew'] = movies['crew'].apply(director)\n",
    "movies.rename(columns={'crew':'director'},inplace=True)"
   ]
  },
  {
   "cell_type": "code",
   "execution_count": 16,
   "id": "former-swiss",
   "metadata": {},
   "outputs": [],
   "source": [
    "\n",
    "from ast import literal_eval\n",
    "features = ['keywords','genres']\n",
    "for feature in features:\n",
    "    movies[feature] = movies[feature].apply(literal_eval)\n"
   ]
  },
  {
   "cell_type": "code",
   "execution_count": 17,
   "id": "textile-colors",
   "metadata": {},
   "outputs": [],
   "source": [
    "# Returns the top 1 element or entire list; whichever is more.\n",
    "def get_list(x):\n",
    "    if isinstance(x, list):\n",
    "        names = [i['name'] for i in x]\n",
    "        #Check if more than 3 elements exist. If yes, return only first three. If no, return entire list.\n",
    "        if len(names) > 1:\n",
    "            names = names[:1]\n",
    "        return names\n",
    "\n",
    "    #Return empty list in case of missing/malformed data\n",
    "    return []"
   ]
  },
  {
   "cell_type": "code",
   "execution_count": 18,
   "id": "rotary-laundry",
   "metadata": {},
   "outputs": [
    {
     "name": "stdout",
     "output_type": "stream",
     "text": [
      "<class 'list'>\n"
     ]
    }
   ],
   "source": [
    "print (type(movies.loc[0, 'genres']))"
   ]
  },
  {
   "cell_type": "code",
   "execution_count": 19,
   "id": "future-gibraltar",
   "metadata": {},
   "outputs": [],
   "source": [
    "features = ['keywords', 'genres']\n",
    "for feature in features:\n",
    "    movies[feature] = movies[feature].apply(get_list)"
   ]
  },
  {
   "cell_type": "code",
   "execution_count": 20,
   "id": "dominant-scholar",
   "metadata": {},
   "outputs": [
    {
     "data": {
      "text/plain": [
       "0            [Action]\n",
       "1         [Adventure]\n",
       "2            [Action]\n",
       "3            [Action]\n",
       "4            [Action]\n",
       "            ...      \n",
       "4798         [Action]\n",
       "4799         [Comedy]\n",
       "4800         [Comedy]\n",
       "4801               []\n",
       "4802    [Documentary]\n",
       "Name: genres, Length: 4803, dtype: object"
      ]
     },
     "execution_count": 20,
     "metadata": {},
     "output_type": "execute_result"
    }
   ],
   "source": [
    "movies['genres']"
   ]
  },
  {
   "cell_type": "code",
   "execution_count": 21,
   "id": "tutorial-journal",
   "metadata": {},
   "outputs": [],
   "source": [
    "movies['genres']  = movies['genres'] .str.join(', ')"
   ]
  },
  {
   "cell_type": "code",
   "execution_count": 22,
   "id": "julian-perfume",
   "metadata": {},
   "outputs": [
    {
     "data": {
      "text/plain": [
       "0            Action\n",
       "1         Adventure\n",
       "2            Action\n",
       "3            Action\n",
       "4            Action\n",
       "           ...     \n",
       "4798         Action\n",
       "4799         Comedy\n",
       "4800         Comedy\n",
       "4801               \n",
       "4802    Documentary\n",
       "Name: genres, Length: 4803, dtype: object"
      ]
     },
     "execution_count": 22,
     "metadata": {},
     "output_type": "execute_result"
    }
   ],
   "source": [
    "movies['genres'] "
   ]
  },
  {
   "cell_type": "code",
   "execution_count": null,
   "id": "median-gambling",
   "metadata": {},
   "outputs": [],
   "source": []
  },
  {
   "cell_type": "code",
   "execution_count": 23,
   "id": "unavailable-pottery",
   "metadata": {},
   "outputs": [
    {
     "data": {
      "text/html": [
       "<div>\n",
       "<style scoped>\n",
       "    .dataframe tbody tr th:only-of-type {\n",
       "        vertical-align: middle;\n",
       "    }\n",
       "\n",
       "    .dataframe tbody tr th {\n",
       "        vertical-align: top;\n",
       "    }\n",
       "\n",
       "    .dataframe thead th {\n",
       "        text-align: right;\n",
       "    }\n",
       "</style>\n",
       "<table border=\"1\" class=\"dataframe\">\n",
       "  <thead>\n",
       "    <tr style=\"text-align: right;\">\n",
       "      <th></th>\n",
       "      <th>budget</th>\n",
       "      <th>genres</th>\n",
       "      <th>homepage</th>\n",
       "      <th>id</th>\n",
       "      <th>keywords</th>\n",
       "      <th>original_language</th>\n",
       "      <th>original_title</th>\n",
       "      <th>overview</th>\n",
       "      <th>popularity</th>\n",
       "      <th>production_companies</th>\n",
       "      <th>...</th>\n",
       "      <th>runtime</th>\n",
       "      <th>spoken_languages</th>\n",
       "      <th>status</th>\n",
       "      <th>tagline</th>\n",
       "      <th>title_x</th>\n",
       "      <th>vote_average</th>\n",
       "      <th>vote_count</th>\n",
       "      <th>title_y</th>\n",
       "      <th>cast</th>\n",
       "      <th>director</th>\n",
       "    </tr>\n",
       "  </thead>\n",
       "  <tbody>\n",
       "    <tr>\n",
       "      <th>0</th>\n",
       "      <td>237000000</td>\n",
       "      <td>Action</td>\n",
       "      <td>http://www.avatarmovie.com/</td>\n",
       "      <td>19995</td>\n",
       "      <td>[culture clash]</td>\n",
       "      <td>en</td>\n",
       "      <td>Avatar</td>\n",
       "      <td>In the 22nd century, a paraplegic Marine is di...</td>\n",
       "      <td>150.437577</td>\n",
       "      <td>[{\"name\": \"Ingenious Film Partners\", \"id\": 289...</td>\n",
       "      <td>...</td>\n",
       "      <td>162.0</td>\n",
       "      <td>[{\"iso_639_1\": \"en\", \"name\": \"English\"}, {\"iso...</td>\n",
       "      <td>Released</td>\n",
       "      <td>Enter the World of Pandora.</td>\n",
       "      <td>Avatar</td>\n",
       "      <td>7.2</td>\n",
       "      <td>11800</td>\n",
       "      <td>Avatar</td>\n",
       "      <td>[{\"cast_id\": 242, \"character\": \"Jake Sully\", \"...</td>\n",
       "      <td>James Cameron</td>\n",
       "    </tr>\n",
       "    <tr>\n",
       "      <th>1</th>\n",
       "      <td>300000000</td>\n",
       "      <td>Adventure</td>\n",
       "      <td>http://disney.go.com/disneypictures/pirates/</td>\n",
       "      <td>285</td>\n",
       "      <td>[ocean]</td>\n",
       "      <td>en</td>\n",
       "      <td>Pirates of the Caribbean: At World's End</td>\n",
       "      <td>Captain Barbossa, long believed to be dead, ha...</td>\n",
       "      <td>139.082615</td>\n",
       "      <td>[{\"name\": \"Walt Disney Pictures\", \"id\": 2}, {\"...</td>\n",
       "      <td>...</td>\n",
       "      <td>169.0</td>\n",
       "      <td>[{\"iso_639_1\": \"en\", \"name\": \"English\"}]</td>\n",
       "      <td>Released</td>\n",
       "      <td>At the end of the world, the adventure begins.</td>\n",
       "      <td>Pirates of the Caribbean: At World's End</td>\n",
       "      <td>6.9</td>\n",
       "      <td>4500</td>\n",
       "      <td>Pirates of the Caribbean: At World's End</td>\n",
       "      <td>[{\"cast_id\": 4, \"character\": \"Captain Jack Spa...</td>\n",
       "      <td>Gore Verbinski</td>\n",
       "    </tr>\n",
       "    <tr>\n",
       "      <th>2</th>\n",
       "      <td>245000000</td>\n",
       "      <td>Action</td>\n",
       "      <td>http://www.sonypictures.com/movies/spectre/</td>\n",
       "      <td>206647</td>\n",
       "      <td>[spy]</td>\n",
       "      <td>en</td>\n",
       "      <td>Spectre</td>\n",
       "      <td>A cryptic message from Bond’s past sends him o...</td>\n",
       "      <td>107.376788</td>\n",
       "      <td>[{\"name\": \"Columbia Pictures\", \"id\": 5}, {\"nam...</td>\n",
       "      <td>...</td>\n",
       "      <td>148.0</td>\n",
       "      <td>[{\"iso_639_1\": \"fr\", \"name\": \"Fran\\u00e7ais\"},...</td>\n",
       "      <td>Released</td>\n",
       "      <td>A Plan No One Escapes</td>\n",
       "      <td>Spectre</td>\n",
       "      <td>6.3</td>\n",
       "      <td>4466</td>\n",
       "      <td>Spectre</td>\n",
       "      <td>[{\"cast_id\": 1, \"character\": \"James Bond\", \"cr...</td>\n",
       "      <td>Sam Mendes</td>\n",
       "    </tr>\n",
       "    <tr>\n",
       "      <th>3</th>\n",
       "      <td>250000000</td>\n",
       "      <td>Action</td>\n",
       "      <td>http://www.thedarkknightrises.com/</td>\n",
       "      <td>49026</td>\n",
       "      <td>[dc comics]</td>\n",
       "      <td>en</td>\n",
       "      <td>The Dark Knight Rises</td>\n",
       "      <td>Following the death of District Attorney Harve...</td>\n",
       "      <td>112.312950</td>\n",
       "      <td>[{\"name\": \"Legendary Pictures\", \"id\": 923}, {\"...</td>\n",
       "      <td>...</td>\n",
       "      <td>165.0</td>\n",
       "      <td>[{\"iso_639_1\": \"en\", \"name\": \"English\"}]</td>\n",
       "      <td>Released</td>\n",
       "      <td>The Legend Ends</td>\n",
       "      <td>The Dark Knight Rises</td>\n",
       "      <td>7.6</td>\n",
       "      <td>9106</td>\n",
       "      <td>The Dark Knight Rises</td>\n",
       "      <td>[{\"cast_id\": 2, \"character\": \"Bruce Wayne / Ba...</td>\n",
       "      <td>Christopher Nolan</td>\n",
       "    </tr>\n",
       "    <tr>\n",
       "      <th>4</th>\n",
       "      <td>260000000</td>\n",
       "      <td>Action</td>\n",
       "      <td>http://movies.disney.com/john-carter</td>\n",
       "      <td>49529</td>\n",
       "      <td>[based on novel]</td>\n",
       "      <td>en</td>\n",
       "      <td>John Carter</td>\n",
       "      <td>John Carter is a war-weary, former military ca...</td>\n",
       "      <td>43.926995</td>\n",
       "      <td>[{\"name\": \"Walt Disney Pictures\", \"id\": 2}]</td>\n",
       "      <td>...</td>\n",
       "      <td>132.0</td>\n",
       "      <td>[{\"iso_639_1\": \"en\", \"name\": \"English\"}]</td>\n",
       "      <td>Released</td>\n",
       "      <td>Lost in our world, found in another.</td>\n",
       "      <td>John Carter</td>\n",
       "      <td>6.1</td>\n",
       "      <td>2124</td>\n",
       "      <td>John Carter</td>\n",
       "      <td>[{\"cast_id\": 5, \"character\": \"John Carter\", \"c...</td>\n",
       "      <td>Andrew Stanton</td>\n",
       "    </tr>\n",
       "  </tbody>\n",
       "</table>\n",
       "<p>5 rows × 23 columns</p>\n",
       "</div>"
      ],
      "text/plain": [
       "      budget     genres                                      homepage      id  \\\n",
       "0  237000000     Action                   http://www.avatarmovie.com/   19995   \n",
       "1  300000000  Adventure  http://disney.go.com/disneypictures/pirates/     285   \n",
       "2  245000000     Action   http://www.sonypictures.com/movies/spectre/  206647   \n",
       "3  250000000     Action            http://www.thedarkknightrises.com/   49026   \n",
       "4  260000000     Action          http://movies.disney.com/john-carter   49529   \n",
       "\n",
       "           keywords original_language  \\\n",
       "0   [culture clash]                en   \n",
       "1           [ocean]                en   \n",
       "2             [spy]                en   \n",
       "3       [dc comics]                en   \n",
       "4  [based on novel]                en   \n",
       "\n",
       "                             original_title  \\\n",
       "0                                    Avatar   \n",
       "1  Pirates of the Caribbean: At World's End   \n",
       "2                                   Spectre   \n",
       "3                     The Dark Knight Rises   \n",
       "4                               John Carter   \n",
       "\n",
       "                                            overview  popularity  \\\n",
       "0  In the 22nd century, a paraplegic Marine is di...  150.437577   \n",
       "1  Captain Barbossa, long believed to be dead, ha...  139.082615   \n",
       "2  A cryptic message from Bond’s past sends him o...  107.376788   \n",
       "3  Following the death of District Attorney Harve...  112.312950   \n",
       "4  John Carter is a war-weary, former military ca...   43.926995   \n",
       "\n",
       "                                production_companies  ... runtime  \\\n",
       "0  [{\"name\": \"Ingenious Film Partners\", \"id\": 289...  ...   162.0   \n",
       "1  [{\"name\": \"Walt Disney Pictures\", \"id\": 2}, {\"...  ...   169.0   \n",
       "2  [{\"name\": \"Columbia Pictures\", \"id\": 5}, {\"nam...  ...   148.0   \n",
       "3  [{\"name\": \"Legendary Pictures\", \"id\": 923}, {\"...  ...   165.0   \n",
       "4        [{\"name\": \"Walt Disney Pictures\", \"id\": 2}]  ...   132.0   \n",
       "\n",
       "                                    spoken_languages    status  \\\n",
       "0  [{\"iso_639_1\": \"en\", \"name\": \"English\"}, {\"iso...  Released   \n",
       "1           [{\"iso_639_1\": \"en\", \"name\": \"English\"}]  Released   \n",
       "2  [{\"iso_639_1\": \"fr\", \"name\": \"Fran\\u00e7ais\"},...  Released   \n",
       "3           [{\"iso_639_1\": \"en\", \"name\": \"English\"}]  Released   \n",
       "4           [{\"iso_639_1\": \"en\", \"name\": \"English\"}]  Released   \n",
       "\n",
       "                                          tagline  \\\n",
       "0                     Enter the World of Pandora.   \n",
       "1  At the end of the world, the adventure begins.   \n",
       "2                           A Plan No One Escapes   \n",
       "3                                 The Legend Ends   \n",
       "4            Lost in our world, found in another.   \n",
       "\n",
       "                                    title_x vote_average vote_count  \\\n",
       "0                                    Avatar          7.2      11800   \n",
       "1  Pirates of the Caribbean: At World's End          6.9       4500   \n",
       "2                                   Spectre          6.3       4466   \n",
       "3                     The Dark Knight Rises          7.6       9106   \n",
       "4                               John Carter          6.1       2124   \n",
       "\n",
       "                                    title_y  \\\n",
       "0                                    Avatar   \n",
       "1  Pirates of the Caribbean: At World's End   \n",
       "2                                   Spectre   \n",
       "3                     The Dark Knight Rises   \n",
       "4                               John Carter   \n",
       "\n",
       "                                                cast           director  \n",
       "0  [{\"cast_id\": 242, \"character\": \"Jake Sully\", \"...      James Cameron  \n",
       "1  [{\"cast_id\": 4, \"character\": \"Captain Jack Spa...     Gore Verbinski  \n",
       "2  [{\"cast_id\": 1, \"character\": \"James Bond\", \"cr...         Sam Mendes  \n",
       "3  [{\"cast_id\": 2, \"character\": \"Bruce Wayne / Ba...  Christopher Nolan  \n",
       "4  [{\"cast_id\": 5, \"character\": \"John Carter\", \"c...     Andrew Stanton  \n",
       "\n",
       "[5 rows x 23 columns]"
      ]
     },
     "execution_count": 23,
     "metadata": {},
     "output_type": "execute_result"
    }
   ],
   "source": [
    "movies.head()"
   ]
  },
  {
   "cell_type": "code",
   "execution_count": null,
   "id": "together-document",
   "metadata": {},
   "outputs": [],
   "source": []
  },
  {
   "cell_type": "markdown",
   "id": "continuous-commonwealth",
   "metadata": {},
   "source": [
    "now let us see the shape of the merged dataset,We can movies has 23 features"
   ]
  },
  {
   "cell_type": "code",
   "execution_count": 24,
   "id": "abstract-edmonton",
   "metadata": {},
   "outputs": [
    {
     "name": "stdout",
     "output_type": "stream",
     "text": [
      "movies: (4803, 23)\n"
     ]
    }
   ],
   "source": [
    "print(\"movies:\",movies.shape)"
   ]
  },
  {
   "cell_type": "code",
   "execution_count": 25,
   "id": "technological-shuttle",
   "metadata": {},
   "outputs": [
    {
     "data": {
      "text/html": [
       "<div>\n",
       "<style scoped>\n",
       "    .dataframe tbody tr th:only-of-type {\n",
       "        vertical-align: middle;\n",
       "    }\n",
       "\n",
       "    .dataframe tbody tr th {\n",
       "        vertical-align: top;\n",
       "    }\n",
       "\n",
       "    .dataframe thead th {\n",
       "        text-align: right;\n",
       "    }\n",
       "</style>\n",
       "<table border=\"1\" class=\"dataframe\">\n",
       "  <thead>\n",
       "    <tr style=\"text-align: right;\">\n",
       "      <th></th>\n",
       "      <th>budget</th>\n",
       "      <th>id</th>\n",
       "      <th>popularity</th>\n",
       "      <th>revenue</th>\n",
       "      <th>runtime</th>\n",
       "      <th>vote_average</th>\n",
       "      <th>vote_count</th>\n",
       "    </tr>\n",
       "  </thead>\n",
       "  <tbody>\n",
       "    <tr>\n",
       "      <th>budget</th>\n",
       "      <td>1.000000</td>\n",
       "      <td>-0.089377</td>\n",
       "      <td>0.505414</td>\n",
       "      <td>0.730823</td>\n",
       "      <td>0.269851</td>\n",
       "      <td>0.093146</td>\n",
       "      <td>0.593180</td>\n",
       "    </tr>\n",
       "    <tr>\n",
       "      <th>id</th>\n",
       "      <td>-0.089377</td>\n",
       "      <td>1.000000</td>\n",
       "      <td>0.031202</td>\n",
       "      <td>-0.050425</td>\n",
       "      <td>-0.153536</td>\n",
       "      <td>-0.270595</td>\n",
       "      <td>-0.004128</td>\n",
       "    </tr>\n",
       "    <tr>\n",
       "      <th>popularity</th>\n",
       "      <td>0.505414</td>\n",
       "      <td>0.031202</td>\n",
       "      <td>1.000000</td>\n",
       "      <td>0.644724</td>\n",
       "      <td>0.225502</td>\n",
       "      <td>0.273952</td>\n",
       "      <td>0.778130</td>\n",
       "    </tr>\n",
       "    <tr>\n",
       "      <th>revenue</th>\n",
       "      <td>0.730823</td>\n",
       "      <td>-0.050425</td>\n",
       "      <td>0.644724</td>\n",
       "      <td>1.000000</td>\n",
       "      <td>0.251093</td>\n",
       "      <td>0.197150</td>\n",
       "      <td>0.781487</td>\n",
       "    </tr>\n",
       "    <tr>\n",
       "      <th>runtime</th>\n",
       "      <td>0.269851</td>\n",
       "      <td>-0.153536</td>\n",
       "      <td>0.225502</td>\n",
       "      <td>0.251093</td>\n",
       "      <td>1.000000</td>\n",
       "      <td>0.375046</td>\n",
       "      <td>0.271944</td>\n",
       "    </tr>\n",
       "    <tr>\n",
       "      <th>vote_average</th>\n",
       "      <td>0.093146</td>\n",
       "      <td>-0.270595</td>\n",
       "      <td>0.273952</td>\n",
       "      <td>0.197150</td>\n",
       "      <td>0.375046</td>\n",
       "      <td>1.000000</td>\n",
       "      <td>0.312997</td>\n",
       "    </tr>\n",
       "    <tr>\n",
       "      <th>vote_count</th>\n",
       "      <td>0.593180</td>\n",
       "      <td>-0.004128</td>\n",
       "      <td>0.778130</td>\n",
       "      <td>0.781487</td>\n",
       "      <td>0.271944</td>\n",
       "      <td>0.312997</td>\n",
       "      <td>1.000000</td>\n",
       "    </tr>\n",
       "  </tbody>\n",
       "</table>\n",
       "</div>"
      ],
      "text/plain": [
       "                budget        id  popularity   revenue   runtime  \\\n",
       "budget        1.000000 -0.089377    0.505414  0.730823  0.269851   \n",
       "id           -0.089377  1.000000    0.031202 -0.050425 -0.153536   \n",
       "popularity    0.505414  0.031202    1.000000  0.644724  0.225502   \n",
       "revenue       0.730823 -0.050425    0.644724  1.000000  0.251093   \n",
       "runtime       0.269851 -0.153536    0.225502  0.251093  1.000000   \n",
       "vote_average  0.093146 -0.270595    0.273952  0.197150  0.375046   \n",
       "vote_count    0.593180 -0.004128    0.778130  0.781487  0.271944   \n",
       "\n",
       "              vote_average  vote_count  \n",
       "budget            0.093146    0.593180  \n",
       "id               -0.270595   -0.004128  \n",
       "popularity        0.273952    0.778130  \n",
       "revenue           0.197150    0.781487  \n",
       "runtime           0.375046    0.271944  \n",
       "vote_average      1.000000    0.312997  \n",
       "vote_count        0.312997    1.000000  "
      ]
     },
     "execution_count": 25,
     "metadata": {},
     "output_type": "execute_result"
    }
   ],
   "source": [
    "#corr() is to find the relationship between the columns\n",
    "movies.corr()"
   ]
  },
  {
   "cell_type": "markdown",
   "id": "expensive-contribution",
   "metadata": {},
   "source": []
  },
  {
   "cell_type": "code",
   "execution_count": null,
   "id": "ongoing-montreal",
   "metadata": {},
   "outputs": [],
   "source": []
  },
  {
   "cell_type": "markdown",
   "id": "complex-blind",
   "metadata": {},
   "source": [
    "### Checking for null values"
   ]
  },
  {
   "cell_type": "code",
   "execution_count": 26,
   "id": "diverse-penalty",
   "metadata": {},
   "outputs": [
    {
     "data": {
      "text/plain": [
       "budget                  False\n",
       "genres                  False\n",
       "homepage                 True\n",
       "id                      False\n",
       "keywords                False\n",
       "original_language       False\n",
       "original_title          False\n",
       "overview                 True\n",
       "popularity              False\n",
       "production_companies    False\n",
       "production_countries    False\n",
       "release_date             True\n",
       "revenue                 False\n",
       "runtime                  True\n",
       "spoken_languages        False\n",
       "status                  False\n",
       "tagline                  True\n",
       "title_x                 False\n",
       "vote_average            False\n",
       "vote_count              False\n",
       "title_y                 False\n",
       "cast                    False\n",
       "director                 True\n",
       "dtype: bool"
      ]
     },
     "execution_count": 26,
     "metadata": {},
     "output_type": "execute_result"
    }
   ],
   "source": [
    "movies.isnull().any()"
   ]
  },
  {
   "cell_type": "code",
   "execution_count": 27,
   "id": "consistent-finnish",
   "metadata": {},
   "outputs": [
    {
     "data": {
      "text/plain": [
       "budget                     0\n",
       "genres                     0\n",
       "homepage                3091\n",
       "id                         0\n",
       "keywords                   0\n",
       "original_language          0\n",
       "original_title             0\n",
       "overview                   3\n",
       "popularity                 0\n",
       "production_companies       0\n",
       "production_countries       0\n",
       "release_date               1\n",
       "revenue                    0\n",
       "runtime                    2\n",
       "spoken_languages           0\n",
       "status                     0\n",
       "tagline                  844\n",
       "title_x                    0\n",
       "vote_average               0\n",
       "vote_count                 0\n",
       "title_y                    0\n",
       "cast                       0\n",
       "director                  30\n",
       "dtype: int64"
      ]
     },
     "execution_count": 27,
     "metadata": {},
     "output_type": "execute_result"
    }
   ],
   "source": [
    "movies.isnull().sum()"
   ]
  },
  {
   "cell_type": "code",
   "execution_count": 28,
   "id": "abroad-feeling",
   "metadata": {},
   "outputs": [
    {
     "data": {
      "text/plain": [
       "<AxesSubplot:>"
      ]
     },
     "execution_count": 28,
     "metadata": {},
     "output_type": "execute_result"
    },
    {
     "data": {
      "image/png": "[encoded data removed]",
      "text/plain": [
       "<Figure size 432x288 with 1 Axes>"
      ]
     },
     "metadata": {
      "needs_background": "light"
     },
     "output_type": "display_data"
    }
   ],
   "source": [
    "sns.heatmap(movies.isnull(),yticklabels=False,cbar=False,cmap='viridis')"
   ]
  },
  {
   "cell_type": "markdown",
   "id": "received-enhancement",
   "metadata": {},
   "source": [
    "we can see,home page and tagline have null values,but they have least importance and can be ignored"
   ]
  },
  {
   "cell_type": "markdown",
   "id": "fresh-effect",
   "metadata": {},
   "source": [
    "But ,as director and run time are important features and has only 30 nulls and 2 nulls,Dropping the rows with null values"
   ]
  },
  {
   "cell_type": "code",
   "execution_count": 29,
   "id": "racial-affect",
   "metadata": {},
   "outputs": [],
   "source": [
    "#Dropping the null values\n",
    "movies = movies.dropna(subset = ['director','runtime'])\n"
   ]
  },
  {
   "cell_type": "code",
   "execution_count": 30,
   "id": "brutal-tooth",
   "metadata": {},
   "outputs": [
    {
     "data": {
      "text/plain": [
       "budget                     0\n",
       "genres                     0\n",
       "homepage                3063\n",
       "id                         0\n",
       "keywords                   0\n",
       "original_language          0\n",
       "original_title             0\n",
       "overview                   1\n",
       "popularity                 0\n",
       "production_companies       0\n",
       "production_countries       0\n",
       "release_date               0\n",
       "revenue                    0\n",
       "runtime                    0\n",
       "spoken_languages           0\n",
       "status                     0\n",
       "tagline                  820\n",
       "title_x                    0\n",
       "vote_average               0\n",
       "vote_count                 0\n",
       "title_y                    0\n",
       "cast                       0\n",
       "director                   0\n",
       "dtype: int64"
      ]
     },
     "execution_count": 30,
     "metadata": {},
     "output_type": "execute_result"
    }
   ],
   "source": [
    "movies.isnull().sum()"
   ]
  },
  {
   "cell_type": "code",
   "execution_count": null,
   "id": "dirty-elder",
   "metadata": {},
   "outputs": [],
   "source": []
  },
  {
   "cell_type": "code",
   "execution_count": 31,
   "id": "peripheral-state",
   "metadata": {},
   "outputs": [
    {
     "data": {
      "text/html": [
       "<div>\n",
       "<style scoped>\n",
       "    .dataframe tbody tr th:only-of-type {\n",
       "        vertical-align: middle;\n",
       "    }\n",
       "\n",
       "    .dataframe tbody tr th {\n",
       "        vertical-align: top;\n",
       "    }\n",
       "\n",
       "    .dataframe thead th {\n",
       "        text-align: right;\n",
       "    }\n",
       "</style>\n",
       "<table border=\"1\" class=\"dataframe\">\n",
       "  <thead>\n",
       "    <tr style=\"text-align: right;\">\n",
       "      <th></th>\n",
       "      <th>budget</th>\n",
       "      <th>genres</th>\n",
       "      <th>homepage</th>\n",
       "      <th>id</th>\n",
       "      <th>keywords</th>\n",
       "      <th>original_language</th>\n",
       "      <th>original_title</th>\n",
       "      <th>overview</th>\n",
       "      <th>popularity</th>\n",
       "      <th>production_companies</th>\n",
       "      <th>...</th>\n",
       "      <th>runtime</th>\n",
       "      <th>spoken_languages</th>\n",
       "      <th>status</th>\n",
       "      <th>tagline</th>\n",
       "      <th>title_x</th>\n",
       "      <th>vote_average</th>\n",
       "      <th>vote_count</th>\n",
       "      <th>title_y</th>\n",
       "      <th>cast</th>\n",
       "      <th>director</th>\n",
       "    </tr>\n",
       "  </thead>\n",
       "  <tbody>\n",
       "    <tr>\n",
       "      <th>0</th>\n",
       "      <td>237000000</td>\n",
       "      <td>Action</td>\n",
       "      <td>http://www.avatarmovie.com/</td>\n",
       "      <td>19995</td>\n",
       "      <td>[culture clash]</td>\n",
       "      <td>en</td>\n",
       "      <td>Avatar</td>\n",
       "      <td>In the 22nd century, a paraplegic Marine is di...</td>\n",
       "      <td>150.437577</td>\n",
       "      <td>[{\"name\": \"Ingenious Film Partners\", \"id\": 289...</td>\n",
       "      <td>...</td>\n",
       "      <td>162.0</td>\n",
       "      <td>[{\"iso_639_1\": \"en\", \"name\": \"English\"}, {\"iso...</td>\n",
       "      <td>Released</td>\n",
       "      <td>Enter the World of Pandora.</td>\n",
       "      <td>Avatar</td>\n",
       "      <td>7.2</td>\n",
       "      <td>11800</td>\n",
       "      <td>Avatar</td>\n",
       "      <td>[{\"cast_id\": 242, \"character\": \"Jake Sully\", \"...</td>\n",
       "      <td>James Cameron</td>\n",
       "    </tr>\n",
       "    <tr>\n",
       "      <th>1</th>\n",
       "      <td>300000000</td>\n",
       "      <td>Adventure</td>\n",
       "      <td>http://disney.go.com/disneypictures/pirates/</td>\n",
       "      <td>285</td>\n",
       "      <td>[ocean]</td>\n",
       "      <td>en</td>\n",
       "      <td>Pirates of the Caribbean: At World's End</td>\n",
       "      <td>Captain Barbossa, long believed to be dead, ha...</td>\n",
       "      <td>139.082615</td>\n",
       "      <td>[{\"name\": \"Walt Disney Pictures\", \"id\": 2}, {\"...</td>\n",
       "      <td>...</td>\n",
       "      <td>169.0</td>\n",
       "      <td>[{\"iso_639_1\": \"en\", \"name\": \"English\"}]</td>\n",
       "      <td>Released</td>\n",
       "      <td>At the end of the world, the adventure begins.</td>\n",
       "      <td>Pirates of the Caribbean: At World's End</td>\n",
       "      <td>6.9</td>\n",
       "      <td>4500</td>\n",
       "      <td>Pirates of the Caribbean: At World's End</td>\n",
       "      <td>[{\"cast_id\": 4, \"character\": \"Captain Jack Spa...</td>\n",
       "      <td>Gore Verbinski</td>\n",
       "    </tr>\n",
       "    <tr>\n",
       "      <th>2</th>\n",
       "      <td>245000000</td>\n",
       "      <td>Action</td>\n",
       "      <td>http://www.sonypictures.com/movies/spectre/</td>\n",
       "      <td>206647</td>\n",
       "      <td>[spy]</td>\n",
       "      <td>en</td>\n",
       "      <td>Spectre</td>\n",
       "      <td>A cryptic message from Bond’s past sends him o...</td>\n",
       "      <td>107.376788</td>\n",
       "      <td>[{\"name\": \"Columbia Pictures\", \"id\": 5}, {\"nam...</td>\n",
       "      <td>...</td>\n",
       "      <td>148.0</td>\n",
       "      <td>[{\"iso_639_1\": \"fr\", \"name\": \"Fran\\u00e7ais\"},...</td>\n",
       "      <td>Released</td>\n",
       "      <td>A Plan No One Escapes</td>\n",
       "      <td>Spectre</td>\n",
       "      <td>6.3</td>\n",
       "      <td>4466</td>\n",
       "      <td>Spectre</td>\n",
       "      <td>[{\"cast_id\": 1, \"character\": \"James Bond\", \"cr...</td>\n",
       "      <td>Sam Mendes</td>\n",
       "    </tr>\n",
       "    <tr>\n",
       "      <th>3</th>\n",
       "      <td>250000000</td>\n",
       "      <td>Action</td>\n",
       "      <td>http://www.thedarkknightrises.com/</td>\n",
       "      <td>49026</td>\n",
       "      <td>[dc comics]</td>\n",
       "      <td>en</td>\n",
       "      <td>The Dark Knight Rises</td>\n",
       "      <td>Following the death of District Attorney Harve...</td>\n",
       "      <td>112.312950</td>\n",
       "      <td>[{\"name\": \"Legendary Pictures\", \"id\": 923}, {\"...</td>\n",
       "      <td>...</td>\n",
       "      <td>165.0</td>\n",
       "      <td>[{\"iso_639_1\": \"en\", \"name\": \"English\"}]</td>\n",
       "      <td>Released</td>\n",
       "      <td>The Legend Ends</td>\n",
       "      <td>The Dark Knight Rises</td>\n",
       "      <td>7.6</td>\n",
       "      <td>9106</td>\n",
       "      <td>The Dark Knight Rises</td>\n",
       "      <td>[{\"cast_id\": 2, \"character\": \"Bruce Wayne / Ba...</td>\n",
       "      <td>Christopher Nolan</td>\n",
       "    </tr>\n",
       "    <tr>\n",
       "      <th>4</th>\n",
       "      <td>260000000</td>\n",
       "      <td>Action</td>\n",
       "      <td>http://movies.disney.com/john-carter</td>\n",
       "      <td>49529</td>\n",
       "      <td>[based on novel]</td>\n",
       "      <td>en</td>\n",
       "      <td>John Carter</td>\n",
       "      <td>John Carter is a war-weary, former military ca...</td>\n",
       "      <td>43.926995</td>\n",
       "      <td>[{\"name\": \"Walt Disney Pictures\", \"id\": 2}]</td>\n",
       "      <td>...</td>\n",
       "      <td>132.0</td>\n",
       "      <td>[{\"iso_639_1\": \"en\", \"name\": \"English\"}]</td>\n",
       "      <td>Released</td>\n",
       "      <td>Lost in our world, found in another.</td>\n",
       "      <td>John Carter</td>\n",
       "      <td>6.1</td>\n",
       "      <td>2124</td>\n",
       "      <td>John Carter</td>\n",
       "      <td>[{\"cast_id\": 5, \"character\": \"John Carter\", \"c...</td>\n",
       "      <td>Andrew Stanton</td>\n",
       "    </tr>\n",
       "  </tbody>\n",
       "</table>\n",
       "<p>5 rows × 23 columns</p>\n",
       "</div>"
      ],
      "text/plain": [
       "      budget     genres                                      homepage      id  \\\n",
       "0  237000000     Action                   http://www.avatarmovie.com/   19995   \n",
       "1  300000000  Adventure  http://disney.go.com/disneypictures/pirates/     285   \n",
       "2  245000000     Action   http://www.sonypictures.com/movies/spectre/  206647   \n",
       "3  250000000     Action            http://www.thedarkknightrises.com/   49026   \n",
       "4  260000000     Action          http://movies.disney.com/john-carter   49529   \n",
       "\n",
       "           keywords original_language  \\\n",
       "0   [culture clash]                en   \n",
       "1           [ocean]                en   \n",
       "2             [spy]                en   \n",
       "3       [dc comics]                en   \n",
       "4  [based on novel]                en   \n",
       "\n",
       "                             original_title  \\\n",
       "0                                    Avatar   \n",
       "1  Pirates of the Caribbean: At World's End   \n",
       "2                                   Spectre   \n",
       "3                     The Dark Knight Rises   \n",
       "4                               John Carter   \n",
       "\n",
       "                                            overview  popularity  \\\n",
       "0  In the 22nd century, a paraplegic Marine is di...  150.437577   \n",
       "1  Captain Barbossa, long believed to be dead, ha...  139.082615   \n",
       "2  A cryptic message from Bond’s past sends him o...  107.376788   \n",
       "3  Following the death of District Attorney Harve...  112.312950   \n",
       "4  John Carter is a war-weary, former military ca...   43.926995   \n",
       "\n",
       "                                production_companies  ... runtime  \\\n",
       "0  [{\"name\": \"Ingenious Film Partners\", \"id\": 289...  ...   162.0   \n",
       "1  [{\"name\": \"Walt Disney Pictures\", \"id\": 2}, {\"...  ...   169.0   \n",
       "2  [{\"name\": \"Columbia Pictures\", \"id\": 5}, {\"nam...  ...   148.0   \n",
       "3  [{\"name\": \"Legendary Pictures\", \"id\": 923}, {\"...  ...   165.0   \n",
       "4        [{\"name\": \"Walt Disney Pictures\", \"id\": 2}]  ...   132.0   \n",
       "\n",
       "                                    spoken_languages    status  \\\n",
       "0  [{\"iso_639_1\": \"en\", \"name\": \"English\"}, {\"iso...  Released   \n",
       "1           [{\"iso_639_1\": \"en\", \"name\": \"English\"}]  Released   \n",
       "2  [{\"iso_639_1\": \"fr\", \"name\": \"Fran\\u00e7ais\"},...  Released   \n",
       "3           [{\"iso_639_1\": \"en\", \"name\": \"English\"}]  Released   \n",
       "4           [{\"iso_639_1\": \"en\", \"name\": \"English\"}]  Released   \n",
       "\n",
       "                                          tagline  \\\n",
       "0                     Enter the World of Pandora.   \n",
       "1  At the end of the world, the adventure begins.   \n",
       "2                           A Plan No One Escapes   \n",
       "3                                 The Legend Ends   \n",
       "4            Lost in our world, found in another.   \n",
       "\n",
       "                                    title_x vote_average vote_count  \\\n",
       "0                                    Avatar          7.2      11800   \n",
       "1  Pirates of the Caribbean: At World's End          6.9       4500   \n",
       "2                                   Spectre          6.3       4466   \n",
       "3                     The Dark Knight Rises          7.6       9106   \n",
       "4                               John Carter          6.1       2124   \n",
       "\n",
       "                                    title_y  \\\n",
       "0                                    Avatar   \n",
       "1  Pirates of the Caribbean: At World's End   \n",
       "2                                   Spectre   \n",
       "3                     The Dark Knight Rises   \n",
       "4                               John Carter   \n",
       "\n",
       "                                                cast           director  \n",
       "0  [{\"cast_id\": 242, \"character\": \"Jake Sully\", \"...      James Cameron  \n",
       "1  [{\"cast_id\": 4, \"character\": \"Captain Jack Spa...     Gore Verbinski  \n",
       "2  [{\"cast_id\": 1, \"character\": \"James Bond\", \"cr...         Sam Mendes  \n",
       "3  [{\"cast_id\": 2, \"character\": \"Bruce Wayne / Ba...  Christopher Nolan  \n",
       "4  [{\"cast_id\": 5, \"character\": \"John Carter\", \"c...     Andrew Stanton  \n",
       "\n",
       "[5 rows x 23 columns]"
      ]
     },
     "execution_count": 31,
     "metadata": {},
     "output_type": "execute_result"
    }
   ],
   "source": [
    "movies.head(5)"
   ]
  },
  {
   "cell_type": "markdown",
   "id": "virgin-disabled",
   "metadata": {},
   "source": [
    "The numbers in the budget and revenue are too big, compromising its readability. Let's convert the unit of the budget and revenue columns from $ to million $ first"
   ]
  },
  {
   "cell_type": "code",
   "execution_count": 32,
   "id": "controlling-content",
   "metadata": {},
   "outputs": [],
   "source": [
    "#Divide the revenue and budget columns by 1000000 to convert $ to million $\n",
    "movies[\"revenue\"]=movies[\"revenue\"].floordiv(1000000)\n",
    "movies[\"budget\"]=movies[\"budget\"].floordiv(1000000)"
   ]
  },
  {
   "cell_type": "code",
   "execution_count": 33,
   "id": "opponent-movement",
   "metadata": {},
   "outputs": [
    {
     "data": {
      "text/html": [
       "<div>\n",
       "<style scoped>\n",
       "    .dataframe tbody tr th:only-of-type {\n",
       "        vertical-align: middle;\n",
       "    }\n",
       "\n",
       "    .dataframe tbody tr th {\n",
       "        vertical-align: top;\n",
       "    }\n",
       "\n",
       "    .dataframe thead th {\n",
       "        text-align: right;\n",
       "    }\n",
       "</style>\n",
       "<table border=\"1\" class=\"dataframe\">\n",
       "  <thead>\n",
       "    <tr style=\"text-align: right;\">\n",
       "      <th></th>\n",
       "      <th>budget</th>\n",
       "      <th>genres</th>\n",
       "      <th>homepage</th>\n",
       "      <th>id</th>\n",
       "      <th>keywords</th>\n",
       "      <th>original_language</th>\n",
       "      <th>original_title</th>\n",
       "      <th>overview</th>\n",
       "      <th>popularity</th>\n",
       "      <th>production_companies</th>\n",
       "      <th>...</th>\n",
       "      <th>runtime</th>\n",
       "      <th>spoken_languages</th>\n",
       "      <th>status</th>\n",
       "      <th>tagline</th>\n",
       "      <th>title_x</th>\n",
       "      <th>vote_average</th>\n",
       "      <th>vote_count</th>\n",
       "      <th>title_y</th>\n",
       "      <th>cast</th>\n",
       "      <th>director</th>\n",
       "    </tr>\n",
       "  </thead>\n",
       "  <tbody>\n",
       "    <tr>\n",
       "      <th>0</th>\n",
       "      <td>237</td>\n",
       "      <td>Action</td>\n",
       "      <td>http://www.avatarmovie.com/</td>\n",
       "      <td>19995</td>\n",
       "      <td>[culture clash]</td>\n",
       "      <td>en</td>\n",
       "      <td>Avatar</td>\n",
       "      <td>In the 22nd century, a paraplegic Marine is di...</td>\n",
       "      <td>150.437577</td>\n",
       "      <td>[{\"name\": \"Ingenious Film Partners\", \"id\": 289...</td>\n",
       "      <td>...</td>\n",
       "      <td>162.0</td>\n",
       "      <td>[{\"iso_639_1\": \"en\", \"name\": \"English\"}, {\"iso...</td>\n",
       "      <td>Released</td>\n",
       "      <td>Enter the World of Pandora.</td>\n",
       "      <td>Avatar</td>\n",
       "      <td>7.2</td>\n",
       "      <td>11800</td>\n",
       "      <td>Avatar</td>\n",
       "      <td>[{\"cast_id\": 242, \"character\": \"Jake Sully\", \"...</td>\n",
       "      <td>James Cameron</td>\n",
       "    </tr>\n",
       "    <tr>\n",
       "      <th>1</th>\n",
       "      <td>300</td>\n",
       "      <td>Adventure</td>\n",
       "      <td>http://disney.go.com/disneypictures/pirates/</td>\n",
       "      <td>285</td>\n",
       "      <td>[ocean]</td>\n",
       "      <td>en</td>\n",
       "      <td>Pirates of the Caribbean: At World's End</td>\n",
       "      <td>Captain Barbossa, long believed to be dead, ha...</td>\n",
       "      <td>139.082615</td>\n",
       "      <td>[{\"name\": \"Walt Disney Pictures\", \"id\": 2}, {\"...</td>\n",
       "      <td>...</td>\n",
       "      <td>169.0</td>\n",
       "      <td>[{\"iso_639_1\": \"en\", \"name\": \"English\"}]</td>\n",
       "      <td>Released</td>\n",
       "      <td>At the end of the world, the adventure begins.</td>\n",
       "      <td>Pirates of the Caribbean: At World's End</td>\n",
       "      <td>6.9</td>\n",
       "      <td>4500</td>\n",
       "      <td>Pirates of the Caribbean: At World's End</td>\n",
       "      <td>[{\"cast_id\": 4, \"character\": \"Captain Jack Spa...</td>\n",
       "      <td>Gore Verbinski</td>\n",
       "    </tr>\n",
       "    <tr>\n",
       "      <th>2</th>\n",
       "      <td>245</td>\n",
       "      <td>Action</td>\n",
       "      <td>http://www.sonypictures.com/movies/spectre/</td>\n",
       "      <td>206647</td>\n",
       "      <td>[spy]</td>\n",
       "      <td>en</td>\n",
       "      <td>Spectre</td>\n",
       "      <td>A cryptic message from Bond’s past sends him o...</td>\n",
       "      <td>107.376788</td>\n",
       "      <td>[{\"name\": \"Columbia Pictures\", \"id\": 5}, {\"nam...</td>\n",
       "      <td>...</td>\n",
       "      <td>148.0</td>\n",
       "      <td>[{\"iso_639_1\": \"fr\", \"name\": \"Fran\\u00e7ais\"},...</td>\n",
       "      <td>Released</td>\n",
       "      <td>A Plan No One Escapes</td>\n",
       "      <td>Spectre</td>\n",
       "      <td>6.3</td>\n",
       "      <td>4466</td>\n",
       "      <td>Spectre</td>\n",
       "      <td>[{\"cast_id\": 1, \"character\": \"James Bond\", \"cr...</td>\n",
       "      <td>Sam Mendes</td>\n",
       "    </tr>\n",
       "    <tr>\n",
       "      <th>3</th>\n",
       "      <td>250</td>\n",
       "      <td>Action</td>\n",
       "      <td>http://www.thedarkknightrises.com/</td>\n",
       "      <td>49026</td>\n",
       "      <td>[dc comics]</td>\n",
       "      <td>en</td>\n",
       "      <td>The Dark Knight Rises</td>\n",
       "      <td>Following the death of District Attorney Harve...</td>\n",
       "      <td>112.312950</td>\n",
       "      <td>[{\"name\": \"Legendary Pictures\", \"id\": 923}, {\"...</td>\n",
       "      <td>...</td>\n",
       "      <td>165.0</td>\n",
       "      <td>[{\"iso_639_1\": \"en\", \"name\": \"English\"}]</td>\n",
       "      <td>Released</td>\n",
       "      <td>The Legend Ends</td>\n",
       "      <td>The Dark Knight Rises</td>\n",
       "      <td>7.6</td>\n",
       "      <td>9106</td>\n",
       "      <td>The Dark Knight Rises</td>\n",
       "      <td>[{\"cast_id\": 2, \"character\": \"Bruce Wayne / Ba...</td>\n",
       "      <td>Christopher Nolan</td>\n",
       "    </tr>\n",
       "    <tr>\n",
       "      <th>4</th>\n",
       "      <td>260</td>\n",
       "      <td>Action</td>\n",
       "      <td>http://movies.disney.com/john-carter</td>\n",
       "      <td>49529</td>\n",
       "      <td>[based on novel]</td>\n",
       "      <td>en</td>\n",
       "      <td>John Carter</td>\n",
       "      <td>John Carter is a war-weary, former military ca...</td>\n",
       "      <td>43.926995</td>\n",
       "      <td>[{\"name\": \"Walt Disney Pictures\", \"id\": 2}]</td>\n",
       "      <td>...</td>\n",
       "      <td>132.0</td>\n",
       "      <td>[{\"iso_639_1\": \"en\", \"name\": \"English\"}]</td>\n",
       "      <td>Released</td>\n",
       "      <td>Lost in our world, found in another.</td>\n",
       "      <td>John Carter</td>\n",
       "      <td>6.1</td>\n",
       "      <td>2124</td>\n",
       "      <td>John Carter</td>\n",
       "      <td>[{\"cast_id\": 5, \"character\": \"John Carter\", \"c...</td>\n",
       "      <td>Andrew Stanton</td>\n",
       "    </tr>\n",
       "  </tbody>\n",
       "</table>\n",
       "<p>5 rows × 23 columns</p>\n",
       "</div>"
      ],
      "text/plain": [
       "   budget     genres                                      homepage      id  \\\n",
       "0     237     Action                   http://www.avatarmovie.com/   19995   \n",
       "1     300  Adventure  http://disney.go.com/disneypictures/pirates/     285   \n",
       "2     245     Action   http://www.sonypictures.com/movies/spectre/  206647   \n",
       "3     250     Action            http://www.thedarkknightrises.com/   49026   \n",
       "4     260     Action          http://movies.disney.com/john-carter   49529   \n",
       "\n",
       "           keywords original_language  \\\n",
       "0   [culture clash]                en   \n",
       "1           [ocean]                en   \n",
       "2             [spy]                en   \n",
       "3       [dc comics]                en   \n",
       "4  [based on novel]                en   \n",
       "\n",
       "                             original_title  \\\n",
       "0                                    Avatar   \n",
       "1  Pirates of the Caribbean: At World's End   \n",
       "2                                   Spectre   \n",
       "3                     The Dark Knight Rises   \n",
       "4                               John Carter   \n",
       "\n",
       "                                            overview  popularity  \\\n",
       "0  In the 22nd century, a paraplegic Marine is di...  150.437577   \n",
       "1  Captain Barbossa, long believed to be dead, ha...  139.082615   \n",
       "2  A cryptic message from Bond’s past sends him o...  107.376788   \n",
       "3  Following the death of District Attorney Harve...  112.312950   \n",
       "4  John Carter is a war-weary, former military ca...   43.926995   \n",
       "\n",
       "                                production_companies  ... runtime  \\\n",
       "0  [{\"name\": \"Ingenious Film Partners\", \"id\": 289...  ...   162.0   \n",
       "1  [{\"name\": \"Walt Disney Pictures\", \"id\": 2}, {\"...  ...   169.0   \n",
       "2  [{\"name\": \"Columbia Pictures\", \"id\": 5}, {\"nam...  ...   148.0   \n",
       "3  [{\"name\": \"Legendary Pictures\", \"id\": 923}, {\"...  ...   165.0   \n",
       "4        [{\"name\": \"Walt Disney Pictures\", \"id\": 2}]  ...   132.0   \n",
       "\n",
       "                                    spoken_languages    status  \\\n",
       "0  [{\"iso_639_1\": \"en\", \"name\": \"English\"}, {\"iso...  Released   \n",
       "1           [{\"iso_639_1\": \"en\", \"name\": \"English\"}]  Released   \n",
       "2  [{\"iso_639_1\": \"fr\", \"name\": \"Fran\\u00e7ais\"},...  Released   \n",
       "3           [{\"iso_639_1\": \"en\", \"name\": \"English\"}]  Released   \n",
       "4           [{\"iso_639_1\": \"en\", \"name\": \"English\"}]  Released   \n",
       "\n",
       "                                          tagline  \\\n",
       "0                     Enter the World of Pandora.   \n",
       "1  At the end of the world, the adventure begins.   \n",
       "2                           A Plan No One Escapes   \n",
       "3                                 The Legend Ends   \n",
       "4            Lost in our world, found in another.   \n",
       "\n",
       "                                    title_x vote_average vote_count  \\\n",
       "0                                    Avatar          7.2      11800   \n",
       "1  Pirates of the Caribbean: At World's End          6.9       4500   \n",
       "2                                   Spectre          6.3       4466   \n",
       "3                     The Dark Knight Rises          7.6       9106   \n",
       "4                               John Carter          6.1       2124   \n",
       "\n",
       "                                    title_y  \\\n",
       "0                                    Avatar   \n",
       "1  Pirates of the Caribbean: At World's End   \n",
       "2                                   Spectre   \n",
       "3                     The Dark Knight Rises   \n",
       "4                               John Carter   \n",
       "\n",
       "                                                cast           director  \n",
       "0  [{\"cast_id\": 242, \"character\": \"Jake Sully\", \"...      James Cameron  \n",
       "1  [{\"cast_id\": 4, \"character\": \"Captain Jack Spa...     Gore Verbinski  \n",
       "2  [{\"cast_id\": 1, \"character\": \"James Bond\", \"cr...         Sam Mendes  \n",
       "3  [{\"cast_id\": 2, \"character\": \"Bruce Wayne / Ba...  Christopher Nolan  \n",
       "4  [{\"cast_id\": 5, \"character\": \"John Carter\", \"c...     Andrew Stanton  \n",
       "\n",
       "[5 rows x 23 columns]"
      ]
     },
     "execution_count": 33,
     "metadata": {},
     "output_type": "execute_result"
    }
   ],
   "source": [
    "movies.head(5)"
   ]
  },
  {
   "cell_type": "code",
   "execution_count": 34,
   "id": "arranged-beijing",
   "metadata": {},
   "outputs": [],
   "source": [
    "#As there cannot be any movie with budget as o,let us remove the rows with budget as 0\n",
    "movies = movies[movies['budget'] != 0]\n"
   ]
  },
  {
   "cell_type": "code",
   "execution_count": 35,
   "id": "thermal-listening",
   "metadata": {},
   "outputs": [
    {
     "name": "stdout",
     "output_type": "stream",
     "text": [
      "<class 'pandas.core.frame.DataFrame'>\n",
      "Int64Index: 3573 entries, 0 to 4758\n",
      "Data columns (total 23 columns):\n",
      " #   Column                Non-Null Count  Dtype  \n",
      "---  ------                --------------  -----  \n",
      " 0   budget                3573 non-null   int64  \n",
      " 1   genres                3573 non-null   object \n",
      " 2   homepage              1410 non-null   object \n",
      " 3   id                    3573 non-null   int64  \n",
      " 4   keywords              3573 non-null   object \n",
      " 5   original_language     3573 non-null   object \n",
      " 6   original_title        3573 non-null   object \n",
      " 7   overview              3573 non-null   object \n",
      " 8   popularity            3573 non-null   float64\n",
      " 9   production_companies  3573 non-null   object \n",
      " 10  production_countries  3573 non-null   object \n",
      " 11  release_date          3573 non-null   object \n",
      " 12  revenue               3573 non-null   int64  \n",
      " 13  runtime               3573 non-null   float64\n",
      " 14  spoken_languages      3573 non-null   object \n",
      " 15  status                3573 non-null   object \n",
      " 16  tagline               3230 non-null   object \n",
      " 17  title_x               3573 non-null   object \n",
      " 18  vote_average          3573 non-null   float64\n",
      " 19  vote_count            3573 non-null   int64  \n",
      " 20  title_y               3573 non-null   object \n",
      " 21  cast                  3573 non-null   object \n",
      " 22  director              3573 non-null   object \n",
      "dtypes: float64(3), int64(4), object(16)\n",
      "memory usage: 669.9+ KB\n"
     ]
    }
   ],
   "source": [
    "movies.info()"
   ]
  },
  {
   "cell_type": "code",
   "execution_count": 36,
   "id": "interracial-demand",
   "metadata": {},
   "outputs": [],
   "source": [
    "#Let us create three new columns and extract date,month and Day of the week from the release date\n",
    "movies['release_date'] = pd.DataFrame(pd.to_datetime(movies['release_date'],dayfirst=True))\n",
    "movies['release_month'] = movies['release_date'].dt.month\n",
    "movies['release_DOW'] = movies['release_date'].dt.dayofweek"
   ]
  },
  {
   "cell_type": "markdown",
   "id": "macro-apple",
   "metadata": {},
   "source": [
    "### Data visualization"
   ]
  },
  {
   "cell_type": "markdown",
   "id": "representative-consistency",
   "metadata": {},
   "source": [
    "Runtime"
   ]
  },
  {
   "cell_type": "code",
   "execution_count": 37,
   "id": "antique-lancaster",
   "metadata": {},
   "outputs": [
    {
     "data": {
      "text/plain": [
       "Text(0.5, 1.0, 'Boxplot of Runtime')"
      ]
     },
     "execution_count": 37,
     "metadata": {},
     "output_type": "execute_result"
    },
    {
     "data": {
      "image/png": "[encoded data removed]",
      "text/plain": [
       "<Figure size 432x288 with 1 Axes>"
      ]
     },
     "metadata": {
      "needs_background": "light"
     },
     "output_type": "display_data"
    }
   ],
   "source": [
    "sns.boxplot(x=movies['runtime'])\n",
    "plt.title('Boxplot of Runtime')"
   ]
  },
  {
   "cell_type": "code",
   "execution_count": 38,
   "id": "hawaiian-navigation",
   "metadata": {},
   "outputs": [
    {
     "data": {
      "text/plain": [
       "Text(0.5, 1.0, 'Boxplot of Revenue')"
      ]
     },
     "execution_count": 38,
     "metadata": {},
     "output_type": "execute_result"
    },
    {
     "data": {
      "image/png": "[encoded data removed]",
      "text/plain": [
       "<Figure size 432x288 with 1 Axes>"
      ]
     },
     "metadata": {
      "needs_background": "light"
     },
     "output_type": "display_data"
    }
   ],
   "source": [
    "sns.boxplot(x=movies['revenue'])\n",
    "plt.title('Boxplot of Revenue')"
   ]
  },
  {
   "cell_type": "code",
   "execution_count": null,
   "id": "freelance-wagner",
   "metadata": {},
   "outputs": [],
   "source": []
  },
  {
   "cell_type": "markdown",
   "id": "related-spirituality",
   "metadata": {},
   "source": [
    "budget"
   ]
  },
  {
   "cell_type": "code",
   "execution_count": 39,
   "id": "foster-worship",
   "metadata": {},
   "outputs": [
    {
     "data": {
      "text/plain": [
       "Text(0.5, 1.0, 'Boxplot of Budget')"
      ]
     },
     "execution_count": 39,
     "metadata": {},
     "output_type": "execute_result"
    },
    {
     "data": {
      "image/png": "[encoded data removed]",
      "text/plain": [
       "<Figure size 432x288 with 1 Axes>"
      ]
     },
     "metadata": {
      "needs_background": "light"
     },
     "output_type": "display_data"
    }
   ],
   "source": [
    "sns.boxplot(x=movies['budget'])\n",
    "plt.title('Boxplot of Budget')"
   ]
  },
  {
   "cell_type": "raw",
   "id": "secure-beverage",
   "metadata": {},
   "source": [
    "#removing outliers\n",
    "bq_low = movies['budget'].quantile(0.01)\n",
    "bq_hi  = movies['budget'].quantile(0.99)\n",
    "rq_low = movies['runtime'].quantile(0.01)\n",
    "rq_hi  = movies['runtime'].quantile(0.99)\n",
    "movies = movies[(movies['budget'] < bq_hi) & (movies['budget'] > bq_low) & (movies['runtime'] < rq_hi) & (movies['runtime'] > rq_low)]\n",
    "movies.shape\n"
   ]
  },
  {
   "cell_type": "raw",
   "id": "adaptive-adaptation",
   "metadata": {},
   "source": [
    "sns.boxplot(x=movies['runtime'])\n",
    "plt.title('Boxplot of Runtime(Outliers Removed)')"
   ]
  },
  {
   "cell_type": "raw",
   "id": "acute-mirror",
   "metadata": {},
   "source": [
    "sns.boxplot(x=movies['budget'])\n",
    "plt.title('Boxplot of Budget(Outliers Removed)')"
   ]
  },
  {
   "cell_type": "code",
   "execution_count": null,
   "id": "headed-marathon",
   "metadata": {},
   "outputs": [],
   "source": []
  },
  {
   "cell_type": "code",
   "execution_count": null,
   "id": "threaded-lewis",
   "metadata": {},
   "outputs": [],
   "source": []
  },
  {
   "cell_type": "code",
   "execution_count": null,
   "id": "confirmed-flush",
   "metadata": {},
   "outputs": [],
   "source": []
  },
  {
   "cell_type": "code",
   "execution_count": 40,
   "id": "demonstrated-vertex",
   "metadata": {},
   "outputs": [
    {
     "data": {
      "image/png": "[encoded data removed]",
      "text/plain": [
       "<Figure size 432x288 with 2 Axes>"
      ]
     },
     "metadata": {
      "needs_background": "light"
     },
     "output_type": "display_data"
    }
   ],
   "source": [
    "sns.heatmap(movies.corr(), cmap='YlGnBu', annot=True, linewidths = 0.2);"
   ]
  },
  {
   "cell_type": "markdown",
   "id": "imported-drive",
   "metadata": {},
   "source": [
    "we see that the output to be predicted \"Revenue\" depends more on budget,popularity and vote_count columns as they have correlation >=0.5\n",
    "Well, this explains that revenue is strongly correlated with the budget of the movies, and runtime is least correlated with revenue.So we can say that Budget of movie is directly related for the revenue generated.\n"
   ]
  },
  {
   "cell_type": "markdown",
   "id": "answering-district",
   "metadata": {},
   "source": [
    "Let’s plot the distribution of revenue using seaborn distplot."
   ]
  },
  {
   "cell_type": "markdown",
   "id": "differential-reproduction",
   "metadata": {},
   "source": [
    "the data in revenue column is very skewed and therefore it is difficult to draw a conclusion from this graph. we need to normalize this data. Therefore we will be normalizing it using log transformation."
   ]
  },
  {
   "cell_type": "code",
   "execution_count": 41,
   "id": "neural-webcam",
   "metadata": {},
   "outputs": [],
   "source": [
    "#creating log transformation for reveune\n",
    "movies['log_revenue'] = np.log1p(movies['revenue']) #we are not using log0 to avoid & and null value as there might be 0 value\n",
    "movies['log_budget'] = np.log1p(movies['budget'])"
   ]
  },
  {
   "cell_type": "markdown",
   "id": "binding-internship",
   "metadata": {},
   "source": [
    "Let’s compare our value Revenue and log transformation of revenue using the seaborn library."
   ]
  },
  {
   "cell_type": "code",
   "execution_count": 42,
   "id": "fitted-objective",
   "metadata": {
    "scrolled": true
   },
   "outputs": [
    {
     "data": {
      "image/png": "[encoded data removed]",
      "text/plain": [
       "<Figure size 1152x432 with 2 Axes>"
      ]
     },
     "metadata": {
      "needs_background": "light"
     },
     "output_type": "display_data"
    }
   ],
   "source": [
    "#comapring distribution of reveune and log revune side by side with histogram\n",
    "fig, ax = plt.subplots(figsize = (16, 6))\n",
    "plt.subplot(1, 2, 1) \n",
    "plt.hist(movies['revenue']);\n",
    "plt.title('Distribution of revenue');\n",
    "plt.subplot(1, 2, 2)\n",
    "plt.hist(movies['log_revenue']);\n",
    "plt.title('Distribution of log transformation of revenue');"
   ]
  },
  {
   "cell_type": "markdown",
   "id": "adult-shelter",
   "metadata": {},
   "source": [
    "We can see that original distribution i.e (one without log) is extremely skewed. We used the log transformation method and made data normally distributed which has less skewness and kurtosis."
   ]
  },
  {
   "cell_type": "markdown",
   "id": "palestinian-compensation",
   "metadata": {},
   "source": [
    "### Relationship between Film Revenue and Budget.\n",
    "Let’s examine the relationship using a scatter plot."
   ]
  },
  {
   "cell_type": "code",
   "execution_count": 43,
   "id": "hired-rates",
   "metadata": {},
   "outputs": [
    {
     "data": {
      "image/png": "[encoded data removed]",
      "text/plain": [
       "<Figure size 1152x576 with 2 Axes>"
      ]
     },
     "metadata": {
      "needs_background": "light"
     },
     "output_type": "display_data"
    }
   ],
   "source": [
    "#let's create scatter plot\n",
    "plt.figure(figsize=(16, 8))\n",
    "plt.subplot(1, 2, 1)\n",
    "plt.scatter(movies['budget'], movies['revenue'])\n",
    "plt.title('Revenue vs budget fig(1)');\n",
    "plt.subplot(1, 2, 2)\n",
    "plt.scatter(movies['log_budget'], movies['log_revenue'])\n",
    "plt.title('Log Revenue vs log budget fig(2)');"
   ]
  },
  {
   "cell_type": "markdown",
   "id": "weighted-retail",
   "metadata": {},
   "source": [
    "### Relationship between the home page and Revenue.\n",
    "Let’s find if having a home page affects revenue or not. And for that lets first find out movies have a home page or not."
   ]
  },
  {
   "cell_type": "code",
   "execution_count": 44,
   "id": "twelve-regular",
   "metadata": {
    "scrolled": true
   },
   "outputs": [
    {
     "data": {
      "image/png": "[encoded data removed]",
      "text/plain": [
       "<Figure size 360x360 with 1 Axes>"
      ]
     },
     "metadata": {
      "needs_background": "light"
     },
     "output_type": "display_data"
    }
   ],
   "source": [
    "#let's creat column called has_homepage and pass two value 1,0 (1, indicates has home page, 0 indicates no page)\n",
    "movies['has_homepage'] = 0\n",
    "movies.loc[movies['homepage'].isnull() == False, 'has_homepage'] = 1 #1 here means it has home page\n",
    "#since has_homepage is categorical value we will be using seaborn catplot.\n",
    "sns.catplot(x='has_homepage', y='revenue', data=movies);\n",
    "plt.title('Revenue for movie with and w/o homepage');"
   ]
  },
  {
   "cell_type": "markdown",
   "id": "gorgeous-thailand",
   "metadata": {},
   "source": [
    "From the above fig, we can see that movie that has a home page (indicated by blue) has more revenue compared to the movie that has no home page. From this scatterplot, we can say that they may be correlated.BUt as it has many null values dropping the home page column"
   ]
  },
  {
   "cell_type": "code",
   "execution_count": 45,
   "id": "applicable-attribute",
   "metadata": {
    "scrolled": true
   },
   "outputs": [
    {
     "name": "stderr",
     "output_type": "stream",
     "text": [
      "F:\\Anaconda\\lib\\site-packages\\seaborn\\_decorators.py:36: FutureWarning: Pass the following variables as keyword args: x, y. From version 0.12, the only valid positional argument will be `data`, and passing other arguments without an explicit keyword will result in an error or misinterpretation.\n",
      "  warnings.warn(\n",
      "F:\\Anaconda\\lib\\site-packages\\seaborn\\_decorators.py:36: FutureWarning: Pass the following variables as keyword args: x, y. From version 0.12, the only valid positional argument will be `data`, and passing other arguments without an explicit keyword will result in an error or misinterpretation.\n",
      "  warnings.warn(\n",
      "F:\\Anaconda\\lib\\site-packages\\seaborn\\_decorators.py:36: FutureWarning: Pass the following variables as keyword args: x, y. From version 0.12, the only valid positional argument will be `data`, and passing other arguments without an explicit keyword will result in an error or misinterpretation.\n",
      "  warnings.warn(\n"
     ]
    },
    {
     "data": {
      "image/png": "[encoded data removed]",
      "text/plain": [
       "<Figure size 432x432 with 3 Axes>"
      ]
     },
     "metadata": {
      "needs_background": "light"
     },
     "output_type": "display_data"
    },
    {
     "data": {
      "image/png": "[encoded data removed]",
      "text/plain": [
       "<Figure size 432x432 with 3 Axes>"
      ]
     },
     "metadata": {
      "needs_background": "light"
     },
     "output_type": "display_data"
    },
    {
     "data": {
      "image/png": "[encoded data removed]",
      "text/plain": [
       "<Figure size 432x432 with 3 Axes>"
      ]
     },
     "metadata": {
      "needs_background": "light"
     },
     "output_type": "display_data"
    }
   ],
   "source": [
    "sns.jointplot(movies.budget, movies.revenue);\n",
    "sns.jointplot(movies.popularity, movies.revenue);\n",
    "sns.jointplot(movies.runtime, movies.revenue);\n",
    "plt.show()\n"
   ]
  },
  {
   "cell_type": "code",
   "execution_count": null,
   "id": "literary-measure",
   "metadata": {},
   "outputs": [],
   "source": []
  },
  {
   "cell_type": "markdown",
   "id": "yellow-comedy",
   "metadata": {},
   "source": []
  },
  {
   "cell_type": "markdown",
   "id": "simple-surgery",
   "metadata": {},
   "source": [
    "#### Relationship between release_month and revenue"
   ]
  },
  {
   "cell_type": "code",
   "execution_count": 46,
   "id": "affiliated-trance",
   "metadata": {},
   "outputs": [
    {
     "name": "stderr",
     "output_type": "stream",
     "text": [
      "F:\\Anaconda\\lib\\site-packages\\seaborn\\_decorators.py:36: FutureWarning: Pass the following variables as keyword args: x, y. From version 0.12, the only valid positional argument will be `data`, and passing other arguments without an explicit keyword will result in an error or misinterpretation.\n",
      "  warnings.warn(\n"
     ]
    },
    {
     "data": {
      "text/plain": [
       "Text(0.5, 1.0, 'revenue')"
      ]
     },
     "execution_count": 46,
     "metadata": {},
     "output_type": "execute_result"
    },
    {
     "data": {
      "text/plain": [
       "<Figure size 1080x576 with 0 Axes>"
      ]
     },
     "metadata": {},
     "output_type": "display_data"
    },
    {
     "data": {
      "image/png": "[encoded data removed]",
      "text/plain": [
       "<Figure size 432x432 with 3 Axes>"
      ]
     },
     "metadata": {
      "needs_background": "light"
     },
     "output_type": "display_data"
    }
   ],
   "source": [
    "plt.figure(figsize=(15,8))\n",
    "sns.jointplot(movies.release_month, movies.revenue);\n",
    "plt.xticks(rotation=90)\n",
    "plt.xlabel('Months')\n",
    "plt.title('revenue')\n"
   ]
  },
  {
   "cell_type": "code",
   "execution_count": 47,
   "id": "minor-surname",
   "metadata": {},
   "outputs": [
    {
     "name": "stdout",
     "output_type": "stream",
     "text": [
      "<class 'pandas.core.frame.DataFrame'>\n",
      "Int64Index: 3573 entries, 0 to 4758\n",
      "Data columns (total 28 columns):\n",
      " #   Column                Non-Null Count  Dtype         \n",
      "---  ------                --------------  -----         \n",
      " 0   budget                3573 non-null   int64         \n",
      " 1   genres                3573 non-null   object        \n",
      " 2   homepage              1410 non-null   object        \n",
      " 3   id                    3573 non-null   int64         \n",
      " 4   keywords              3573 non-null   object        \n",
      " 5   original_language     3573 non-null   object        \n",
      " 6   original_title        3573 non-null   object        \n",
      " 7   overview              3573 non-null   object        \n",
      " 8   popularity            3573 non-null   float64       \n",
      " 9   production_companies  3573 non-null   object        \n",
      " 10  production_countries  3573 non-null   object        \n",
      " 11  release_date          3573 non-null   datetime64[ns]\n",
      " 12  revenue               3573 non-null   int64         \n",
      " 13  runtime               3573 non-null   float64       \n",
      " 14  spoken_languages      3573 non-null   object        \n",
      " 15  status                3573 non-null   object        \n",
      " 16  tagline               3230 non-null   object        \n",
      " 17  title_x               3573 non-null   object        \n",
      " 18  vote_average          3573 non-null   float64       \n",
      " 19  vote_count            3573 non-null   int64         \n",
      " 20  title_y               3573 non-null   object        \n",
      " 21  cast                  3573 non-null   object        \n",
      " 22  director              3573 non-null   object        \n",
      " 23  release_month         3573 non-null   int64         \n",
      " 24  release_DOW           3573 non-null   int64         \n",
      " 25  log_revenue           3573 non-null   float64       \n",
      " 26  log_budget            3573 non-null   float64       \n",
      " 27  has_homepage          3573 non-null   int64         \n",
      "dtypes: datetime64[ns](1), float64(5), int64(7), object(15)\n",
      "memory usage: 938.5+ KB\n"
     ]
    }
   ],
   "source": [
    "movies.info()"
   ]
  },
  {
   "cell_type": "code",
   "execution_count": null,
   "id": "funny-harvest",
   "metadata": {},
   "outputs": [],
   "source": []
  },
  {
   "cell_type": "markdown",
   "id": "exotic-conflict",
   "metadata": {},
   "source": [
    "Dropping the columns which are not required for analysis"
   ]
  },
  {
   "cell_type": "code",
   "execution_count": 48,
   "id": "unlikely-order",
   "metadata": {},
   "outputs": [],
   "source": [
    "movies_box = movies.drop(['homepage','id','keywords','original_language','original_title','overview','production_companies',\n",
    "                     'production_countries','release_date','spoken_languages','status','tagline',\n",
    "                     'title_x','title_y','cast','log_revenue','log_budget','has_homepage'],axis = 1)"
   ]
  },
  {
   "cell_type": "code",
   "execution_count": 49,
   "id": "original-watch",
   "metadata": {},
   "outputs": [
    {
     "data": {
      "text/plain": [
       "budget           0\n",
       "genres           0\n",
       "popularity       0\n",
       "revenue          0\n",
       "runtime          0\n",
       "vote_average     0\n",
       "vote_count       0\n",
       "director         0\n",
       "release_month    0\n",
       "release_DOW      0\n",
       "dtype: int64"
      ]
     },
     "execution_count": 49,
     "metadata": {},
     "output_type": "execute_result"
    }
   ],
   "source": [
    "movies_box.isnull().sum()"
   ]
  },
  {
   "cell_type": "code",
   "execution_count": null,
   "id": "identified-placement",
   "metadata": {},
   "outputs": [],
   "source": []
  },
  {
   "cell_type": "code",
   "execution_count": null,
   "id": "tutorial-essex",
   "metadata": {},
   "outputs": [],
   "source": []
  },
  {
   "cell_type": "markdown",
   "id": "subsequent-separation",
   "metadata": {},
   "source": [
    "### Handling Categorical data\n"
   ]
  },
  {
   "cell_type": "code",
   "execution_count": 50,
   "id": "historical-jimmy",
   "metadata": {},
   "outputs": [
    {
     "data": {
      "text/plain": [
       "budget             int64\n",
       "genres            object\n",
       "popularity       float64\n",
       "revenue            int64\n",
       "runtime          float64\n",
       "vote_average     float64\n",
       "vote_count         int64\n",
       "director          object\n",
       "release_month      int64\n",
       "release_DOW        int64\n",
       "dtype: object"
      ]
     },
     "execution_count": 50,
     "metadata": {},
     "output_type": "execute_result"
    }
   ],
   "source": [
    "movies_box.dtypes"
   ]
  },
  {
   "cell_type": "raw",
   "id": "coated-enzyme",
   "metadata": {},
   "source": [
    "from sklearn.compose import ColumnTransformer\n",
    "from sklearn.preprocessing import OneHotEncoder\n",
    "ct= ColumnTransformer([(\"on\",OneHotEncoder(),[3])],remainder='passthrough')\n",
    "\n",
    "x=ct.fit_transform(x)\n",
    "x"
   ]
  },
  {
   "cell_type": "raw",
   "id": "productive-handle",
   "metadata": {},
   "source": [
    "# Label encoding features to change categorical variables into numerical one\n",
    "from sklearn.preprocessing import LabelEncoder\n",
    "le = LabelEncoder()\n",
    "movies_box['director','genres']= le.fit_transform(movies_box['director','genres'])\n"
   ]
  },
  {
   "cell_type": "code",
   "execution_count": 51,
   "id": "iraqi-conviction",
   "metadata": {
    "scrolled": true
   },
   "outputs": [
    {
     "data": {
      "text/html": [
       "<div>\n",
       "<style scoped>\n",
       "    .dataframe tbody tr th:only-of-type {\n",
       "        vertical-align: middle;\n",
       "    }\n",
       "\n",
       "    .dataframe tbody tr th {\n",
       "        vertical-align: top;\n",
       "    }\n",
       "\n",
       "    .dataframe thead th {\n",
       "        text-align: right;\n",
       "    }\n",
       "</style>\n",
       "<table border=\"1\" class=\"dataframe\">\n",
       "  <thead>\n",
       "    <tr style=\"text-align: right;\">\n",
       "      <th></th>\n",
       "      <th>budget</th>\n",
       "      <th>genres</th>\n",
       "      <th>popularity</th>\n",
       "      <th>revenue</th>\n",
       "      <th>runtime</th>\n",
       "      <th>vote_average</th>\n",
       "      <th>vote_count</th>\n",
       "      <th>director</th>\n",
       "      <th>release_month</th>\n",
       "      <th>release_DOW</th>\n",
       "    </tr>\n",
       "  </thead>\n",
       "  <tbody>\n",
       "    <tr>\n",
       "      <th>0</th>\n",
       "      <td>237</td>\n",
       "      <td>Action</td>\n",
       "      <td>150.437577</td>\n",
       "      <td>2787</td>\n",
       "      <td>162.0</td>\n",
       "      <td>7.2</td>\n",
       "      <td>11800</td>\n",
       "      <td>James Cameron</td>\n",
       "      <td>12</td>\n",
       "      <td>3</td>\n",
       "    </tr>\n",
       "    <tr>\n",
       "      <th>1</th>\n",
       "      <td>300</td>\n",
       "      <td>Adventure</td>\n",
       "      <td>139.082615</td>\n",
       "      <td>961</td>\n",
       "      <td>169.0</td>\n",
       "      <td>6.9</td>\n",
       "      <td>4500</td>\n",
       "      <td>Gore Verbinski</td>\n",
       "      <td>5</td>\n",
       "      <td>5</td>\n",
       "    </tr>\n",
       "    <tr>\n",
       "      <th>2</th>\n",
       "      <td>245</td>\n",
       "      <td>Action</td>\n",
       "      <td>107.376788</td>\n",
       "      <td>880</td>\n",
       "      <td>148.0</td>\n",
       "      <td>6.3</td>\n",
       "      <td>4466</td>\n",
       "      <td>Sam Mendes</td>\n",
       "      <td>10</td>\n",
       "      <td>0</td>\n",
       "    </tr>\n",
       "    <tr>\n",
       "      <th>3</th>\n",
       "      <td>250</td>\n",
       "      <td>Action</td>\n",
       "      <td>112.312950</td>\n",
       "      <td>1084</td>\n",
       "      <td>165.0</td>\n",
       "      <td>7.6</td>\n",
       "      <td>9106</td>\n",
       "      <td>Christopher Nolan</td>\n",
       "      <td>7</td>\n",
       "      <td>0</td>\n",
       "    </tr>\n",
       "    <tr>\n",
       "      <th>4</th>\n",
       "      <td>260</td>\n",
       "      <td>Action</td>\n",
       "      <td>43.926995</td>\n",
       "      <td>284</td>\n",
       "      <td>132.0</td>\n",
       "      <td>6.1</td>\n",
       "      <td>2124</td>\n",
       "      <td>Andrew Stanton</td>\n",
       "      <td>3</td>\n",
       "      <td>2</td>\n",
       "    </tr>\n",
       "  </tbody>\n",
       "</table>\n",
       "</div>"
      ],
      "text/plain": [
       "   budget     genres  popularity  revenue  runtime  vote_average  vote_count  \\\n",
       "0     237     Action  150.437577     2787    162.0           7.2       11800   \n",
       "1     300  Adventure  139.082615      961    169.0           6.9        4500   \n",
       "2     245     Action  107.376788      880    148.0           6.3        4466   \n",
       "3     250     Action  112.312950     1084    165.0           7.6        9106   \n",
       "4     260     Action   43.926995      284    132.0           6.1        2124   \n",
       "\n",
       "            director  release_month  release_DOW  \n",
       "0      James Cameron             12            3  \n",
       "1     Gore Verbinski              5            5  \n",
       "2         Sam Mendes             10            0  \n",
       "3  Christopher Nolan              7            0  \n",
       "4     Andrew Stanton              3            2  "
      ]
     },
     "execution_count": 51,
     "metadata": {},
     "output_type": "execute_result"
    }
   ],
   "source": [
    "movies_box.head()"
   ]
  },
  {
   "cell_type": "markdown",
   "id": "reverse-suicide",
   "metadata": {},
   "source": [
    "### Label Encoding \n",
    "•\tLabel Encoding is a popular encoding technique for handling categorical variables. In this technique, each label is assigned a unique integer based on alphabetical ordering."
   ]
  },
  {
   "cell_type": "code",
   "execution_count": 52,
   "id": "chubby-bottle",
   "metadata": {},
   "outputs": [
    {
     "name": "stdout",
     "output_type": "stream",
     "text": [
      "LABEL ENCODING OF: director\n",
      "Counter({'Steven Spielberg': 27, 'Clint Eastwood': 19, 'Ridley Scott': 16, 'Martin Scorsese': 16, 'Woody Allen': 16, 'Steven Soderbergh': 15, 'Renny Harlin': 15, 'Robert Rodriguez': 15, 'Tim Burton': 14, 'Oliver Stone': 14, 'Robert Zemeckis': 13, 'Michael Bay': 12, 'Ron Howard': 12, 'Joel Schumacher': 12, 'Tony Scott': 12, 'Brian De Palma': 12, 'Francis Ford Coppola': 12, 'Barry Levinson': 11, 'Bobby Farrelly': 11, 'David Fincher': 10, 'Shawn Levy': 10, 'Richard Donner': 10, 'Chris Columbus': 10, 'Paul W.S. Anderson': 10, 'Rob Reiner': 10, 'Joel Coen': 10, 'Wes Craven': 10, 'Kevin Smith': 10, 'Richard Linklater': 10, 'Sam Raimi': 9, 'Peter Jackson': 9, 'Rob Cohen': 9, 'M. Night Shyamalan': 9, 'John McTiernan': 9, 'Spike Lee': 9, 'John Carpenter': 9, 'Christopher Nolan': 8, 'Bryan Singer': 8, 'Brett Ratner': 8, 'Martin Campbell': 8, 'Roland Emmerich': 8, 'Quentin Tarantino': 8, 'Simon West': 8, 'Dennis Dugan': 8, 'Adam Shankman': 8, 'F. Gary Gray': 8, 'Antoine Fuqua': 8, 'Garry Marshall': 8, 'David O. Russell': 8, 'Harold Ramis': 8, 'Danny Boyle': 8, 'Lasse Hallström': 8, 'James Cameron': 7, 'Gore Verbinski': 7, 'Sam Mendes': 7, 'Zack Snyder': 7, 'Marc Forster': 7, 'Barry Sonnenfeld': 7, 'James Wan': 7, 'Mike Newell': 7, 'Tom Shadyac': 7, 'Jon Turteltaub': 7, 'Wolfgang Petersen': 7, 'Edward Zwick': 7, 'Ang Lee': 7, 'Phillip Noyce': 7, 'Guy Ritchie': 7, 'John Woo': 7, 'James Mangold': 7, 'Roger Donaldson': 7, 'Frank Oz': 7, 'Todd Phillips': 7, 'John Singleton': 7, 'Jay Roach': 7, 'Donald Petrie': 7, 'Wes Anderson': 7, 'Stephen Frears': 7, 'Gus Van Sant': 7, 'Alfred Hitchcock': 7, 'Peter Berg': 6, 'McG': 6, 'Lilly Wachowski': 6, 'Jon Favreau': 6, 'David Ayer': 6, 'Doug Liman': 6, 'George Miller': 6, 'Louis Leterrier': 6, 'Paul Greengrass': 6, 'Robert Schwentke': 6, 'Tim Story': 6, 'Frank Coraci': 6, 'Michael Mann': 6, 'Adam McKay': 6, 'Chuck Russell': 6, 'Peter Hyams': 6, 'Mark Waters': 6, 'Peter Segal': 6, 'George A. Romero': 6, 'Ivan Reitman': 6, 'Stephen Hopkins': 6, 'Terry Gilliam': 6, 'Robert Luketic': 6, 'Andy Tennant': 6, 'Cameron Crowe': 6, 'Stanley Kubrick': 6, 'Roman Polanski': 6, 'Brian Levant': 6, 'Stephen Herek': 6, 'William Friedkin': 6, 'Neil Jordan': 6, 'Jaume Collet-Serra': 6, 'Andy Fickman': 6, 'Gary Fleder': 6, 'David Cronenberg': 6, 'Paul Thomas Anderson': 6, 'Rob Marshall': 5, 'Chris Weitz': 5, 'Guillermo del Toro': 5, 'Kevin Reynolds': 5, 'Francis Lawrence': 5, 'Michael Apted': 5, 'Kenneth Branagh': 5, 'Joe Wright': 5, 'Rob Minkoff': 5, 'Alex Proyas': 5, 'Jon M. Chu': 5, 'Alejandro González Iñárritu': 5, 'Darren Aronofsky': 5, 'Paul Verhoeven': 5, 'Raja Gosnell': 5, 'Jan de Bont': 5, 'Luc Besson': 5, 'Ben Stiller': 5, 'Sydney Pollack': 5, 'Nancy Meyers': 5, 'Joe Dante': 5, 'Mike Nichols': 5, 'Judd Apatow': 5, 'George Clooney': 5, 'Andrzej Bartkowiak': 5, 'Taylor Hackford': 5, 'Robert Redford': 5, 'Brian Robbins': 5, 'Jean-Pierre Jeunet': 5, 'John Madden': 5, 'John Frankenheimer': 5, 'Brian Helgeland': 5, 'David Gordon Green': 5, 'David Zucker': 5, 'Curtis Hanson': 5, 'David R. Ellis': 5, 'John Glen': 5, 'Catherine Hardwicke': 5, 'Anne Fletcher': 5, 'Nicholas Stoller': 5, 'Jason Reitman': 5, 'Jason Friedberg': 5, 'Malcolm D. Lee': 5, 'Mel Brooks': 5, 'Guy Hamilton': 5, 'Andrew Stanton': 4, 'Andrew Adamson': 4, 'Anthony Russo': 4, 'John Lasseter': 4, 'J.J. Abrams': 4, 'Baz Luhrmann': 4, 'Stephen Sommers': 4, 'Matt Reeves': 4, 'Mike Mitchell': 4, 'Brad Bird': 4, 'Jonathan Mostow': 4, 'Matthew Vaughn': 4, 'Eric Darnell': 4, 'Gavin Hood': 4, 'Jonathan Liebesman': 4, 'Joe Johnston': 4, 'David Bowers': 4, 'Lee Tamahori': 4, 'Paul Feig': 4, 'Dean Parisot': 4, 'Peter Weir': 4, 'Bill Condon': 4, 'Peyton Reed': 4, 'Alfonso Cuarón': 4, 'Carlos Saldanha': 4, 'David Twohy': 4, 'George Lucas': 4, 'Peter Chelsom': 4, 'Paul Weitz': 4, 'Spike Jonze': 4, 'Tom Tykwer': 4, 'Brad Silberling': 4, 'John Moore': 4, 'John Lee Hancock': 4, 'Phil Lord': 4, 'Timur Bekmambetov': 4, 'Jean-Jacques Annaud': 4, 'Martin Brest': 4, 'Andrew Davis': 4, 'Tarsem Singh': 4, 'Edgar Wright': 4, 'Gary Winick': 4, 'D.J. Caruso': 4, 'Les Mayfield': 4, 'Scott Derrickson': 4, 'Steven Brill': 4, 'Jerry Zucker': 4, 'Ron Shelton': 4, 'Steve Carr': 4, 'Frank Darabont': 4, 'Betty Thomas': 4, 'Jonathan Frakes': 4, 'Michael Caton-Jones': 4, 'Mikael Håfström': 4, 'Craig Gillespie': 4, 'Rob Bowman': 4, 'Keenen Ivory Wayans': 4, 'Tim Hill': 4, 'David Frankel': 4, 'Walter Hill': 4, 'Iain Softley': 4, 'David Koepp': 4, 'Uwe Boll': 4, 'John Dahl': 4, 'Sean Anders': 4, 'Brian Taylor': 4, 'Wayne Wang': 4, 'Jay Chandrasekhar': 4, 'Pierre Morel': 4, 'Frank Marshall': 4, 'James McTeigue': 4, 'Adrian Lyne': 4, 'John Landis': 4, 'Andrew Niccol': 4, 'John Stockwell': 4, 'Richard LaGravenese': 4, 'James Wong': 4, 'Penny Marshall': 4, 'Russell Mulcahy': 4, 'Peter Howitt': 4, 'David Lynch': 4, 'Burr Steers': 4, 'Bruce Beresford': 4, 'Ken Kwapis': 4, 'Nick Cassavetes': 4, 'Jake Kasdan': 4, 'Stephen Daldry': 4, 'Sofia Coppola': 4, 'Kirk Jones': 4, 'Robert Wise': 4, 'Tobe Hooper': 4, 'Luke Greenfield': 4, 'Hugh Wilson': 4, 'Hayao Miyazaki': 4, 'Alexander Payne': 4, \"Gavin O'Connor\": 4, 'David Lean': 4, 'Steve Miner': 4, 'Richard Fleischer': 4, 'Sidney Lumet': 4, 'Mira Nair': 4, 'Jeff Tremaine': 4, 'Michael Moore': 4, 'Mark L. Lester': 4, 'Brad Anderson': 4, 'Mike Judge': 4, 'John Erick Dowdle': 4, 'Paul Schrader': 4, 'Sam Peckinpah': 4, 'Billy Wilder': 4, 'John Ford': 4, 'Frank Capra': 4, 'Joss Whedon': 3, 'David Yates': 3, 'Marc Webb': 3, 'Justin Lin': 3, 'Pete Docter': 3, 'Conrad Vernon': 3, 'Chris Sanders': 3, 'James Gunn': 3, 'James Bobin': 3, 'Duncan Jones': 3, 'Christopher McQuarrie': 3, 'Simon Wells': 3, 'Breck Eisner': 3, 'Tony Gilroy': 3, 'Neill Blomkamp': 3, 'James L. Brooks': 3, 'Brad Peyton': 3, 'Roger Spottiswoode': 3, 'Michel Gondry': 3, 'Len Wiseman': 3, 'Ron Clements': 3, 'Dominic Sena': 3, 'Mark Dindal': 3, 'Chris Wedge': 3, 'Ron Underwood': 3, 'Thor Freudenthal': 3, 'Kathryn Bigelow': 3, 'John Milius': 3, 'Gary Ross': 3, 'Jon Amiel': 3, 'Mimi Leder': 3, 'Seth Gordon': 3, 'Anthony Minghella': 3, 'Albert Hughes': 3, 'Jonathan Demme': 3, 'Kevin Costner': 3, 'Mel Gibson': 3, 'Randall Wallace': 3, 'Gregory Hoblit': 3, 'Lawrence Kasdan': 3, 'Tom Hooper': 3, 'Nora Ephron': 3, 'Angelina Jolie': 3, 'Larry Charles': 3, 'Will Gluck': 3, 'Glenn Ficarra': 3, 'Baltasar Kormákur': 3, 'Marc Lawrence': 3, 'Kenny Ortega': 3, 'Jon Avnet': 3, 'Ruben Fleischer': 3, 'Harold Becker': 3, 'Rod Lurie': 3, 'Walter Salles': 3, 'Sam Weisman': 3, 'Jesse Dylan': 3, 'Gabriele Muccino': 3, 'Tom Dey': 3, 'Shekhar Kapur': 3, 'Scott Cooper': 3, 'Terrence Malick': 3, 'David Dobkin': 3, 'Miloš Forman': 3, 'Steve Oedekerk': 3, 'Rawson Marshall Thurber': 3, 'Peter Hewitt': 3, 'Jim Sheridan': 3, 'Danny DeVito': 3, 'Patrick Lussier': 3, 'Olivier Megaton': 3, 'Warren Beatty': 3, 'Brad Furman': 3, 'Terence Young': 3, 'Denis Villeneuve': 3, 'Thomas Carter': 3, 'Roger Michell': 3, 'John Schultz': 3, 'Simon Wincer': 3, 'George P. Cosmatos': 3, 'Paul McGuigan': 3, 'Roger Kumble': 3, 'Reginald Hudlin': 3, 'Barbra Streisand': 3, 'Mark Pellington': 3, 'Nimród Antal': 3, 'Greg Mottola': 3, 'Wong Kar-wai': 3, 'Norman Jewison': 3, 'Charles Martin Smith': 3, 'Steve Pink': 3, 'Kevin Rodney Sullivan': 3, 'Michael Ritchie': 3, 'Alexandre Aja': 3, 'Jean-Marc Vallée': 3, 'George Tillman, Jr.': 3, 'Boaz Yakin': 3, 'Lewis Gilbert': 3, 'Scott Hicks': 3, 'Jonathan Levine': 3, 'Kimberly Peirce': 3, 'Paul Haggis': 3, 'Sergio Leone': 3, 'Miguel Arteta': 3, 'James Gray': 3, 'Jeff Wadlow': 3, 'Richard Attenborough': 3, 'Fernando Meirelles': 3, 'Joe Carnahan': 3, 'Richard Kelly': 3, 'John Schlesinger': 3, 'Richard Benjamin': 3, 'John Hillcoat': 3, 'Atom Egoyan': 3, 'Jonathan Lynn': 3, 'Irwin Winkler': 3, 'Trey Parker': 3, 'Tyler Perry': 3, 'William Brent Bell': 3, 'Henry Joost': 3, 'Shana Feste': 3, 'Jonathan Glazer': 3, 'J.C. Chandor': 3, 'Robert Altman': 3, 'Nicholas Hytner': 3, 'John Boorman': 3, 'Jeff Nichols': 3, 'Michael Haneke': 3, 'Robert Iscove': 3, 'Amy Heckerling': 3, 'Rob Zombie': 3, 'Nicolas Winding Refn': 3, 'Gina Prince-Bythewood': 3, 'James Ivory': 3, 'Michael Winterbottom': 3, 'Peter Cattaneo': 3, 'Lars von Trier': 3, 'Randal Kleiser': 3, 'Rick Famuyiwa': 3, 'Davis Guggenheim': 3, 'Michael Polish': 3, 'Jane Campion': 3, 'Mike Leigh': 3, 'Darren Lynn Bousman': 3, 'James DeMonaco': 3, 'Michael Schultz': 3, 'John Sayles': 3, 'Eli Roth': 3, 'Jaume Balagueró': 3, 'James Cox': 3, 'Fred Zinnemann': 3, 'Victor Fleming': 3, 'George Sidney': 3, 'Richard Brooks': 3, 'Charles Ferguson': 3, 'Shane Black': 2, 'Joseph Kosinski': 2, 'Roland Joffé': 2, 'Chris Williams': 2, 'Chris Miller': 2, 'Alan Taylor': 2, 'Jennifer Yuh Nelson': 2, 'Mark Osborne': 2, 'Tim Johnson': 2, 'Mark Steven Johnson': 2, 'José Padilha': 2, 'Dave Green': 2, 'Josh Trank': 2, 'Rob Letterman': 2, 'Gary Trousdale': 2, 'Florian Henckel von Donnersmarck': 2, 'Lawrence Guterman': 2, 'Steve Martino': 2, 'David Mamet': 2, 'Zhang Yimou': 2, 'Don Michael Paul': 2, 'Sergei Bodrov': 2, 'Rupert Wyatt': 2, 'Mick Jackson': 2, 'Alan J. Pakula': 2, 'Andrei Konchalovsky': 2, 'Genndy Tartakovsky': 2, 'Kevin Lima': 2, 'Daniel Espinosa': 2, 'Neil Burger': 2, 'Pete Travis': 2, 'Sylvester Stallone': 2, 'Karey Kirkpatrick': 2, 'Eric Brevig': 2, 'Oliver Hirschbiegel': 2, 'Stephen Norrington': 2, 'Pierre Coffin': 2, 'Vicky Jenson': 2, 'Gil Kenan': 2, 'Gary Goldman': 2, 'Henry Selick': 2, 'Clark Johnson': 2, 'David Slade': 2, 'Seth MacFarlane': 2, 'Alejandro Amenábar': 2, 'Michael Lembeck': 2, 'David S. Goyer': 2, 'Michael Lehmann': 2, 'Josh Gordon': 2, 'Wes Ball': 2, 'Ryan Murphy': 2, 'Jay Russell': 2, 'Steven Zaillian': 2, 'Griffin Dunne': 2, 'Kevin Macdonald': 2, 'Stuart Baird': 2, 'Scott Stewart': 2, 'Harald Zwart': 2, 'Kevin Bray': 2, 'Jimmy Hayward': 2, 'Alan Parker': 2, 'Karyn Kusama': 2, 'Jim Gillespie': 2, 'Richard Lester': 2, 'Phyllida Lloyd': 2, 'Bennett Miller': 2, 'Angela Robinson': 2, 'Stephen Gaghan': 2, 'Richard Loncraine': 2, 'Jon Hurwitz': 2, 'Steven Quale': 2, 'Carl Franklin': 2, 'Andrew Bergman': 2, 'Barbet Schroeder': 2, 'Patrick Read Johnson': 2, 'Richard Curtis': 2, 'Luis Llosa': 2, 'John A. Davis': 2, 'Mathieu Kassovitz': 2, 'Sean Penn': 2, 'Billy Bob Thornton': 2, 'Oliver Parker': 2, 'Ben Affleck': 2, 'Michael Cimino': 2, 'Nick Park': 2, 'John Hamburg': 2, 'John Herzfeld': 2, 'Seth Rogen': 2, 'John G. Avildsen': 2, 'John Whitesell': 2, 'Colin Strause': 2, 'Christian Duguay': 2, 'Justin Chadwick': 2, 'Frederik Du Chau': 2, 'Joseph Kahn': 2, 'Stephen T. Kay': 2, 'William Malone': 2, 'Christian Alvart': 2, 'Geoffrey Sax': 2, 'Bong Joon-ho': 2, 'Luis Mandoki': 2, 'John Pasquin': 2, 'Lee Daniels': 2, 'Irvin Kershner': 2, 'Kevin Munroe': 2, 'Mike Tollin': 2, 'Walt Becker': 2, 'Michael Rymer': 2, \"Tommy O'Haver\": 2, 'Bille August': 2, 'Ken Scott': 2, 'Hugh Hudson': 2, 'Danny Cannon': 2, 'Neil Marshall': 2, 'David Wain': 2, 'Jared Hess': 2, 'John Luessenhop': 2, 'Shim Hyung-Rae': 2, 'Ariel Vromen': 2, 'J.B. Rogers': 2, 'Tom Vaughan': 2, 'Rian Johnson': 2, 'Chris Noonan': 2, 'John R. Leonetti': 2, 'Phil Joanou': 2, 'Brett Leonard': 2, 'Charles Stone III': 2, 'Kurt Wimmer': 2, 'Niki Caro': 2, 'Howard Deutch': 2, 'Vincenzo Natali': 2, 'Kim Jee-woon': 2, 'Andrew Dominik': 2, 'Ben Falcone': 2, 'Camille Delamarre': 2, 'Nicholas Meyer': 2, 'Philip Kaufman': 2, 'E. Elias Merhige': 2, 'Jodie Foster': 2, 'Bob Rafelson': 2, 'Ronny Yu': 2, 'Charles Herman-Wurmfeld': 2, 'John Polson': 2, 'Bille Woodruff': 2, 'Victor Salva': 2, 'Dwight H. Little': 2, 'Guillaume Canet': 2, 'John Wells': 2, 'Nigel Cole': 2, 'Sylvain White': 2, 'Bill Paxton': 2, 'Patricia Riggen': 2, 'Rachel Talalay': 2, 'Werner Herzog': 2, 'Teddy Chan': 2, 'Leonard Nimoy': 2, 'Neil LaBute': 2, 'Douglas McGrath': 2, 'Kevin Spacey': 2, 'Tony Goldwyn': 2, 'Jessie Nelson': 2, 'Deborah Kaplan': 2, 'Uli Edel': 2, 'John Curran': 2, 'Juan José Campanella': 2, 'Jeannot Szwarc': 2, 'Steve McQueen': 2, 'Jon Lucas': 2, 'Takashi Shimizu': 2, 'Anton Corbijn': 2, 'Eric Valette': 2, 'Mike Binder': 2, 'Billy Ray': 2, 'Glen Morgan': 2, 'Todd Haynes': 2, 'Charlie Kaufman': 2, 'Katsuhiro Ōtomo': 2, 'Julie Taymor': 2, 'Anand Tucker': 2, 'Michael Dowse': 2, 'Terry Zwigoff': 2, 'Sean McNamara': 2, 'Bart Freundlich': 2, 'Gregor Jordan': 2, 'Rodrigo Cortés': 2, 'Xavier Gens': 2, 'Kevin Greutert': 2, 'Wayne Kramer': 2, 'Jack Smight': 2, 'Steven Shainberg': 2, 'Joe Nussbaum': 2, 'Vadim Perelman': 2, 'Sheldon Lettich': 2, 'Tommy Lee Jones': 2, 'Denzel Washington': 2, 'Andrew Fleming': 2, 'Michael Mayer': 2, 'Derek Cianfrance': 2, 'Lone Scherfig': 2, 'Brian Koppelman': 2, 'Craig Brewer': 2, 'Martin McDonagh': 2, 'Mary Lambert': 2, 'Mark Romanek': 2, 'Stefan Ruzowitzky': 2, 'Julian Schnabel': 2, 'Todd Field': 2, 'Danny Leiner': 2, 'Christopher Cain': 2, 'Preston A. Whitmore II': 2, 'Bob Clark': 2, 'Mark Brown': 2, 'John Waters': 2, 'James Foley': 2, 'George Hickenlooper': 2, 'Tamra Davis': 2, 'Franklin J. Schaffner': 2, 'Jake Schreier': 2, 'Stuart Gordon': 2, 'Christopher Guest': 2, 'Park Chan-wook': 2, 'Ira Sachs': 2, 'Carroll Ballard': 2, 'Marco Kreuzpaintner': 2, 'Simon Curtis': 2, 'Martin Ritt': 2, 'David Hackl': 2, 'Karan Johar': 2, 'Carol Reed': 2, 'Marcus Raboy': 2, 'Peter Sollett': 2, 'Salim Akil': 2, 'David Schwimmer': 2, 'Jay Duplass': 2, 'Noah Baumbach': 2, 'Vincent Gallo': 2, 'Stanley Kramer': 2, 'Troy Duffy': 2, 'François Ozon': 2, 'Michael Corrente': 2, 'Tony Richardson': 2, 'Rodrigo García': 2, 'Gurinder Chadha': 2, 'Nicole Holofcener': 2, 'George Roy Hill': 2, 'King Vidor': 2, 'Zach Braff': 2, 'William Kaufman': 2, 'Michael Curtiz': 2, 'Michael Tiddes': 2, 'John Cameron Mitchell': 2, 'Fenton Bailey': 2, 'John Huston': 2, 'Jonas Åkerlund': 2, 'Todd Solondz': 2, 'Mike Figgis': 2, 'DJ Pooh': 2, 'Roger Avary': 2, 'Edward Burns': 2, 'Thomas Vinterberg': 2, 'Ted Post': 2, 'Don Coscarelli': 2, 'David Hand': 2, 'Elia Kazan': 2, 'J. Lee Thompson': 2, 'David DeCoteau': 2, 'Byron Howard': 1, 'Colin Trevorrow': 1, 'Dan Scanlon': 1, 'Lee Unkrich': 1, 'Peter Sohn': 1, 'Brenda Chapman': 1, 'Rupert Sanders': 1, 'Robert Stromberg': 1, 'Carl Rinsch': 1, 'Rich Moore': 1, 'Hideaki Anno': 1, 'Jan Pinkava': 1, 'Chris Buck': 1, 'Hoyt Yeatman': 1, 'Steve Hickner': 1, 'Peter Ramsey': 1, 'Dean DeBlois': 1, 'Hironobu Sakaguchi': 1, 'David Soren': 1, 'Ralph Zondag': 1, 'Tom McGrath': 1, 'Thomas Langmann': 1, 'Cedric Nicolas-Troyan': 1, 'Noam Murro': 1, 'Will Finn': 1, 'Stefen Fangmeier': 1, 'Pitof': 1, 'Patrick Hughes': 1, 'Ericson Core': 1, 'Ash Brannon': 1, 'Michael Patrick King': 1, 'Wally Pfister': 1, 'Tony Bancroft': 1, 'Jill Culton': 1, 'Joe Pytka': 1, 'Kelly Asbury': 1, 'James Algar': 1, 'Vincent Ward': 1, 'Barry Cook': 1, 'Roger Christian': 1, 'Antony Hoffman': 1, 'Andrés Couturier': 1, 'Roger Allers': 1, 'Cody Cameron': 1, 'Des McAnuff': 1, 'Chris Renaud': 1, 'David Kellogg': 1, 'Florent-Emilio Siri': 1, 'Kyle Balda': 1, 'Fergal Reilly': 1, 'David Silverman': 1, 'Paul Tibbitt': 1, 'Gary Shore': 1, 'Måns Mårlind': 1, 'Gary McKendry': 1, 'Wych Kaosayananda': 1, 'Mikael Salomon': 1, 'Dan St. Pierre': 1, 'Kerry Conran': 1, 'Phil Alden Robinson': 1, 'Joseph Ruben': 1, 'Kinka Usher': 1, 'Doug Lefler': 1, 'Scott Waugh': 1, 'Stuart Beattie': 1, 'Daniel Lee': 1, 'Marco Schnabel': 1, 'Demian Lichtenstein': 1, 'Peter Billingsley': 1, 'Sam Fell': 1, 'Robert Stevenhagen': 1, 'Geoff Murphy': 1, 'Babak Najafi': 1, 'Anthony Stacchi': 1, 'Jorge Blanco': 1, 'Tony Bill': 1, 'Akiva Goldsman': 1, 'Frank Miller': 1, 'Soi Cheang': 1, 'Tim Miller': 1, 'Peter MacDonald': 1, 'Anthony Hemingway': 1, 'Mike Gabriel': 1, 'Paul King': 1, 'Akiva Schaffer': 1, 'Peter Lord': 1, 'Ronald F. Maxwell': 1, 'Robert Butler': 1, 'Steve Antin': 1, 'Paul Hunter': 1, 'George Nolfi': 1, 'Hideo Nakata': 1, 'Joe Roth': 1, \"Matthew O'Callaghan\": 1, 'Tommy Wirkola': 1, 'Jorge R. Gutierrez': 1, 'Christophe Gans': 1, 'Alexander Witt': 1, 'Beeban Kidron': 1, 'Steven Seagal': 1, 'Peter Webber': 1, 'Costa-Gavras': 1, 'George Armitage': 1, 'Ted Kotcheff': 1, 'Yvette Kaplan': 1, 'P.J. Hogan': 1, 'David McNally': 1, 'Garth Jennings': 1, 'John Gray': 1, 'Susan Stroman': 1, 'Danny Pang': 1, 'Lawrence Kasanoff': 1, 'Brian Gibson': 1, 'Ben Sharpsteen': 1, 'Joseph L. Mankiewicz': 1, 'Annabel Jankel': 1, 'Julie Anne Robinson': 1, 'Sngmoo Lee': 1, 'Gordon Chan': 1, 'Asger Leth': 1, 'Sam Taylor-Johnson': 1, 'Etan Cohen': 1, 'Mark A.Z. Dippé': 1, 'Callan Brunker': 1, 'Alejandro Agresti': 1, 'Paul Weiland': 1, 'Joan Chen': 1, 'Diane Keaton': 1, \"Pat O'Connor\": 1, 'Juan Antonio Bayona': 1, 'Elaine May': 1, 'Charles Shyer': 1, 'Ulu Grosbard': 1, 'Mic Rodgers': 1, 'Marc F. Adler': 1, 'Peter Chan': 1, 'Sergei Bodrov Jr.': 1, 'Bibo Bergeron': 1, 'S.S. Rajamouli': 1, 'Charles S. Dutton': 1, 'David Carson': 1, 'Yuefeng Song': 1, 'David Mirkin': 1, 'Jeb Stuart': 1, 'David Leland': 1, 'J Blakeson': 1, 'Ryan Coogler': 1, 'Jennifer Flackett': 1, 'Christian Ditter': 1, 'Fyodor Bondarchuk': 1, 'Kirk De Micco': 1, 'Wilson Yip': 1, 'Patrick Tatopoulos': 1, 'Gary David Goldberg': 1, 'Alan Poul': 1, 'Steven E. de Souza': 1, 'Mike Hodges': 1, 'Scott Mann': 1, 'Susanna White': 1, 'Chris Carter': 1, 'Peter Landesman': 1, 'Gary Chapman': 1, 'Craig Mazin': 1, 'Allen Hughes': 1, 'Kimble Rendall': 1, 'Peter Yates': 1, 'Tsui Hark': 1, 'Lexi Alexander': 1, 'Moustapha Akkad': 1, 'Jean-Paul Rappeneau': 1, 'Joachim Rønning': 1, 'Hugh Johnson': 1, 'Rand Ravich': 1, 'Ben Stassen': 1, 'Chris Gorak': 1, 'Scott Speer': 1, 'Joe Charbanic': 1, 'Jonathan Hensleigh': 1, 'Richard Marquand': 1, 'Rupert Wainwright': 1, 'Justin Zackham': 1, 'Miguel Sapochnik': 1, 'Don Scardino': 1, 'Tom Reeve': 1, 'Nanette Burstein': 1, 'John Francis Daley': 1, 'Michael Sucsy': 1, 'Stephen Hillenburg': 1, 'Michael McCullers': 1, 'Ted Demme': 1, 'William Shatner': 1, 'Lee Toland Krieger': 1, 'Drew Goddard': 1, 'Paul Michael Glaser': 1, 'Tom Hanks': 1, 'Liz Friedlander': 1, 'Shane Acker': 1, 'Stephen Anderson': 1, 'Troy Miller': 1, 'Alister Grierson': 1, 'Nick Hurran': 1, 'Jean-François Richet': 1, 'Kevin Hooks': 1, 'Willard Huyck': 1, 'Bruce Hunt': 1, 'Christopher Roberts': 1, 'Nick Hamm': 1, 'Andy Cadiff': 1, 'Mike Disa': 1, 'Richard J. Lewis': 1, 'Corey Yuen Kwai': 1, 'Jackie Chan': 1, 'Frédéric Auburtin': 1, 'Olivier Dahan': 1, 'Maksim Fadeev': 1, 'Liliana Cavani': 1, 'Elizabeth Banks': 1, 'Edward Norton': 1, 'Don Mancini': 1, 'John Maybury': 1, 'Norton Virgien': 1, 'Shinji Aramaki': 1, 'Jacques Perrin': 1, 'Robert B. Weide': 1, 'Agustín Díaz Yanes': 1, 'Richard Eyre': 1, 'Callie Khouri': 1, 'Sanaa Hamri': 1, 'Walter Murch': 1, 'Scott Frank': 1, 'Kevin Allen': 1, 'Michael Cristofer': 1, 'Andrew Morahan': 1, 'Michael Cohn': 1, 'Alan Shapiro': 1, 'Michael Hoffman': 1, 'Tate Taylor': 1, 'Oleg Stepchenko': 1, 'Michael Pressman': 1, 'Sharon Maguire': 1, 'Gábor Csupó': 1, 'Bernardo Bertolucci': 1, 'Cathy Malkasian': 1, 'Chris Nahon': 1, 'Fred Wolf': 1, 'Mark Helfrich': 1, 'Steve Bendelack': 1, 'Kirsten Sheridan': 1, 'Bob Spiers': 1, 'Tim Fywell': 1, 'Dexter Fletcher': 1, 'Jeremy Leven': 1, 'Troy Nixey': 1, 'Philip G. Atwell': 1, 'Jeff Schaffer': 1, 'Carter Smith': 1, 'Ringo Lam': 1, 'Jonathan Kaplan': 1, 'Ole Bornedal': 1, 'John Guillermin': 1, 'Robert Towne': 1, 'Giuseppe Tornatore': 1, 'Inna Evlannikova': 1, 'Jonathan English': 1, 'Sergey Bondarchuk': 1, 'Mario Van Peebles': 1, 'Herbert Ross': 1, 'Bonnie Hunt': 1, 'Grant Heslov': 1, 'Steve Boyum': 1, 'Richard Williams': 1, 'Jonathan Newman': 1, 'Joseph Sargent': 1, 'Jon Cassar': 1, 'Russell Crowe': 1, 'Christopher Spencer': 1, 'Mike Bigelow': 1, 'Daniel Sackheim': 1, 'Fred Dekker': 1, 'Christian Carion': 1, 'Dax Shepard': 1, 'Rowan Joffe': 1, 'Stuart Gillard': 1, 'Katt Shea': 1, 'Joshua Michael Stern': 1, 'Tomas Alfredson': 1, 'Colin Higgins': 1, 'Jim Sonzero': 1, 'Penelope Spheeris': 1, 'Thea Sharrock': 1, 'Robin Budd': 1, 'Ava DuVernay': 1, 'Steve Trenbirth': 1, 'Mennan Yapo': 1, 'Jun Falkenstein': 1, 'Tom McCarthy': 1, 'Gary Nelson': 1, 'Gregory Nava': 1, 'John Patrick Shanley': 1, 'Joshua Logan': 1, 'Steve Beck': 1, 'Todd Strauss-Schulson': 1, 'John McNaughton': 1, 'Michael Spierig': 1, 'Jim Field Smith': 1, 'Thomas Bezucha': 1, 'Ben Gluck': 1, 'Ed Harris': 1, 'Steve Rash': 1, 'Michael J. Bassett': 1, 'Stephen Chow': 1, 'Peter Hastings': 1, 'Paul Abascal': 1, 'Chris Koch': 1, 'George Stevens': 1, 'Mark Mylod': 1, 'Stephen St. Leger': 1, 'Michael O. Sajbel': 1, 'Damon Santostefano': 1, 'Bob Fosse': 1, 'Benson Lee': 1, 'Alejandro Monteverde': 1, 'Todd Graff': 1, 'Mabrouk El Mechri': 1, 'Angelo Pizzo': 1, 'Daniel Algrant': 1, 'Mike Barker': 1, 'Wayne Thornley': 1, 'Jonathan Jakubowicz': 1, 'Scott Walker': 1, 'Mark Rosman': 1, 'Rob Hawk': 1, 'Anthony Mann': 1, 'Emile Ardolino': 1, 'Andrew Douglas': 1, 'Ricky Gervais': 1, 'Vic Armstrong': 1, 'Rick Friedberg': 1, 'Brandon Camp': 1, 'William A. Fraker': 1, 'Courtney Solomon': 1, 'Matthew Robbins': 1, 'Jonathan Teplitzky': 1, 'Mike Marvin': 1, 'Olivier Assayas': 1, 'Tran Anh Hung': 1, 'Christian Volckman': 1, 'David Hayter': 1, 'Cory Edwards': 1, 'Terry George': 1, 'Kasi Lemmons': 1, 'Brian A Miller': 1, 'George Cukor': 1, 'John Robert Hoffman': 1, 'John Fortenberry': 1, 'Daniel Barnz': 1, 'Christian Robinson': 1, 'Jason Moore': 1, 'Robert Harmon': 1, 'Nicholas Ray': 1, 'Fede Alvarez': 1, 'Sidney J. Furie': 1, 'Jim Goddard': 1, 'Noel Marshall': 1, 'Andrea Di Stefano': 1, 'Guillaume Ivernel': 1, 'Todd Lincoln ': 1, 'Howard Zieff': 1, 'Julian Jarrold': 1, 'Michel Hazanavicius': 1, 'Cyrus Nowrasteh': 1, 'Christian E. Christiansen': 1, 'Dennie Gordon': 1, 'Diane English': 1, 'Peter Flinth': 1, 'Nick Gomez': 1, 'Allen Coulter': 1, 'Josef Rusnak': 1, 'Lance Rivera': 1, 'Adam Rifkin': 1, 'Susanne Bier': 1, 'Kenneth Johnson': 1, 'Jessy Terrero': 1, 'Dany Boon': 1, 'Gaspar Noé': 1, 'Jérôme Salle': 1, 'Jesse Vaughan': 1, 'Wayne Beach': 1, 'Gérard Krawczyk': 1, 'Udayan Prasad': 1, 'Yoon Je-kyoon': 1, 'Morten Tyldum': 1, 'Andy Muschietti': 1, 'Gillian Armstrong': 1, 'James Watkins': 1, 'Jim Fall': 1, 'Ric Roman Waugh': 1, 'Michael Dougherty': 1, 'Joel Gallen': 1, 'James Marsh': 1, 'Matt Williams': 1, 'Dennis Iliadis': 1, 'Clare Kilner': 1, 'Rick Rosenthal': 1, 'Sara Sugarman': 1, 'Juan Carlos Fresnadillo': 1, 'Phil Traill': 1, 'Martin Weisz': 1, 'John Ottman': 1, 'John Bonito': 1, 'Peter Atencio': 1, 'David Nutter': 1, 'Stephan Elliott': 1, 'Douglas Aarniokoski': 1, 'Drew Barrymore': 1, 'RZA': 1, 'David Raynr': 1, 'Mort Nathan': 1, 'Rodman Flender': 1, 'Michael Chapman': 1, 'Fritz Lang': 1, 'Hou Hsiao-hsien': 1, 'Tony Jaa': 1, 'Ryûhei Kitamura': 1, 'Darrell James Roodt': 1, 'Dito Montiel': 1, 'Jake Paltrow': 1, 'Anthony Silverston': 1, 'Gabe Ibáñez': 1, 'Derek Yee Tung-Sing': 1, 'Gregory Jacobs': 1, 'Gilles Paquet-Brenner': 1, 'Peter Cousens': 1, 'Jamie Blanks': 1, 'Franco Zeffirelli': 1, 'Chris Rock': 1, 'James Isaac': 1, 'Josh Schwartz': 1, 'Kenneth Lonergan': 1, 'Theodore Melfi': 1, 'Gil Junger': 1, 'Ed Decter': 1, 'Eric Bress': 1, 'Kirk Wong': 1, 'Bronwen Hughes': 1, 'John Lafia': 1, 'Sam Miller': 1, 'Alex Garland': 1, 'Daisy von Scherler Mayer': 1, 'Lenny Abrahamson': 1, 'Mark Christopher': 1, 'Jez Butterworth': 1, 'Isabel Coixet': 1, 'Paul Mazursky': 1, 'Stephen Chbosky': 1, 'Jon Hess': 1, 'Mark Neveldine': 1, 'Joe Cornish': 1, 'Benedek Fliegauf': 1, 'Stewart Hendler': 1, 'Mark Herman': 1, 'Abel Ferrara': 1, 'Don Bluth': 1, 'William Dear': 1, 'Stéphane Aubier': 1, 'John Badham': 1, 'Mike McCoy': 1, 'Nima Nourizadeh': 1, 'David Moreau': 1, 'Christopher Erskin': 1, 'Dan Cutforth': 1, 'Josh Boone': 1, 'Elizabeth Allen Rosenbaum': 1, 'Wallace Wolodarsky': 1, 'Nicholas Jarecki': 1, 'Dean Israelite': 1, 'Darnell Martin': 1, 'Antonia Bird': 1, 'Jon Poll': 1, 'Paolo Sorrentino': 1, 'Takeshi Kitano': 1, 'Alan Rudolph': 1, 'Lu Chuan': 1, 'Lijun Sun': 1, 'Takashi Yamazaki': 1, 'Christopher Smith': 1, 'Timothy Hines': 1, 'Jamie Thraves': 1, 'Dan Mazer': 1, 'R.J. Cutler': 1, 'Brian Trenchard-Smith': 1, 'David S. Ward': 1, 'Tim Robbins': 1, 'Rob Pritts': 1, 'John Crowley': 1, 'Brendan Malloy': 1, 'Dustin Hoffman': 1, 'Gregory Poirier': 1, 'Dewey Nicks': 1, 'Philip Saville': 1, 'William A. Graham': 1, 'Agnieszka Holland': 1, 'Lisa Azuelos': 1, 'Jon Kasdan': 1, 'Floyd Mutrux': 1, 'Dean Wright': 1, 'Eric Lartigau': 1, 'Shintaro Shimosawa': 1, 'Bernhard Wicki': 1, 'Chuck Sheetz': 1, 'Leigh Whannell': 1, 'Bob Dolman': 1, 'Rowdy Herrington': 1, 'Greg Coolidge': 1, 'David Lowery': 1, 'Ciaran Foy': 1, 'Olatunde Osunsanmi': 1, 'Rob Schmidt': 1, 'Ben Garant': 1, 'Morgan Spurlock': 1, 'Neal Brennan': 1, 'Richard Shepard': 1, 'Theodore Witcher': 1, 'Joel Edgerton': 1, 'Michael Patrick Jann': 1, 'Jorma Taccone': 1, 'Jeff Lowell': 1, 'Lorene Scafaria': 1, 'Tony Kaye': 1, 'Timothy Bjorklund': 1, 'François Girard': 1, 'Jason Bateman': 1, 'Allan Arkush': 1, 'Dan Fogelman': 1, 'Peter Medak': 1, 'Terence Davies': 1, 'Tom Brady': 1, 'Jason Zada': 1, 'Eric Blakeney': 1, 'Derrick Borte': 1, 'Joshua Seftel': 1, 'Ralph Fiennes': 1, 'Dan Harris': 1, 'Bobcat Goldthwait': 1, 'Rafa Lara': 1, 'Michael Radford': 1, 'Alan Smithee': 1, 'Julio DePietro': 1, 'Kim Farrant': 1, 'Scott Marshall Smith': 1, 'Álex de la Iglesia': 1, 'Robert Adetuyi': 1, 'Jason Connery': 1, 'William Phillips': 1, 'Andy García': 1, 'Sarik Andreasyan': 1, 'Gary Sherman': 1, 'Valeri Milev': 1, 'Pedro Almodóvar': 1, 'Gerald Potterton': 1, 'Floria Sigismondi': 1, 'Ferzan Ozpetek': 1, 'Tom Holland': 1, 'Kris Isacsson': 1, 'Ben Younger': 1, 'Hart Bochner': 1, 'Stewart Raffill': 1, 'Kevin Tancharoen': 1, 'Eric Lavaine': 1, 'Marc Forby': 1, 'Ole Christian Madsen': 1, 'Meiert Avis': 1, 'Emily Young': 1, 'Peter Faiman': 1, 'Roland Suso Richter': 1, 'Jeremy Sims': 1, 'Joby Harold': 1, 'Ekachai Uekrongtham': 1, 'Mark Rydell': 1, 'David E. Talbert': 1, 'Roger Vadim': 1, 'Ari Sandel': 1, 'Vondie Curtis-Hall': 1, 'Kang Woo-Suk': 1, 'Ken Loach': 1, 'Ayan Mukherjee': 1, 'Mervyn LeRoy': 1, 'Serdar Akar': 1, 'Dan Gilroy': 1, 'Jonathan Dayton': 1, 'Don Siegel': 1, 'Tom Gormican': 1, 'Peter R. Hunt': 1, 'Doug Atchison': 1, 'Jonas Elmer': 1, 'Mary Harron': 1, 'Erik Canuel': 1, 'Fina Torres': 1, 'Ryan Fleck': 1, 'Steve James': 1, 'John Carney': 1, 'David Jacobson': 1, 'Andrew Currie': 1, 'Marc Schölermann': 1, 'Robert Moresco': 1, 'Claudia Llosa': 1, 'Charles Binamé': 1, 'Michael Winnick': 1, 'Stanley Tong': 1, 'David Oelhoffen': 1, 'Paul Gross': 1, 'Russell Holt': 1, 'Sacha Bennett': 1, 'Jeta Amata': 1, 'Vincent Paronnaud': 1, 'Dennis Gansel': 1, 'Daniel Barber': 1, 'Ernie Barbarash': 1, 'Michael Anderson': 1, 'Craig R. Baxley': 1, 'Matt Bettinelli-Olpin': 1, 'Aaron Schneider': 1, 'Tom Ford': 1, 'Mitch Davis': 1, 'Yash Chopra': 1, 'Lynne Ramsay': 1, 'Tim Chambers': 1, 'Bob Gosse': 1, 'Spencer Susser': 1, \"Thaddeus O'Sullivan\": 1, 'Shari Springer Berman': 1, 'Aleksey German': 1, 'Stephen Milburn Anderson': 1, 'Vladlen Barbe': 1, 'Robert C. Cooper': 1, 'Jackie Earle Haley': 1, 'Damian Nieman': 1, 'Mark Tonderai': 1, 'Luis Valdez': 1, 'Sterling Van Wagenen': 1, 'Zal Batmanglij': 1, 'Oren Moverman': 1, 'Ian Sharp': 1, 'Wolfgang Becker': 1, \"Dan O'Bannon\": 1, 'Robert Stevenson': 1, 'Fred Savage': 1, 'Sammo Hung': 1, 'Rusty Cundieff': 1, 'Dominique Othenin-Girard': 1, 'Jean-Jacques Mantello': 1, 'Risa Bramon Garcia': 1, 'Brian Klugman': 1, 'Raymond De Felitta': 1, 'John Michael McDonagh': 1, 'Deb Hagan': 1, 'Mark Tarlov': 1, 'David Atkins': 1, 'Michael Crichton': 1, 'Sylvio Tabet': 1, 'Rick Bieber': 1, 'Joey Lauren Adams': 1, 'S.R. Bindler': 1, 'Greg Marcks': 1, 'Vic Sarin': 1, 'Cédric Klapisch': 1, 'Kate Barker-Froyland': 1, 'Martin Koolhoven': 1, 'Prachya Pinkaew': 1, 'Joseph Gordon-Levitt': 1, 'William Sachs': 1, 'Émile Gaudreault': 1, 'Aki Kaurismäki': 1, 'Hitoshi Matsumoto': 1, 'Rakeysh Omprakash Mehra': 1, 'George Ratliff': 1, 'Liv Ullmann': 1, 'Dan Trachtenberg': 1, 'David F. Sandberg': 1, 'Stiles White': 1, 'Eugenio Derbez': 1, 'Henry Koster': 1, 'Blake Edwards': 1, 'Patty Jenkins': 1, 'Christopher B. Landon': 1, 'David Gelb': 1, 'Mike Flanagan': 1, 'Nat Faxon': 1, 'George T. Miller': 1, 'Robert Duvall': 1, 'Jesse Peretz': 1, 'Richard Glatzer': 1, 'Bruce Malmuth': 1, 'Rob Hedden': 1, 'Joel Zwick': 1, 'Harmony Korine': 1, 'Joe Chappelle': 1, 'Fred Walton': 1, 'Steve Carver': 1, 'Gonzalo López-Gallego': 1, 'Christine Jeffs': 1, 'Mamoru Hosoda': 1, 'Denys Arcand': 1, 'J.S. Cardone': 1, 'Jay Levey': 1, 'Tamara Jenkins': 1, 'Ronan Chapalain': 1, 'Xavier Beauvois': 1, 'Randall Miller': 1, 'Dan Rush': 1, 'Michael Cuesta': 1, 'Jeremy Saulnier': 1, 'Billy Kent': 1, 'James Manera': 1, 'Eli Craig': 1, 'Matthew Hastings': 1, 'Oren Peli': 1, 'William H. Macy': 1, 'Barrett Esposito': 1, 'Fatih Akin': 1, 'Nick Murphy ': 1, 'Scott Foley': 1, 'Michel Leclerc': 1, 'Analeine Cal y Mayor': 1, 'Tom Kalin': 1, 'Jon Erwin': 1, 'Mike van Diem': 1, 'Johnnie To': 1, 'Agnieszka Wojtowicz-Vosloo': 1, 'Peter DeLuise': 1, 'Raja Menon': 1, 'Nick Love': 1, 'Cecil B. DeMille': 1, 'Henry Hobson': 1, 'Duane Journey': 1, 'Lisa Cholodenko': 1, 'John Sturges': 1, 'Ed Gass-Donnelly': 1, 'Bob Odenkirk': 1, 'Allison Anders': 1, 'Dave McKean': 1, 'Ron Fricke': 1, 'Stefan Schwartz': 1, 'Robert Lee King': 1, 'Jorge Ramírez Suárez': 1, 'Anne Fontaine': 1, 'Dan Ireland': 1, 'Fernando León de Aranoa': 1, 'Sam Levinson': 1, 'Julian Gilbey': 1, 'James Whale': 1, 'Chris Stokes': 1, 'Mark Griffiths': 1, 'Peter Stebbings': 1, 'Vincente Minnelli': 1, 'Dagur Kári': 1, 'Kevin Carraway': 1, 'Michael Gornick': 1, 'Robert Eggers': 1, 'Anthony C. Ferrante': 1, 'André Øvredal': 1, 'Adam Rapp': 1, 'Amanda Gusack': 1, 'Charles Adelman': 1, 'Jay Oliva': 1, 'Mark Young': 1, 'Antonio Simoncini': 1, 'Luc Jacquet': 1, 'Clark Gregg': 1, 'Damien Chazelle': 1, 'Nathan Frankowski': 1, 'Jonathan Silverman': 1, 'Eric Styles': 1, 'Mike Mills': 1, 'Brandon Cronenberg': 1, 'Tod Williams': 1, 'Jack Sholder': 1, 'Martin Lawrence': 1, 'Michael Haigney': 1, 'Tom McLoughlin': 1, 'Adam Marcus': 1, 'Howard Hawks': 1, \"Damien O'Donnell\": 1, 'Peter M. Cohen': 1, 'Mel Stuart': 1, 'Darren Stein': 1, 'Jason Eisener': 1, 'Enrique Begné': 1, 'Matthew Bright': 1, 'Andrea Arnold': 1, 'Leslye Headland': 1, 'Jason Alexander': 1, 'Will Canon': 1, 'Márcio Garcia': 1, 'Michael Jai White': 1, 'Darin Scott': 1, 'Christian Sesma': 1, 'Brian Caunter': 1, 'Heidi Ewing': 1, 'Leon Ford': 1, 'John Carl Buechler': 1, 'Joseph Zito': 1, 'Paweł Pawlikowski': 1, 'Stacy Peralta': 1, 'Nacho Vigalondo': 1, 'Tony Giglio': 1, 'Stanley Donen': 1, 'John Sullivan': 1, 'Tommy Lee Wallace': 1, 'Don Taylor': 1, 'James Ponsoldt': 1, 'Michael D. Sellers': 1, 'James Dodson': 1, 'Alex Rivera': 1, 'Benni Diez': 1, 'Danny Perez': 1, 'Zackary Adler': 1, 'Shane Meadows': 1, 'Dominic Burns': 1, 'Carmen Marron': 1, 'Jerry Rees': 1, 'Danny Steinmann': 1, 'Tay Garnett': 1, 'Shyam Madiraju': 1, 'William Wyler': 1, 'Robert Fontaine': 1, 'David Robert Mitchell': 1, 'Robert Mulligan': 1, 'Chris Kentis': 1, 'Alex Kendrick': 1, 'Robert Rossen': 1, 'Jack Conway': 1, 'Sylvain Chomet': 1, 'Debra Granik': 1, 'Henry King': 1, 'Max Joseph': 1, 'Jerry Jameson': 1, 'Ari Folman': 1, 'Marielle Heller': 1, 'David Sington': 1, 'Huck Botko': 1, 'Lance Mungia': 1, 'Hue Rhodes': 1, 'Brian Yuzna': 1, 'Laurie Collyer': 1, 'Colin Minihan': 1, 'Chris Shadley': 1, 'Orson Welles': 1, 'Dave Payne': 1, 'Derick Martini': 1, 'Jerry Dugan': 1, 'Tim Hunter': 1, 'Jamal Hill': 1, 'Daniel Stamm': 1, 'Carlos Carrera': 1, 'Benh Zeitlin': 1, 'Vera Farmiga': 1, 'W.D. Hogan': 1, 'Corey Grant': 1, 'Richard Boddington': 1, 'Steven R. Monroe': 1, 'Mark Illsley': 1, 'Ritesh Batra': 1, 'Adrienne Shelly': 1, 'Newt Arnold': 1, 'Larry Clark': 1, 'Alex Cox': 1, 'Fabián Bielinsky': 1, 'Rebecca Miller': 1, 'Maggie Carey': 1, 'Henry Bean': 1, 'Bruce Campbell': 1, 'Adam Carolla': 1, 'Bruce McDonald': 1, 'James Mottern': 1, 'Nae Caranfil': 1, 'Tara Subkoff': 1, 'Lucrecia Martel': 1, 'Edward Dmytryk': 1, 'Alex Ranarivelo': 1, 'Jon Knautz': 1, 'Leslie H. Martinson': 1, 'Ham Tran': 1, 'Jonathan Kesselman': 1, 'Douglas Cheek': 1, 'Deryck Broom': 1, 'Henry Hathaway': 1, 'Claudia Sainte-Luce': 1, 'David Boyd': 1, 'Steve Taylor': 1, 'James David Pasternak': 1, 'Laurent Bouhnik': 1, 'Ossie Davis': 1, 'Rob McKittrick': 1, 'Jeff Burr': 1, 'Guy Maddin': 1, 'Panos Cosmatos': 1, 'Gareth Evans': 1, 'Shimit Amin': 1, 'Douglas Trumbull': 1, 'Levan Gabriadze': 1, 'Clive Barker': 1, 'Harold Cronk': 1, 'Takao Okawara': 1, 'Duncan Tucker': 1, 'Russ Meyer': 1, 'Robert D. Webb': 1, 'Allan Dwan': 1, 'Ben Lewin': 1, 'Morgan Neville': 1, 'James Toback': 1, 'Chris Paine': 1, 'Greg Berlanti': 1, 'Richard Dutcher': 1, 'Khalid Mohammed': 1, 'Karen Moncrieff': 1, 'Kyle Rankin': 1, 'Joshua Oppenheimer': 1, 'Alex Gibney': 1, 'Paul Crowder': 1, 'Anthony Powell': 1, 'Johnny Remo': 1, 'Nickolas Perry': 1, 'Eric Nicholas': 1, 'Benjamin Dickinson': 1, 'Hal Haberman': 1, 'Amat Escalante': 1, 'David Cross': 1, 'Stefan C. Schaefer': 1, 'Jeffrey St. Jules': 1, 'Tommy Oliver': 1, 'Barry W. Blaustein': 1, 'Akira Kurosawa': 1, 'Franck Khalfoun': 1, 'Nate Parker': 1, 'William Eubank': 1})\n",
      "Counter({1451: 27, 257: 19, 1258: 16, 980: 16, 1613: 16, 1450: 15, 1230: 15, 1290: 15, 1499: 14, 1125: 14, 1298: 13, 1004: 12, 1318: 12, 716: 12, 1549: 12, 168: 12, 466: 12, 108: 11, 150: 11, 331: 10, 1383: 10, 1239: 10, 214: 10, 1159: 10, 1271: 10, 713: 10, 1591: 10, 873: 10, 1248: 10, 1348: 9, 1182: 9, 1263: 9, 936: 9, 751: 9, 1402: 9, 726: 9, 245: 8, 184: 8, 165: 8, 975: 8, 1312: 8, 1212: 8, 1395: 8, 378: 8, 7: 8, 452: 8, 89: 8, 491: 8, 350: 8, 564: 8, 303: 8, 896: 8, 616: 7, 536: 7, 1345: 7, 1622: 7, 944: 7, 109: 7, 634: 7, 1065: 7, 1532: 7, 786: 7, 1611: 7, 427: 7, 74: 7, 1205: 7, 555: 7, 771: 7, 628: 7, 1307: 7, 475: 7, 1517: 7, 764: 7, 658: 7, 404: 7, 1589: 7, 1417: 7, 552: 7, 41: 7, 1169: 6, 994: 6, 919: 6, 778: 6, 321: 6, 407: 6, 516: 6, 926: 6, 1147: 6, 1292: 6, 1507: 6, 471: 6, 1025: 6, 4: 6, 249: 6, 1181: 6, 972: 6, 1190: 6, 510: 6, 597: 6, 1421: 6, 1488: 6, 1286: 6, 73: 6, 189: 6, 1406: 6, 1315: 6, 173: 6, 1419: 6, 1601: 6, 1089: 6, 653: 6, 70: 6, 495: 6, 325: 6, 1156: 6, 1267: 5, 228: 5, 550: 5, 871: 5, 467: 5, 1003: 5, 857: 5, 712: 5, 1269: 5, 34: 5, 784: 5, 27: 5, 314: 5, 1158: 5, 1217: 5, 641: 5, 928: 5, 121: 5, 1464: 5, 1082: 5, 707: 5, 1066: 5, 830: 5, 512: 5, 66: 5, 1479: 5, 1289: 5, 174: 5, 665: 5, 748: 5, 734: 5, 170: 5, 334: 5, 365: 5, 274: 5, 352: 5, 736: 5, 199: 5, 79: 5, 1098: 5, 650: 5, 648: 5, 940: 5, 996: 5, 553: 5, 65: 4, 56: 4, 86: 4, 745: 4, 602: 4, 112: 4, 1424: 4, 986: 4, 1064: 4, 155: 4, 801: 4, 992: 4, 441: 4, 505: 4, 799: 4, 708: 4, 322: 4, 903: 4, 1146: 4, 370: 4, 1195: 4, 133: 4, 1197: 4, 40: 4, 194: 4, 362: 4, 515: 4, 1173: 4, 1161: 4, 1401: 4, 1533: 4, 158: 4, 754: 4, 746: 4, 1200: 4, 1510: 4, 661: 4, 974: 4, 59: 4, 1476: 4, 423: 4, 503: 4, 277: 4, 911: 4, 1356: 4, 1444: 4, 683: 4, 1319: 4, 1432: 4, 472: 4, 131: 4, 792: 4, 1005: 4, 1049: 4, 271: 4, 1262: 4, 852: 4, 1502: 4, 332: 4, 1580: 4, 590: 4, 340: 4, 1560: 4, 729: 4, 1366: 4, 175: 4, 1587: 4, 654: 4, 1208: 4, 473: 4, 630: 4, 8: 4, 744: 4, 64: 4, 765: 4, 1246: 4, 637: 4, 1165: 4, 1333: 4, 1180: 4, 344: 4, 185: 4, 179: 4, 854: 4, 1099: 4, 610: 4, 1416: 4, 1398: 4, 884: 4, 1297: 4, 1511: 4, 934: 4, 589: 4, 566: 4, 37: 4, 506: 4, 341: 4, 1438: 4, 1242: 4, 1392: 4, 1071: 4, 672: 4, 1028: 4, 961: 4, 154: 4, 1059: 4, 730: 4, 1155: 4, 1347: 4, 140: 4, 731: 4, 470: 4, 825: 3, 364: 3, 947: 3, 839: 3, 1166: 3, 264: 3, 224: 3, 623: 3, 615: 3, 415: 3, 244: 3, 1394: 3, 161: 3, 1544: 3, 1092: 3, 626: 3, 157: 3, 1310: 3, 1043: 3, 907: 3, 1316: 3, 395: 3, 956: 3, 227: 3, 1320: 3, 1498: 3, 849: 3, 753: 3, 499: 3, 774: 3, 1070: 3, 1374: 3, 84: 3, 24: 3, 790: 3, 865: 3, 997: 3, 1225: 3, 543: 3, 901: 3, 1526: 3, 1116: 3, 76: 3, 893: 3, 1594: 3, 533: 3, 103: 3, 945: 3, 860: 3, 775: 3, 1326: 3, 562: 3, 1300: 3, 1582: 3, 1350: 3, 684: 3, 489: 3, 1521: 3, 1384: 3, 1355: 3, 1486: 3, 328: 3, 1069: 3, 1439: 3, 1226: 3, 1179: 3, 696: 3, 305: 3, 1140: 3, 1128: 3, 1583: 3, 156: 3, 1485: 3, 376: 3, 1495: 3, 1309: 3, 763: 3, 1396: 3, 518: 3, 1153: 3, 1308: 3, 1229: 3, 105: 3, 965: 3, 1112: 3, 541: 3, 1612: 3, 1117: 3, 207: 3, 1440: 3, 872: 3, 1035: 3, 39: 3, 663: 3, 524: 3, 142: 3, 915: 3, 1359: 3, 798: 3, 879: 3, 1149: 3, 1373: 3, 1047: 3, 622: 3, 673: 3, 1234: 3, 459: 3, 703: 3, 1245: 3, 762: 3, 1235: 3, 741: 3, 99: 3, 800: 3, 595: 3, 1551: 3, 1556: 3, 1598: 3, 571: 3, 1377: 3, 793: 3, 601: 3, 1275: 3, 1094: 3, 722: 3, 670: 3, 1019: 3, 1284: 3, 50: 3, 1273: 3, 1107: 3, 530: 3, 625: 3, 1042: 3, 1171: 3, 895: 3, 1223: 3, 1254: 3, 366: 3, 1032: 3, 642: 3, 1060: 3, 315: 3, 619: 3, 1037: 3, 761: 3, 431: 3, 652: 3, 617: 3, 483: 3, 1567: 3, 521: 3, 1237: 3, 205: 3, 1379: 2, 812: 2, 1313: 2, 229: 2, 218: 2, 23: 2, 676: 2, 964: 2, 1504: 2, 969: 2, 826: 2, 317: 2, 820: 2, 1266: 2, 502: 2, 464: 2, 899: 2, 1436: 2, 345: 2, 1625: 2, 400: 2, 1370: 2, 1329: 2, 1046: 2, 17: 2, 55: 2, 507: 2, 868: 2, 299: 2, 1088: 2, 1167: 2, 1467: 2, 845: 2, 440: 2, 1123: 2, 1423: 2, 1207: 2, 1566: 2, 527: 2, 496: 2, 574: 2, 254: 2, 360: 2, 1375: 2, 26: 2, 1024: 2, 355: 2, 1023: 2, 818: 2, 1590: 2, 1337: 2, 659: 2, 1452: 2, 547: 2, 869: 2, 1456: 2, 1363: 2, 560: 2, 863: 2, 698: 2, 18: 2, 846: 2, 694: 2, 1247: 2, 1206: 2, 126: 2, 75: 2, 1418: 2, 1249: 2, 780: 2, 1446: 2, 191: 2, 57: 2, 104: 2, 1141: 2, 1238: 2, 931: 2, 719: 2, 984: 2, 1368: 2, 137: 2, 1124: 2, 114: 2, 1007: 2, 1105: 2, 739: 2, 740: 2, 1376: 2, 735: 2, 770: 2, 262: 2, 233: 2, 838: 2, 484: 2, 811: 2, 1426: 2, 1604: 2, 230: 2, 509: 2, 152: 2, 932: 2, 756: 2, 902: 2, 594: 2, 870: 2, 1067: 2, 1579: 2, 1036: 2, 1538: 2, 135: 2, 856: 2, 587: 2, 304: 2, 1091: 2, 363: 2, 643: 2, 747: 2, 1386: 2, 96: 2, 600: 2, 1534: 2, 1231: 2, 220: 2, 759: 2, 1199: 2, 164: 2, 210: 2, 888: 2, 1110: 2, 581: 2, 1573: 2, 878: 2, 60: 2, 115: 2, 190: 2, 1096: 2, 1203: 2, 419: 2, 702: 2, 148: 2, 1323: 2, 206: 2, 758: 2, 136: 2, 1568: 2, 418: 2, 548: 2, 769: 2, 1109: 2, 1466: 2, 134: 2, 1138: 2, 1215: 2, 1588: 2, 1483: 2, 910: 2, 1090: 2, 410: 2, 874: 2, 1545: 2, 687: 2, 373: 2, 1558: 2, 728: 2, 829: 2, 666: 2, 1437: 2, 783: 2, 1470: 2, 90: 2, 446: 2, 1053: 2, 139: 2, 532: 2, 1515: 2, 211: 2, 850: 2, 835: 2, 52: 2, 1016: 2, 1489: 2, 1367: 2, 111: 2, 542: 2, 1302: 2, 1616: 2, 866: 2, 1585: 2, 606: 2, 1449: 2, 709: 2, 1561: 2, 1385: 2, 1536: 2, 382: 2, 62: 2, 1026: 2, 383: 2, 924: 2, 172: 2, 270: 2, 978: 2, 983: 2, 966: 2, 1409: 2, 833: 2, 1513: 2, 306: 2, 241: 2, 1211: 2, 143: 2, 954: 2, 768: 2, 621: 2, 514: 2, 1474: 2, 476: 2, 612: 2, 1459: 2, 243: 2, 1136: 2, 593: 2, 197: 2, 948: 2, 1393: 2, 979: 2, 335: 2, 843: 2, 196: 2, 950: 2, 1192: 2, 1342: 2, 357: 2, 655: 2, 1113: 2, 1569: 2, 1405: 2, 1552: 2, 478: 2, 1009: 2, 1548: 2, 1303: 2, 551: 2, 1108: 2, 520: 2, 881: 2, 1621: 2, 1603: 2, 1013: 2, 1040: 2, 723: 2, 456: 2, 742: 2, 788: 2, 1518: 2, 1055: 2, 278: 2, 1305: 2, 424: 2, 1497: 2, 1482: 2, 398: 2, 336: 2, 432: 2, 599: 2, 327: 2, 186: 1, 263: 1, 293: 1, 905: 1, 1191: 1, 162: 1, 1327: 1, 1295: 1, 192: 1, 1233: 1, 576: 1, 640: 1, 212: 1, 584: 1, 1434: 1, 1189: 1, 368: 1, 578: 1, 361: 1, 1221: 1, 1529: 1, 1496: 1, 202: 1, 1114: 1, 1593: 1, 1411: 1, 1209: 1, 1139: 1, 447: 1, 98: 1, 1031: 1, 1578: 1, 1541: 1, 691: 1, 710: 1, 853: 1, 614: 1, 1571: 1, 107: 1, 1306: 1, 93: 1, 68: 1, 1304: 1, 259: 1, 388: 1, 222: 1, 339: 1, 462: 1, 889: 1, 457: 1, 358: 1, 1157: 1, 501: 1, 1079: 1, 497: 1, 1614: 1, 1050: 1, 294: 1, 861: 1, 1198: 1, 814: 1, 882: 1, 406: 1, 1365: 1, 1457: 1, 300: 1, 949: 1, 375: 1, 1170: 1, 1343: 1, 1293: 1, 508: 1, 102: 1, 88: 1, 805: 1, 1542: 1, 15: 1, 474: 1, 1399: 1, 1505: 1, 1186: 1, 82: 1, 1057: 1, 1151: 1, 16: 1, 1184: 1, 1321: 1, 1277: 1, 1428: 1, 1150: 1, 517: 1, 577: 1, 711: 1, 990: 1, 1540: 1, 806: 1, 239: 1, 38: 1, 113: 1, 1448: 1, 1194: 1, 268: 1, 511: 1, 1481: 1, 1620: 1, 1133: 1, 346: 1, 492: 1, 737: 1, 1461: 1, 307: 1, 900: 1, 169: 1, 119: 1, 813: 1, 78: 1, 834: 1, 1397: 1, 535: 1, 97: 1, 1349: 1, 450: 1, 953: 1, 187: 1, 25: 1, 1160: 1, 700: 1, 392: 1, 1137: 1, 827: 1, 429: 1, 209: 1, 1559: 1, 1001: 1, 942: 1, 1172: 1, 1371: 1, 132: 1, 1340: 1, 208: 1, 324: 1, 1619: 1, 347: 1, 667: 1, 342: 1, 598: 1, 1335: 1, 675: 1, 232: 1, 487: 1, 883: 1, 1609: 1, 1142: 1, 494: 1, 19: 1, 1445: 1, 1058: 1, 1360: 1, 1462: 1, 213: 1, 1183: 1, 493: 1, 272: 1, 46: 1, 880: 1, 1196: 1, 1555: 1, 916: 1, 1077: 1, 664: 1, 699: 1, 588: 1, 1222: 1, 120: 1, 215: 1, 1362: 1, 705: 1, 794: 1, 1250: 1, 1328: 1, 840: 1, 1048: 1, 401: 1, 1531: 1, 1083: 1, 733: 1, 1039: 1, 1420: 1, 1027: 1, 1480: 1, 1607: 1, 904: 1, 413: 1, 1154: 1, 1524: 1, 923: 1, 1378: 1, 1413: 1, 1553: 1, 42: 1, 1102: 1, 660: 1, 867: 1, 1595: 1, 181: 1, 246: 1, 1101: 1, 69: 1, 1054: 1, 1244: 1, 266: 1, 607: 1, 486: 1, 1127: 1, 939: 1, 918: 1, 434: 1, 426: 1, 399: 1, 749: 1, 1118: 1, 1388: 1, 609: 1, 1276: 1, 12: 1, 1241: 1, 188: 1, 1352: 1, 1581: 1, 1358: 1, 862: 1, 1011: 1, 63: 1, 1008: 1, 21: 1, 1020: 1, 1477: 1, 1122: 1, 1033: 1, 1382: 1, 556: 1, 129: 1, 200: 1, 219: 1, 482: 1, 958: 1, 1430: 1, 886: 1, 149: 1, 1501: 1, 390: 1, 677: 1, 1554: 1, 1202: 1, 671: 1, 198: 1, 1259: 1, 796: 1, 1120: 1, 738: 1, 1296: 1, 531: 1, 592: 1, 791: 1, 1372: 1, 952: 1, 575: 1, 153: 1, 537: 1, 1431: 1, 1252: 1, 802: 1, 815: 1, 776: 1, 1331: 1, 248: 1, 1052: 1, 301: 1, 479: 1, 231: 1, 367: 1, 1324: 1, 1458: 1, 851: 1, 822: 1, 1535: 1, 260: 1, 697: 1, 1164: 1, 1491: 1, 1299: 1, 100: 1, 1443: 1, 999: 1, 837: 1, 1528: 1, 498: 1, 545: 1, 757: 1, 821: 1, 1429: 1, 1519: 1, 750: 1, 1038: 1, 693: 1, 1494: 1, 117: 1, 422: 1, 1441: 1, 1021: 1, 1415: 1, 1178: 1, 1144: 1, 217: 1, 522: 1, 962: 1, 1425: 1, 1029: 1, 284: 1, 145: 1, 128: 1, 28: 1, 1514: 1, 937: 1, 77: 1, 296: 1, 1051: 1, 1586: 1, 795: 1, 1364: 1, 967: 1, 1264: 1, 83: 1, 435: 1, 61: 1, 1257: 1, 1564: 1, 1255: 1, 159: 1, 1596: 1, 269: 1, 991: 1, 804: 1, 1061: 1, 1126: 1, 1550: 1, 237: 1, 337: 1, 267: 1, 1487: 1, 847: 1, 166: 1, 513: 1, 760: 1, 732: 1, 298: 1, 235: 1, 649: 1, 1283: 1, 1097: 1, 455: 1, 1391: 1, 695: 1, 1115: 1, 54: 1, 549: 1, 1516: 1, 583: 1, 832: 1, 1044: 1, 275: 1, 234: 1, 377: 1, 391: 1, 1177: 1, 1100: 1, 45: 1, 809: 1, 892: 1, 6: 1, 1463: 1, 858: 1, 688: 1, 310: 1, 504: 1, 841: 1, 686: 1, 1584: 1, 557: 1, 1557: 1, 1618: 1, 1076: 1, 72: 1, 529: 1, 635: 1, 692: 1, 1232: 1, 1015: 1, 715: 1, 629: 1, 987: 1, 380: 1, 252: 1, 1256: 1, 1353: 1, 828: 1, 1201: 1, 981: 1, 755: 1, 721: 1, 1168: 1, 349: 1, 1412: 1, 408: 1, 412: 1, 1214: 1, 353: 1, 1075: 1, 1301: 1, 1006: 1, 485: 1, 580: 1, 1546: 1, 1338: 1, 313: 1, 393: 1, 611: 1, 87: 1, 488: 1, 384: 1, 544: 1, 528: 1, 1174: 1, 638: 1, 469: 1, 223: 1, 624: 1, 819: 1, 859: 1, 1492: 1, 526: 1, 420: 1, 439: 1, 885: 1, 178: 1, 743: 1, 1346: 1, 31: 1, 280: 1, 908: 1, 955: 1, 690: 1, 596: 1, 1152: 1, 1414: 1, 779: 1, 963: 1, 706: 1, 123: 1, 1453: 1, 959: 1, 1: 1, 397: 1, 1599: 1, 1460: 1, 720: 1, 1062: 1, 1111: 1, 348: 1, 242: 1, 285: 1, 817: 1, 433: 1, 1577: 1, 1095: 1, 369: 1, 312: 1, 91: 1, 785: 1, 1135: 1, 1472: 1, 20: 1, 927: 1, 917: 1, 1471: 1, 247: 1, 1509: 1, 639: 1, 290: 1, 1213: 1, 176: 1, 356: 1, 1506: 1, 1270: 1, 727: 1, 163: 1, 417: 1, 546: 1, 389: 1, 1204: 1, 1597: 1, 10: 1, 920: 1, 781: 1, 465: 1, 371: 1, 442: 1, 1389: 1, 130: 1, 250: 1, 906: 1, 144: 1, 1325: 1, 539: 1, 343: 1, 251: 1, 1119: 1, 1272: 1, 116: 1, 1074: 1, 1087: 1, 1251: 1, 1493: 1, 714: 1, 1030: 1, 808: 1, 669: 1, 925: 1, 1547: 1, 1508: 1, 477: 1, 645: 1, 43: 1, 286: 1, 1187: 1, 1484: 1, 1520: 1, 651: 1, 438: 1, 386: 1, 824: 1, 1220: 1, 288: 1, 151: 1, 1216: 1, 1034: 1, 22: 1, 836: 1, 877: 1, 1361: 1, 1626: 1, 1274: 1, 646: 1, 1605: 1, 71: 1, 1354: 1, 500: 1, 1562: 1, 1163: 1, 525: 1, 463: 1, 460: 1, 1525: 1, 887: 1, 122: 1, 565: 1, 1454: 1, 875: 1, 443: 1, 943: 1, 1121: 1, 995: 1, 436: 1, 1176: 1, 1314: 1, 679: 1, 701: 1, 428: 1, 968: 1, 329: 1, 1311: 1, 95: 1, 1575: 1, 842: 1, 855: 1, 101: 1, 1000: 1, 1369: 1, 287: 1, 789: 1, 402: 1, 1523: 1, 1188: 1, 405: 1, 787: 1, 982: 1, 448: 1, 461: 1, 1336: 1, 1435: 1, 725: 1, 338: 1, 58: 1, 946: 1, 1287: 1, 255: 1, 204: 1, 1041: 1, 1407: 1, 351: 1, 1148: 1, 1332: 1, 1341: 1, 689: 1, 1570: 1, 379: 1, 297: 1, 449: 1, 1002: 1, 273: 1, 985: 1, 0: 1, 1522: 1, 1072: 1, 1617: 1, 935: 1, 1500: 1, 146: 1, 1400: 1, 1490: 1, 1381: 1, 29: 1, 1422: 1, 1574: 1, 1278: 1, 608: 1, 281: 1, 971: 1, 933: 1, 1427: 1, 1624: 1, 1129: 1, 591: 1, 1610: 1, 291: 1, 1294: 1, 480: 1, 1351: 1, 1334: 1, 396: 1, 662: 1, 1260: 1, 171: 1, 1227: 1, 752: 1, 372: 1, 970: 1, 320: 1, 1010: 1, 1468: 1, 1253: 1, 718: 1, 1339: 1, 540: 1, 1565: 1, 276: 1, 848: 1, 976: 1, 1210: 1, 810: 1, 1606: 1, 1627: 1, 13: 1, 579: 1, 1219: 1, 519: 1, 922: 1, 295: 1, 330: 1, 1455: 1, 451: 1, 573: 1, 141: 1, 1143: 1, 240: 1, 333: 1, 1056: 1, 1084: 1, 523: 1, 1280: 1, 685: 1, 1243: 1, 182: 1, 1265: 1, 717: 1, 561: 1, 704: 1, 481: 1, 1433: 1, 534: 1, 238: 1, 941: 1, 381: 1, 603: 1, 656: 1, 1473: 1, 1322: 1, 1615: 1, 1224: 1, 292: 1, 1012: 1, 678: 1, 138: 1, 627: 1, 430: 1, 989: 1, 1130: 1, 1602: 1, 106: 1, 454: 1, 1104: 1, 1357: 1, 1045: 1, 51: 1, 1527: 1, 777: 1, 1068: 1, 772: 1, 11: 1, 1175: 1, 1218: 1, 1103: 1, 201: 1, 570: 1, 414: 1, 921: 1, 766: 1, 421: 1, 147: 1, 47: 1, 318: 1, 1317: 1, 1410: 1, 1285: 1, 807: 1, 80: 1, 289: 1, 458: 1, 1344: 1, 831: 1, 636: 1, 226: 1, 957: 1, 1193: 1, 1572: 1, 279: 1, 864: 1, 1017: 1, 1281: 1, 81: 1, 67: 1, 5: 1, 48: 1, 203: 1, 657: 1, 973: 1, 92: 1, 929: 1, 253: 1, 282: 1, 1086: 1, 803: 1, 445: 1, 1063: 1, 160: 1, 1512: 1, 605: 1, 977: 1, 1018: 1, 1530: 1, 3: 1, 582: 1, 283: 1, 1185: 1, 998: 1, 316: 1, 647: 1, 437: 1, 988: 1, 53: 1, 913: 1, 644: 1, 1592: 1, 1078: 1, 1022: 1, 311: 1, 236: 1, 167: 1, 567: 1, 909: 1, 724: 1, 816: 1, 1162: 1, 1403: 1, 1080: 1, 1543: 1, 1404: 1, 767: 1, 1537: 1, 403: 1, 632: 1, 1014: 1, 620: 1, 36: 1, 127: 1, 308: 1, 1623: 1, 1380: 1, 394: 1, 195: 1, 682: 1, 309: 1, 1478: 1, 1390: 1, 1608: 1, 1282: 1, 354: 1, 1288: 1, 216: 1, 33: 1, 1291: 1, 604: 1, 1465: 1, 374: 1, 572: 1, 993: 1, 681: 1, 94: 1, 951: 1, 359: 1, 585: 1, 891: 1, 586: 1, 177: 1, 898: 1, 261: 1, 225: 1, 1131: 1, 319: 1, 385: 1, 680: 1, 1503: 1, 613: 1, 302: 1, 193: 1, 124: 1, 1563: 1, 1576: 1, 265: 1, 1236: 1, 1447: 1, 960: 1, 1261: 1, 9: 1, 1093: 1, 894: 1, 30: 1, 453: 1, 1228: 1, 938: 1, 568: 1, 180: 1, 2: 1, 183: 1, 631: 1, 1081: 1, 1475: 1, 930: 1, 425: 1, 35: 1, 782: 1, 912: 1, 559: 1, 797: 1, 409: 1, 387: 1, 569: 1, 256: 1, 323: 1, 1442: 1, 618: 1, 897: 1, 1132: 1, 1268: 1, 668: 1, 554: 1, 1134: 1, 490: 1, 1387: 1, 411: 1, 914: 1, 258: 1, 563: 1, 1469: 1, 416: 1, 1330: 1, 1279: 1, 44: 1, 118: 1, 1073: 1, 633: 1, 221: 1, 538: 1, 1240: 1, 876: 1, 844: 1, 890: 1, 823: 1, 32: 1, 1145: 1, 85: 1, 773: 1, 1106: 1, 444: 1, 125: 1, 558: 1, 49: 1, 326: 1, 1408: 1, 674: 1, 1539: 1, 110: 1, 14: 1, 468: 1, 1085: 1, 1600: 1})\n",
      "LABEL ENCODING OF: genres\n",
      "Counter({'Drama': 824, 'Comedy': 734, 'Action': 652, 'Adventure': 303, 'Horror': 211, 'Crime': 163, 'Thriller': 139, 'Animation': 105, 'Fantasy': 101, 'Science Fiction': 82, 'Romance': 78, 'Family': 41, 'Mystery': 29, 'Documentary': 27, 'Western': 22, 'Music': 22, 'War': 20, 'History': 19, 'TV Movie': 1})\n",
      "Counter({6: 824, 3: 734, 0: 652, 1: 303, 10: 211, 4: 163, 16: 139, 2: 105, 8: 101, 14: 82, 13: 78, 7: 41, 12: 29, 5: 27, 18: 22, 11: 22, 17: 20, 9: 19, 15: 1})\n"
     ]
    }
   ],
   "source": [
    "# Label encoding features to change categorical variables into numerical one\n",
    "from sklearn.preprocessing import LabelEncoder\n",
    "from collections import Counter as c\n",
    "cat=['director','genres']\n",
    "for i in movies_box[cat]:#looping through all the categorical columns\n",
    "    print(\"LABEL ENCODING OF:\",i)\n",
    "    LE = LabelEncoder()#creating an object of LabelEncoder\n",
    "    print(c(movies_box[i])) #getting the classes values before transformation\n",
    "    movies_box[i] = LE.fit_transform(movies_box[i]) # trannsforming our text classes to numerical values\n",
    "    print(c(movies_box[i])) #getting the classes values after transformation"
   ]
  },
  {
   "cell_type": "code",
   "execution_count": null,
   "id": "great-trace",
   "metadata": {},
   "outputs": [],
   "source": []
  },
  {
   "cell_type": "raw",
   "id": "distinct-friendly",
   "metadata": {},
   "source": [
    "movies_box.head(3)"
   ]
  },
  {
   "cell_type": "code",
   "execution_count": null,
   "id": "powered-turner",
   "metadata": {},
   "outputs": [],
   "source": []
  },
  {
   "cell_type": "code",
   "execution_count": 53,
   "id": "beginning-alexander",
   "metadata": {},
   "outputs": [
    {
     "name": "stdout",
     "output_type": "stream",
     "text": [
      "{'director': {'Action': 0, 'Adventure': 1, 'Animation': 2, 'Comedy': 3, 'Crime': 4, 'Documentary': 5, 'Drama': 6, 'Family': 7, 'Fantasy': 8, 'History': 9, 'Horror': 10, 'Music': 11, 'Mystery': 12, 'Romance': 13, 'Science Fiction': 14, 'TV Movie': 15, 'Thriller': 16, 'War': 17, 'Western': 18}}\n",
      "{'director': {'Action': 0, 'Adventure': 1, 'Animation': 2, 'Comedy': 3, 'Crime': 4, 'Documentary': 5, 'Drama': 6, 'Family': 7, 'Fantasy': 8, 'History': 9, 'Horror': 10, 'Music': 11, 'Mystery': 12, 'Romance': 13, 'Science Fiction': 14, 'TV Movie': 15, 'Thriller': 16, 'War': 17, 'Western': 18}, 'genres': {'Action': 0, 'Adventure': 1, 'Animation': 2, 'Comedy': 3, 'Crime': 4, 'Documentary': 5, 'Drama': 6, 'Family': 7, 'Fantasy': 8, 'History': 9, 'Horror': 10, 'Music': 11, 'Mystery': 12, 'Romance': 13, 'Science Fiction': 14, 'TV Movie': 15, 'Thriller': 16, 'War': 17, 'Western': 18}}\n"
     ]
    }
   ],
   "source": [
    "mapping_dict ={} \n",
    "category_col=[\"director\",\"genres\"]\n",
    "for col in category_col: \n",
    "    LE_name_mapping = dict(zip(LE.classes_, \n",
    "                        LE.transform(LE.classes_))) \n",
    "  \n",
    "    mapping_dict[col]= LE_name_mapping \n",
    "    print(mapping_dict)"
   ]
  },
  {
   "cell_type": "code",
   "execution_count": 54,
   "id": "incomplete-evans",
   "metadata": {
    "scrolled": true
   },
   "outputs": [
    {
     "data": {
      "text/html": [
       "<div>\n",
       "<style scoped>\n",
       "    .dataframe tbody tr th:only-of-type {\n",
       "        vertical-align: middle;\n",
       "    }\n",
       "\n",
       "    .dataframe tbody tr th {\n",
       "        vertical-align: top;\n",
       "    }\n",
       "\n",
       "    .dataframe thead th {\n",
       "        text-align: right;\n",
       "    }\n",
       "</style>\n",
       "<table border=\"1\" class=\"dataframe\">\n",
       "  <thead>\n",
       "    <tr style=\"text-align: right;\">\n",
       "      <th></th>\n",
       "      <th>budget</th>\n",
       "      <th>genres</th>\n",
       "      <th>popularity</th>\n",
       "      <th>revenue</th>\n",
       "      <th>runtime</th>\n",
       "      <th>vote_average</th>\n",
       "      <th>vote_count</th>\n",
       "      <th>director</th>\n",
       "      <th>release_month</th>\n",
       "      <th>release_DOW</th>\n",
       "    </tr>\n",
       "  </thead>\n",
       "  <tbody>\n",
       "    <tr>\n",
       "      <th>0</th>\n",
       "      <td>237</td>\n",
       "      <td>0</td>\n",
       "      <td>150.437577</td>\n",
       "      <td>2787</td>\n",
       "      <td>162.0</td>\n",
       "      <td>7.2</td>\n",
       "      <td>11800</td>\n",
       "      <td>616</td>\n",
       "      <td>12</td>\n",
       "      <td>3</td>\n",
       "    </tr>\n",
       "    <tr>\n",
       "      <th>1</th>\n",
       "      <td>300</td>\n",
       "      <td>1</td>\n",
       "      <td>139.082615</td>\n",
       "      <td>961</td>\n",
       "      <td>169.0</td>\n",
       "      <td>6.9</td>\n",
       "      <td>4500</td>\n",
       "      <td>536</td>\n",
       "      <td>5</td>\n",
       "      <td>5</td>\n",
       "    </tr>\n",
       "    <tr>\n",
       "      <th>2</th>\n",
       "      <td>245</td>\n",
       "      <td>0</td>\n",
       "      <td>107.376788</td>\n",
       "      <td>880</td>\n",
       "      <td>148.0</td>\n",
       "      <td>6.3</td>\n",
       "      <td>4466</td>\n",
       "      <td>1345</td>\n",
       "      <td>10</td>\n",
       "      <td>0</td>\n",
       "    </tr>\n",
       "    <tr>\n",
       "      <th>3</th>\n",
       "      <td>250</td>\n",
       "      <td>0</td>\n",
       "      <td>112.312950</td>\n",
       "      <td>1084</td>\n",
       "      <td>165.0</td>\n",
       "      <td>7.6</td>\n",
       "      <td>9106</td>\n",
       "      <td>245</td>\n",
       "      <td>7</td>\n",
       "      <td>0</td>\n",
       "    </tr>\n",
       "    <tr>\n",
       "      <th>4</th>\n",
       "      <td>260</td>\n",
       "      <td>0</td>\n",
       "      <td>43.926995</td>\n",
       "      <td>284</td>\n",
       "      <td>132.0</td>\n",
       "      <td>6.1</td>\n",
       "      <td>2124</td>\n",
       "      <td>65</td>\n",
       "      <td>3</td>\n",
       "      <td>2</td>\n",
       "    </tr>\n",
       "  </tbody>\n",
       "</table>\n",
       "</div>"
      ],
      "text/plain": [
       "   budget  genres  popularity  revenue  runtime  vote_average  vote_count  \\\n",
       "0     237       0  150.437577     2787    162.0           7.2       11800   \n",
       "1     300       1  139.082615      961    169.0           6.9        4500   \n",
       "2     245       0  107.376788      880    148.0           6.3        4466   \n",
       "3     250       0  112.312950     1084    165.0           7.6        9106   \n",
       "4     260       0   43.926995      284    132.0           6.1        2124   \n",
       "\n",
       "   director  release_month  release_DOW  \n",
       "0       616             12            3  \n",
       "1       536              5            5  \n",
       "2      1345             10            0  \n",
       "3       245              7            0  \n",
       "4        65              3            2  "
      ]
     },
     "execution_count": 54,
     "metadata": {},
     "output_type": "execute_result"
    }
   ],
   "source": [
    "movies_box.head()"
   ]
  },
  {
   "cell_type": "markdown",
   "id": "irish-converter",
   "metadata": {},
   "source": [
    "### Splitting the Dataset into Dependent and Independent variable\n",
    "•\tIn machine learning, the concept of dependent variable (y) and independent variables(x) is important to understand. Here, Dependent variable is nothing but output in dataset and independent variable is all inputs in the dataset. \n",
    "•\tWith this in mind, we need to split our dataset into the matrix of independent variables and the vector or dependent variable. Mathematically, Vector is defined as a matrix that has just one column."
   ]
  },
  {
   "cell_type": "code",
   "execution_count": 55,
   "id": "permanent-banking",
   "metadata": {},
   "outputs": [
    {
     "data": {
      "text/html": [
       "<div>\n",
       "<style scoped>\n",
       "    .dataframe tbody tr th:only-of-type {\n",
       "        vertical-align: middle;\n",
       "    }\n",
       "\n",
       "    .dataframe tbody tr th {\n",
       "        vertical-align: top;\n",
       "    }\n",
       "\n",
       "    .dataframe thead th {\n",
       "        text-align: right;\n",
       "    }\n",
       "</style>\n",
       "<table border=\"1\" class=\"dataframe\">\n",
       "  <thead>\n",
       "    <tr style=\"text-align: right;\">\n",
       "      <th></th>\n",
       "      <th>budget</th>\n",
       "      <th>genres</th>\n",
       "      <th>popularity</th>\n",
       "      <th>runtime</th>\n",
       "      <th>vote_average</th>\n",
       "      <th>vote_count</th>\n",
       "      <th>release_month</th>\n",
       "      <th>release_DOW</th>\n",
       "    </tr>\n",
       "  </thead>\n",
       "  <tbody>\n",
       "    <tr>\n",
       "      <th>0</th>\n",
       "      <td>237</td>\n",
       "      <td>0</td>\n",
       "      <td>150.437577</td>\n",
       "      <td>162.0</td>\n",
       "      <td>7.2</td>\n",
       "      <td>11800</td>\n",
       "      <td>12</td>\n",
       "      <td>3</td>\n",
       "    </tr>\n",
       "    <tr>\n",
       "      <th>1</th>\n",
       "      <td>300</td>\n",
       "      <td>1</td>\n",
       "      <td>139.082615</td>\n",
       "      <td>169.0</td>\n",
       "      <td>6.9</td>\n",
       "      <td>4500</td>\n",
       "      <td>5</td>\n",
       "      <td>5</td>\n",
       "    </tr>\n",
       "    <tr>\n",
       "      <th>2</th>\n",
       "      <td>245</td>\n",
       "      <td>0</td>\n",
       "      <td>107.376788</td>\n",
       "      <td>148.0</td>\n",
       "      <td>6.3</td>\n",
       "      <td>4466</td>\n",
       "      <td>10</td>\n",
       "      <td>0</td>\n",
       "    </tr>\n",
       "    <tr>\n",
       "      <th>3</th>\n",
       "      <td>250</td>\n",
       "      <td>0</td>\n",
       "      <td>112.312950</td>\n",
       "      <td>165.0</td>\n",
       "      <td>7.6</td>\n",
       "      <td>9106</td>\n",
       "      <td>7</td>\n",
       "      <td>0</td>\n",
       "    </tr>\n",
       "    <tr>\n",
       "      <th>4</th>\n",
       "      <td>260</td>\n",
       "      <td>0</td>\n",
       "      <td>43.926995</td>\n",
       "      <td>132.0</td>\n",
       "      <td>6.1</td>\n",
       "      <td>2124</td>\n",
       "      <td>3</td>\n",
       "      <td>2</td>\n",
       "    </tr>\n",
       "    <tr>\n",
       "      <th>...</th>\n",
       "      <td>...</td>\n",
       "      <td>...</td>\n",
       "      <td>...</td>\n",
       "      <td>...</td>\n",
       "      <td>...</td>\n",
       "      <td>...</td>\n",
       "      <td>...</td>\n",
       "      <td>...</td>\n",
       "    </tr>\n",
       "    <tr>\n",
       "      <th>4586</th>\n",
       "      <td>35</td>\n",
       "      <td>3</td>\n",
       "      <td>38.100488</td>\n",
       "      <td>99.0</td>\n",
       "      <td>5.8</td>\n",
       "      <td>923</td>\n",
       "      <td>5</td>\n",
       "      <td>2</td>\n",
       "    </tr>\n",
       "    <tr>\n",
       "      <th>4596</th>\n",
       "      <td>6</td>\n",
       "      <td>10</td>\n",
       "      <td>19.331884</td>\n",
       "      <td>89.0</td>\n",
       "      <td>6.0</td>\n",
       "      <td>316</td>\n",
       "      <td>12</td>\n",
       "      <td>2</td>\n",
       "    </tr>\n",
       "    <tr>\n",
       "      <th>4682</th>\n",
       "      <td>13</td>\n",
       "      <td>10</td>\n",
       "      <td>4.009379</td>\n",
       "      <td>95.0</td>\n",
       "      <td>4.6</td>\n",
       "      <td>24</td>\n",
       "      <td>1</td>\n",
       "      <td>4</td>\n",
       "    </tr>\n",
       "    <tr>\n",
       "      <th>4720</th>\n",
       "      <td>8</td>\n",
       "      <td>6</td>\n",
       "      <td>9.452808</td>\n",
       "      <td>120.0</td>\n",
       "      <td>6.5</td>\n",
       "      <td>178</td>\n",
       "      <td>9</td>\n",
       "      <td>4</td>\n",
       "    </tr>\n",
       "    <tr>\n",
       "      <th>4758</th>\n",
       "      <td>4</td>\n",
       "      <td>16</td>\n",
       "      <td>27.662696</td>\n",
       "      <td>95.0</td>\n",
       "      <td>5.8</td>\n",
       "      <td>631</td>\n",
       "      <td>3</td>\n",
       "      <td>5</td>\n",
       "    </tr>\n",
       "  </tbody>\n",
       "</table>\n",
       "<p>3573 rows × 8 columns</p>\n",
       "</div>"
      ],
      "text/plain": [
       "      budget  genres  popularity  runtime  vote_average  vote_count  \\\n",
       "0        237       0  150.437577    162.0           7.2       11800   \n",
       "1        300       1  139.082615    169.0           6.9        4500   \n",
       "2        245       0  107.376788    148.0           6.3        4466   \n",
       "3        250       0  112.312950    165.0           7.6        9106   \n",
       "4        260       0   43.926995    132.0           6.1        2124   \n",
       "...      ...     ...         ...      ...           ...         ...   \n",
       "4586      35       3   38.100488     99.0           5.8         923   \n",
       "4596       6      10   19.331884     89.0           6.0         316   \n",
       "4682      13      10    4.009379     95.0           4.6          24   \n",
       "4720       8       6    9.452808    120.0           6.5         178   \n",
       "4758       4      16   27.662696     95.0           5.8         631   \n",
       "\n",
       "      release_month  release_DOW  \n",
       "0                12            3  \n",
       "1                 5            5  \n",
       "2                10            0  \n",
       "3                 7            0  \n",
       "4                 3            2  \n",
       "...             ...          ...  \n",
       "4586              5            2  \n",
       "4596             12            2  \n",
       "4682              1            4  \n",
       "4720              9            4  \n",
       "4758              3            5  \n",
       "\n",
       "[3573 rows x 8 columns]"
      ]
     },
     "execution_count": 55,
     "metadata": {},
     "output_type": "execute_result"
    }
   ],
   "source": [
    "#Dependent Variables\n",
    "x=movies_box.iloc[:,[0,1,2,4,5,6,8,9]]\n",
    "x=pd.DataFrame(x,columns=['budget','genres','popularity','runtime','vote_average','vote_count','release_month','release_DOW'])\n",
    "x"
   ]
  },
  {
   "cell_type": "code",
   "execution_count": 56,
   "id": "applied-province",
   "metadata": {},
   "outputs": [
    {
     "data": {
      "text/html": [
       "<div>\n",
       "<style scoped>\n",
       "    .dataframe tbody tr th:only-of-type {\n",
       "        vertical-align: middle;\n",
       "    }\n",
       "\n",
       "    .dataframe tbody tr th {\n",
       "        vertical-align: top;\n",
       "    }\n",
       "\n",
       "    .dataframe thead th {\n",
       "        text-align: right;\n",
       "    }\n",
       "</style>\n",
       "<table border=\"1\" class=\"dataframe\">\n",
       "  <thead>\n",
       "    <tr style=\"text-align: right;\">\n",
       "      <th></th>\n",
       "      <th>revenue</th>\n",
       "    </tr>\n",
       "  </thead>\n",
       "  <tbody>\n",
       "    <tr>\n",
       "      <th>0</th>\n",
       "      <td>2787</td>\n",
       "    </tr>\n",
       "    <tr>\n",
       "      <th>1</th>\n",
       "      <td>961</td>\n",
       "    </tr>\n",
       "    <tr>\n",
       "      <th>2</th>\n",
       "      <td>880</td>\n",
       "    </tr>\n",
       "    <tr>\n",
       "      <th>3</th>\n",
       "      <td>1084</td>\n",
       "    </tr>\n",
       "    <tr>\n",
       "      <th>4</th>\n",
       "      <td>284</td>\n",
       "    </tr>\n",
       "    <tr>\n",
       "      <th>...</th>\n",
       "      <td>...</td>\n",
       "    </tr>\n",
       "    <tr>\n",
       "      <th>4586</th>\n",
       "      <td>170</td>\n",
       "    </tr>\n",
       "    <tr>\n",
       "      <th>4596</th>\n",
       "      <td>0</td>\n",
       "    </tr>\n",
       "    <tr>\n",
       "      <th>4682</th>\n",
       "      <td>0</td>\n",
       "    </tr>\n",
       "    <tr>\n",
       "      <th>4720</th>\n",
       "      <td>15</td>\n",
       "    </tr>\n",
       "    <tr>\n",
       "      <th>4758</th>\n",
       "      <td>0</td>\n",
       "    </tr>\n",
       "  </tbody>\n",
       "</table>\n",
       "<p>3573 rows × 1 columns</p>\n",
       "</div>"
      ],
      "text/plain": [
       "      revenue\n",
       "0        2787\n",
       "1         961\n",
       "2         880\n",
       "3        1084\n",
       "4         284\n",
       "...       ...\n",
       "4586      170\n",
       "4596        0\n",
       "4682        0\n",
       "4720       15\n",
       "4758        0\n",
       "\n",
       "[3573 rows x 1 columns]"
      ]
     },
     "execution_count": 56,
     "metadata": {},
     "output_type": "execute_result"
    }
   ],
   "source": [
    "#Dependent Variables\n",
    "y=movies_box.iloc[:,3]\n",
    "y=pd.DataFrame(y,columns=['revenue'])\n",
    "y"
   ]
  },
  {
   "cell_type": "markdown",
   "id": "worst-composer",
   "metadata": {},
   "source": [
    "### Feature Scaling"
   ]
  },
  {
   "cell_type": "markdown",
   "id": "governing-chuck",
   "metadata": {},
   "source": [
    "there is huge disparity between the x values so we use feature scaling"
   ]
  },
  {
   "cell_type": "code",
   "execution_count": 57,
   "id": "responsible-giant",
   "metadata": {},
   "outputs": [
    {
     "data": {
      "text/plain": [
       "array([[ 4.6119201 , -1.10962   ,  3.53184628, ...,  7.96817027,\n",
       "         1.48974933, -0.11265796],\n",
       "       [ 6.07901328, -0.88369987,  3.20720932, ...,  2.6357689 ,\n",
       "        -0.57429457,  1.39493336],\n",
       "       [ 4.79821765, -1.10962   ,  2.30074366, ...,  2.61093306,\n",
       "         0.9000225 , -2.37404493],\n",
       "       ...,\n",
       "       [-0.60441118,  1.14958124, -0.65451776, ..., -0.63379666,\n",
       "        -1.75374823,  0.6411377 ],\n",
       "       [-0.72084715,  0.24590074, -0.4988908 , ..., -0.5213049 ,\n",
       "         0.60515909,  0.6411377 ],\n",
       "       [-0.81399592,  2.50510198,  0.02172764, ..., -0.19040383,\n",
       "        -1.1640214 ,  1.39493336]])"
      ]
     },
     "execution_count": 57,
     "metadata": {},
     "output_type": "execute_result"
    }
   ],
   "source": [
    "from sklearn.preprocessing import StandardScaler\n",
    "sc = StandardScaler()\n",
    "x=sc.fit_transform(x)\n",
    "x"
   ]
  },
  {
   "cell_type": "code",
   "execution_count": 58,
   "id": "tropical-region",
   "metadata": {},
   "outputs": [],
   "source": [
    "\n",
    "pickle.dump(sc,open(\"scalar_movies.pkl\",\"wb\"))"
   ]
  },
  {
   "cell_type": "markdown",
   "id": "stable-charles",
   "metadata": {},
   "source": [
    "## splitting the data to train and test\n",
    "Let us allocate allocate 80% of the dataset to training set and the remaining 20% to test set.\n"
   ]
  },
  {
   "cell_type": "code",
   "execution_count": 59,
   "id": "designed-organizer",
   "metadata": {},
   "outputs": [],
   "source": [
    "from sklearn.model_selection import train_test_split\n",
    "x_train,x_test,y_train,y_test=train_test_split(x,y,test_size=0.1,random_state=0)"
   ]
  },
  {
   "cell_type": "markdown",
   "id": "governing-tomato",
   "metadata": {},
   "source": [
    "## Model Building\n",
    "Let us build a model using linear regression algorithm "
   ]
  },
  {
   "cell_type": "code",
   "execution_count": 60,
   "id": "noticed-poultry",
   "metadata": {},
   "outputs": [
    {
     "data": {
      "text/plain": [
       "LinearRegression()"
      ]
     },
     "execution_count": 60,
     "metadata": {},
     "output_type": "execute_result"
    }
   ],
   "source": [
    "from sklearn.linear_model import LinearRegression\n",
    "mr=LinearRegression()\n",
    "mr.fit(x_train,y_train)"
   ]
  },
  {
   "cell_type": "code",
   "execution_count": 61,
   "id": "further-russell",
   "metadata": {
    "scrolled": true
   },
   "outputs": [
    {
     "data": {
      "text/plain": [
       "array([[ 0.02434304, -0.43185963,  0.08863398, ..., -0.14219308,\n",
       "         0.31029567,  0.6411377 ],\n",
       "       [ 0.02434304,  0.24590074, -0.46284717, ..., -0.12466189,\n",
       "         1.48974933, -1.62024927],\n",
       "       [-0.62769838,  0.24590074,  0.01199324, ..., -0.00705688,\n",
       "        -1.45888481, -0.11265796],\n",
       "       ...,\n",
       "       [ 0.39693813, -1.10962   ,  0.24511761, ..., -0.03627552,\n",
       "        -1.1640214 ,  0.6411377 ],\n",
       "       [-0.69755995,  2.50510198, -0.57822433, ..., -0.60676942,\n",
       "         1.19488592,  0.6411377 ],\n",
       "       [ 1.14212831, -0.88369987,  0.37839529, ..., -0.0538067 ,\n",
       "         0.31029567,  0.6411377 ]])"
      ]
     },
     "execution_count": 61,
     "metadata": {},
     "output_type": "execute_result"
    }
   ],
   "source": [
    "x_test"
   ]
  },
  {
   "cell_type": "code",
   "execution_count": 62,
   "id": "institutional-heart",
   "metadata": {
    "scrolled": true
   },
   "outputs": [
    {
     "data": {
      "text/html": [
       "<div>\n",
       "<style scoped>\n",
       "    .dataframe tbody tr th:only-of-type {\n",
       "        vertical-align: middle;\n",
       "    }\n",
       "\n",
       "    .dataframe tbody tr th {\n",
       "        vertical-align: top;\n",
       "    }\n",
       "\n",
       "    .dataframe thead th {\n",
       "        text-align: right;\n",
       "    }\n",
       "</style>\n",
       "<table border=\"1\" class=\"dataframe\">\n",
       "  <thead>\n",
       "    <tr style=\"text-align: right;\">\n",
       "      <th></th>\n",
       "      <th>revenue</th>\n",
       "    </tr>\n",
       "  </thead>\n",
       "  <tbody>\n",
       "    <tr>\n",
       "      <th>1045</th>\n",
       "      <td>95</td>\n",
       "    </tr>\n",
       "    <tr>\n",
       "      <th>1974</th>\n",
       "      <td>0</td>\n",
       "    </tr>\n",
       "    <tr>\n",
       "      <th>2883</th>\n",
       "      <td>12</td>\n",
       "    </tr>\n",
       "    <tr>\n",
       "      <th>117</th>\n",
       "      <td>474</td>\n",
       "    </tr>\n",
       "    <tr>\n",
       "      <th>3074</th>\n",
       "      <td>3</td>\n",
       "    </tr>\n",
       "  </tbody>\n",
       "</table>\n",
       "</div>"
      ],
      "text/plain": [
       "      revenue\n",
       "1045       95\n",
       "1974        0\n",
       "2883       12\n",
       "117       474\n",
       "3074        3"
      ]
     },
     "execution_count": 62,
     "metadata": {},
     "output_type": "execute_result"
    }
   ],
   "source": [
    "y_test[0:5]"
   ]
  },
  {
   "cell_type": "code",
   "execution_count": 63,
   "id": "digital-lotus",
   "metadata": {},
   "outputs": [
    {
     "data": {
      "text/plain": [
       "array([[9.86634531e+01],\n",
       "       [1.02443603e+02],\n",
       "       [5.59910264e+01],\n",
       "       [4.87061207e+02],\n",
       "       [6.12251255e-03]])"
      ]
     },
     "execution_count": 63,
     "metadata": {},
     "output_type": "execute_result"
    }
   ],
   "source": [
    "y_pred_mr=mr.predict(x_test)\n",
    "y_pred_mr[0:5]\n"
   ]
  },
  {
   "cell_type": "code",
   "execution_count": 64,
   "id": "seasonal-berry",
   "metadata": {},
   "outputs": [
    {
     "data": {
      "text/plain": [
       "376955224.0"
      ]
     },
     "execution_count": 64,
     "metadata": {},
     "output_type": "execute_result"
    }
   ],
   "source": [
    "3.76955224*100000000"
   ]
  },
  {
   "cell_type": "code",
   "execution_count": 65,
   "id": "valuable-madison",
   "metadata": {},
   "outputs": [
    {
     "data": {
      "text/html": [
       "<div>\n",
       "<style scoped>\n",
       "    .dataframe tbody tr th:only-of-type {\n",
       "        vertical-align: middle;\n",
       "    }\n",
       "\n",
       "    .dataframe tbody tr th {\n",
       "        vertical-align: top;\n",
       "    }\n",
       "\n",
       "    .dataframe thead th {\n",
       "        text-align: right;\n",
       "    }\n",
       "</style>\n",
       "<table border=\"1\" class=\"dataframe\">\n",
       "  <thead>\n",
       "    <tr style=\"text-align: right;\">\n",
       "      <th></th>\n",
       "      <th>revenue</th>\n",
       "    </tr>\n",
       "  </thead>\n",
       "  <tbody>\n",
       "    <tr>\n",
       "      <th>1045</th>\n",
       "      <td>95</td>\n",
       "    </tr>\n",
       "    <tr>\n",
       "      <th>1974</th>\n",
       "      <td>0</td>\n",
       "    </tr>\n",
       "    <tr>\n",
       "      <th>2883</th>\n",
       "      <td>12</td>\n",
       "    </tr>\n",
       "    <tr>\n",
       "      <th>117</th>\n",
       "      <td>474</td>\n",
       "    </tr>\n",
       "    <tr>\n",
       "      <th>3074</th>\n",
       "      <td>3</td>\n",
       "    </tr>\n",
       "    <tr>\n",
       "      <th>...</th>\n",
       "      <td>...</td>\n",
       "    </tr>\n",
       "    <tr>\n",
       "      <th>3949</th>\n",
       "      <td>11</td>\n",
       "    </tr>\n",
       "    <tr>\n",
       "      <th>252</th>\n",
       "      <td>227</td>\n",
       "    </tr>\n",
       "    <tr>\n",
       "      <th>807</th>\n",
       "      <td>113</td>\n",
       "    </tr>\n",
       "    <tr>\n",
       "      <th>3209</th>\n",
       "      <td>0</td>\n",
       "    </tr>\n",
       "    <tr>\n",
       "      <th>472</th>\n",
       "      <td>105</td>\n",
       "    </tr>\n",
       "  </tbody>\n",
       "</table>\n",
       "<p>358 rows × 1 columns</p>\n",
       "</div>"
      ],
      "text/plain": [
       "      revenue\n",
       "1045       95\n",
       "1974        0\n",
       "2883       12\n",
       "117       474\n",
       "3074        3\n",
       "...       ...\n",
       "3949       11\n",
       "252       227\n",
       "807       113\n",
       "3209        0\n",
       "472       105\n",
       "\n",
       "[358 rows x 1 columns]"
      ]
     },
     "execution_count": 65,
     "metadata": {},
     "output_type": "execute_result"
    }
   ],
   "source": [
    "y_test"
   ]
  },
  {
   "cell_type": "markdown",
   "id": "vietnamese-fifth",
   "metadata": {},
   "source": [
    "### Model_Evaluation\n",
    "Finally, we need to check to see how well our model is performing on the test data."
   ]
  },
  {
   "cell_type": "code",
   "execution_count": 66,
   "id": "eb17ccd6",
   "metadata": {},
   "outputs": [
    {
     "name": "stdout",
     "output_type": "stream",
     "text": [
      "[[1084342.49832107]]\n"
     ]
    }
   ],
   "source": [
    "print(mr.predict([[237,0,150.437577,162,7.2,11800,12,3]]))"
   ]
  },
  {
   "cell_type": "code",
   "execution_count": 67,
   "id": "green-preview",
   "metadata": {},
   "outputs": [
    {
     "name": "stdout",
     "output_type": "stream",
     "text": [
      "MAE: 56.52469203504346\n",
      "RMSE: 7.518290499511405\n"
     ]
    }
   ],
   "source": [
    "from sklearn import metrics\n",
    "print(\"MAE:\",metrics.mean_absolute_error(y_test,y_pred_mr))\n",
    "print(\"RMSE:\",np.sqrt(metrics.mean_absolute_error(y_test,y_pred_mr)))"
   ]
  },
  {
   "cell_type": "code",
   "execution_count": 68,
   "id": "seasonal-balance",
   "metadata": {},
   "outputs": [
    {
     "data": {
      "text/plain": [
       "0.7174831346811807"
      ]
     },
     "execution_count": 68,
     "metadata": {},
     "output_type": "execute_result"
    }
   ],
   "source": [
    "from sklearn.metrics import r2_score\n",
    "r2_score(y_test,y_pred_mr)"
   ]
  },
  {
   "cell_type": "code",
   "execution_count": 69,
   "id": "interesting-sword",
   "metadata": {
    "scrolled": false
   },
   "outputs": [
    {
     "name": "stderr",
     "output_type": "stream",
     "text": [
      "C:\\Users\\JEYASA~1\\AppData\\Local\\Temp/ipykernel_5360/2465732484.py:4: DataConversionWarning: A column-vector y was passed when a 1d array was expected. Please change the shape of y to (n_samples,), for example using ravel().\n",
      "  rf.fit(x_train, y_train)\n"
     ]
    },
    {
     "data": {
      "text/plain": [
       "0.7174831346811807"
      ]
     },
     "execution_count": 69,
     "metadata": {},
     "output_type": "execute_result"
    }
   ],
   "source": [
    "from sklearn.ensemble import RandomForestRegressor\n",
    "\n",
    "rf = RandomForestRegressor(n_jobs = -1, random_state = 42)\n",
    "rf.fit(x_train, y_train)\n",
    "y_pred_mr=mr.predict(x_test)\n",
    "r2_score(y_test,y_pred_mr)"
   ]
  },
  {
   "cell_type": "markdown",
   "id": "stretch-headline",
   "metadata": {},
   "source": [
    "### Saving the model\n",
    "After building the model we have to save the model.\n",
    "Pickle is used for serializing and de-serializing Python object structures, also called marshalling or flattening. "
   ]
  },
  {
   "cell_type": "code",
   "execution_count": 70,
   "id": "express-williams",
   "metadata": {},
   "outputs": [],
   "source": [
    "import pickle\n",
    "pickle.dump(mr,open(\"model_movies.pkl\",\"wb\"))"
   ]
  },
  {
   "cell_type": "code",
   "execution_count": 71,
   "id": "reverse-danger",
   "metadata": {},
   "outputs": [],
   "source": [
    "model=pickle.load(open(\"model_movies.pkl\",\"rb\"))\n",
    "scalar=pickle.load(open(\"scalar_movies.pkl\",\"rb\"))"
   ]
  },
  {
   "cell_type": "code",
   "execution_count": 72,
   "id": "desirable-rabbit",
   "metadata": {},
   "outputs": [
    {
     "name": "stderr",
     "output_type": "stream",
     "text": [
      "F:\\Anaconda\\lib\\site-packages\\sklearn\\base.py:450: UserWarning: X does not have valid feature names, but StandardScaler was fitted with feature names\n",
      "  warnings.warn(\n"
     ]
    }
   ],
   "source": [
    "input=[[50,8,20.239061,88,5,366,7,3]]\n",
    "input=scalar.transform(input)\n",
    "prediction = model.predict(input)"
   ]
  },
  {
   "cell_type": "code",
   "execution_count": 73,
   "id": "micro-candle",
   "metadata": {},
   "outputs": [
    {
     "data": {
      "text/plain": [
       "array([[88.47998522]])"
      ]
     },
     "execution_count": 73,
     "metadata": {},
     "output_type": "execute_result"
    }
   ],
   "source": [
    "prediction"
   ]
  },
  {
   "cell_type": "code",
   "execution_count": 74,
   "id": "behavioral-landing",
   "metadata": {},
   "outputs": [
    {
     "data": {
      "text/plain": [
       "0.7174831346811807"
      ]
     },
     "execution_count": 74,
     "metadata": {},
     "output_type": "execute_result"
    }
   ],
   "source": [
    "mr.score(x_test,y_test)"
   ]
  },
  {
   "cell_type": "markdown",
   "id": "consistent-change",
   "metadata": {},
   "source": [
    "we have got 71 % accuracy by using linear regression algorithm"
   ]
  }
 ],
 "metadata": {
  "kernelspec": {
   "display_name": "Python 3 (ipykernel)",
   "language": "python",
   "name": "python3"
  },
  "language_info": {
   "codemirror_mode": {
    "name": "ipython",
    "version": 3
   },
   "file_extension": ".py",
   "mimetype": "text/x-python",
   "name": "python",
   "nbconvert_exporter": "python",
   "pygments_lexer": "ipython3",
   "version": "3.9.7"
  }
 },
 "nbformat": 4,
 "nbformat_minor": 5
}
